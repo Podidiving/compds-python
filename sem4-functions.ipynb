{
  "nbformat": 4,
  "nbformat_minor": 0,
  "metadata": {
    "colab": {
      "provenance": []
    },
    "kernelspec": {
      "name": "python3",
      "display_name": "Python 3"
    },
    "language_info": {
      "name": "python"
    }
  },
  "cells": [
    {
      "cell_type": "markdown",
      "source": [
        "# Functions\n",
        "Functions -- \"first class objects\":\n",
        "\n",
        "- создаются в рантайме\n",
        "- присваиваются переменным или элементам в структурах данных\n",
        "- используются как аргумент в других функциях\n",
        "- возвращаются как результат работы функций\n",
        "\n",
        "Ровно так же работают, например, string, list и прочие рассмотренные ранее примеры\n",
        "\n",
        "### Базовый синтаксис"
      ],
      "metadata": {
        "id": "NzXhNhw5myA8"
      }
    },
    {
      "cell_type": "code",
      "execution_count": null,
      "metadata": {
        "colab": {
          "base_uri": "https://localhost:8080/"
        },
        "id": "Ic3DrRo6mkG-",
        "outputId": "a4374c66-4f4b-47c4-a10d-7cf320f357f5"
      },
      "outputs": [
        {
          "output_type": "stream",
          "name": "stdout",
          "text": [
            "Hello, world!\n"
          ]
        }
      ],
      "source": [
        "def func():  # name and function arguments\n",
        "    \"\"\"\n",
        "    Doc string to be shown in help\n",
        "    \"\"\"\n",
        "    print(\"Hello, world!\") # body\n",
        "\n",
        "func()"
      ]
    },
    {
      "cell_type": "code",
      "source": [
        "help(func)"
      ],
      "metadata": {
        "colab": {
          "base_uri": "https://localhost:8080/"
        },
        "id": "skNZZCc4m5Dr",
        "outputId": "fa63b051-3025-4ee6-d96a-d57e8cd62f6e"
      },
      "execution_count": null,
      "outputs": [
        {
          "output_type": "stream",
          "name": "stdout",
          "text": [
            "Help on function func in module __main__:\n",
            "\n",
            "func()\n",
            "    Doc string to be shown in help\n",
            "\n"
          ]
        }
      ]
    },
    {
      "cell_type": "code",
      "source": [
        "func.__doc__"
      ],
      "metadata": {
        "colab": {
          "base_uri": "https://localhost:8080/",
          "height": 35
        },
        "id": "PZhei_6-m5Tx",
        "outputId": "c09cd67b-9bfc-4c4d-b4a1-f48b14b6521d"
      },
      "execution_count": null,
      "outputs": [
        {
          "output_type": "execute_result",
          "data": {
            "text/plain": [
              "'\\n    Doc string to be shown in help\\n    '"
            ],
            "application/vnd.google.colaboratory.intrinsic+json": {
              "type": "string"
            }
          },
          "metadata": {},
          "execution_count": 42
        }
      ]
    },
    {
      "cell_type": "markdown",
      "source": [
        "`positional argument` и `keyword argument`"
      ],
      "metadata": {
        "id": "kq3zitj5nAhD"
      }
    },
    {
      "cell_type": "code",
      "source": [
        "def f(a, b=0):\n",
        "    return a + b\n",
        "\n",
        "f([1,2,3], [4,5,6])"
      ],
      "metadata": {
        "colab": {
          "base_uri": "https://localhost:8080/"
        },
        "id": "stn8KMWJnECC",
        "outputId": "7a12f8fd-9c81-4a58-b585-6e264e18ad9e"
      },
      "execution_count": null,
      "outputs": [
        {
          "output_type": "execute_result",
          "data": {
            "text/plain": [
              "[1, 2, 3, 4, 5, 6]"
            ]
          },
          "metadata": {},
          "execution_count": 43
        }
      ]
    },
    {
      "cell_type": "code",
      "source": [
        "f([1,2,3], b=[4,5,6])"
      ],
      "metadata": {
        "colab": {
          "base_uri": "https://localhost:8080/"
        },
        "id": "joMas1uAspkP",
        "outputId": "0a8a9faa-8e47-458a-d0ba-6708cf6cee75"
      },
      "execution_count": null,
      "outputs": [
        {
          "output_type": "execute_result",
          "data": {
            "text/plain": [
              "[1, 2, 3, 4, 5, 6]"
            ]
          },
          "metadata": {},
          "execution_count": 44
        }
      ]
    },
    {
      "cell_type": "code",
      "source": [
        "f(a=[1,2,3], b)"
      ],
      "metadata": {
        "colab": {
          "base_uri": "https://localhost:8080/",
          "height": 140
        },
        "id": "Gg-pE0Y9st9J",
        "outputId": "bf57844f-1f7d-4a87-c7f3-35aa3158c66f"
      },
      "execution_count": null,
      "outputs": [
        {
          "output_type": "error",
          "ename": "SyntaxError",
          "evalue": "ignored",
          "traceback": [
            "\u001b[0;36m  File \u001b[0;32m\"<ipython-input-45-13e3a120f07a>\"\u001b[0;36m, line \u001b[0;32m1\u001b[0m\n\u001b[0;31m    f(a=[1,2,3], b)\u001b[0m\n\u001b[0m                  ^\u001b[0m\n\u001b[0;31mSyntaxError\u001b[0m\u001b[0;31m:\u001b[0m positional argument follows keyword argument\n"
          ]
        }
      ]
    },
    {
      "cell_type": "code",
      "source": [
        "f(b=[1,2,3], a=[4,5,6])"
      ],
      "metadata": {
        "colab": {
          "base_uri": "https://localhost:8080/"
        },
        "id": "SFxO7Us9sv8T",
        "outputId": "810bc0f4-9230-418a-a81c-11d461eeaf50"
      },
      "execution_count": null,
      "outputs": [
        {
          "output_type": "execute_result",
          "data": {
            "text/plain": [
              "[4, 5, 6, 1, 2, 3]"
            ]
          },
          "metadata": {},
          "execution_count": 46
        }
      ]
    },
    {
      "cell_type": "code",
      "source": [
        "def f(a=[1,]):\n",
        "    print(id(a))\n",
        "    a.append(4)\n",
        "    return a\n",
        "\n",
        "f([1,2,3])"
      ],
      "metadata": {
        "colab": {
          "base_uri": "https://localhost:8080/"
        },
        "id": "s-SyT8jzs0-H",
        "outputId": "e730ef44-1303-428a-d972-e092dd1286e1"
      },
      "execution_count": null,
      "outputs": [
        {
          "output_type": "stream",
          "name": "stdout",
          "text": [
            "138042046595200\n"
          ]
        },
        {
          "output_type": "execute_result",
          "data": {
            "text/plain": [
              "[1, 2, 3, 4]"
            ]
          },
          "metadata": {},
          "execution_count": 72
        }
      ]
    },
    {
      "cell_type": "code",
      "source": [
        "f()"
      ],
      "metadata": {
        "colab": {
          "base_uri": "https://localhost:8080/"
        },
        "id": "Q5_-uyWos8xf",
        "outputId": "56076948-2884-47ae-fb35-827bf4a2ce81"
      },
      "execution_count": null,
      "outputs": [
        {
          "output_type": "stream",
          "name": "stdout",
          "text": [
            "138042045812864\n"
          ]
        },
        {
          "output_type": "execute_result",
          "data": {
            "text/plain": [
              "[1, 4]"
            ]
          },
          "metadata": {},
          "execution_count": 73
        }
      ]
    },
    {
      "cell_type": "code",
      "source": [
        "f()"
      ],
      "metadata": {
        "colab": {
          "base_uri": "https://localhost:8080/"
        },
        "id": "wml1rSqqtSvo",
        "outputId": "7b7e8961-ff5e-44a8-ac08-11e86fd24506"
      },
      "execution_count": null,
      "outputs": [
        {
          "output_type": "stream",
          "name": "stdout",
          "text": [
            "138042045812864\n"
          ]
        },
        {
          "output_type": "execute_result",
          "data": {
            "text/plain": [
              "[1, 4, 4]"
            ]
          },
          "metadata": {},
          "execution_count": 74
        }
      ]
    },
    {
      "cell_type": "code",
      "source": [
        "f()"
      ],
      "metadata": {
        "colab": {
          "base_uri": "https://localhost:8080/"
        },
        "id": "BzDmenoitTYq",
        "outputId": "d7b4028e-f05b-4620-9cf6-68bf2bb6ed78"
      },
      "execution_count": null,
      "outputs": [
        {
          "output_type": "stream",
          "name": "stdout",
          "text": [
            "138042045812864\n"
          ]
        },
        {
          "output_type": "execute_result",
          "data": {
            "text/plain": [
              "[1, 4, 4, 4]"
            ]
          },
          "metadata": {},
          "execution_count": 75
        }
      ]
    },
    {
      "cell_type": "markdown",
      "source": [
        "`positional only` & `keyword only`\n",
        "\n",
        "[pep](https://peps.python.org/pep-0570/)"
      ],
      "metadata": {
        "id": "og5f10WQnEJK"
      }
    },
    {
      "cell_type": "code",
      "source": [
        "def f(*, a):\n",
        "    pass\n",
        "\n",
        "f(a=1)"
      ],
      "metadata": {
        "id": "_1dv7TStvkbW"
      },
      "execution_count": null,
      "outputs": []
    },
    {
      "cell_type": "code",
      "source": [
        "# def name(a, b, /, c, *, d):\n",
        "#     pass\n",
        "\n",
        "# name(1, 2, 3, d=4)"
      ],
      "metadata": {
        "id": "8Desnd9-ugsu"
      },
      "execution_count": null,
      "outputs": []
    },
    {
      "cell_type": "code",
      "source": [
        "def f(a, b, c, /):\n",
        "    pass"
      ],
      "metadata": {
        "id": "upa31_BUvRV5"
      },
      "execution_count": null,
      "outputs": []
    },
    {
      "cell_type": "code",
      "source": [
        "# a = [1,2,3]\n",
        "\n",
        "# a.append?"
      ],
      "metadata": {
        "id": "3MBsuq9JvVGr"
      },
      "execution_count": null,
      "outputs": []
    },
    {
      "cell_type": "code",
      "source": [
        "# def name(positional_only_parameters, /, positional_or_keyword_parameters,\n",
        "#          *, keyword_only_parameters):"
      ],
      "metadata": {
        "id": "8A1XjTABtt7x"
      },
      "execution_count": null,
      "outputs": []
    },
    {
      "cell_type": "code",
      "source": [
        "def f(a, b, /, c, d, *, e):\n",
        "    pass"
      ],
      "metadata": {
        "id": "z9XIq_GSm63h"
      },
      "execution_count": null,
      "outputs": []
    },
    {
      "cell_type": "code",
      "source": [
        "f(1, 2, 3, d=4, e=5)"
      ],
      "metadata": {
        "id": "H4Uu1T7buBI5"
      },
      "execution_count": null,
      "outputs": []
    },
    {
      "cell_type": "code",
      "source": [
        "f(1, 2, 3, 4, 5)"
      ],
      "metadata": {
        "colab": {
          "base_uri": "https://localhost:8080/",
          "height": 174
        },
        "id": "0I0cvTEPuF0N",
        "outputId": "11dd54a9-773a-41b3-c264-4b172743d22a"
      },
      "execution_count": null,
      "outputs": [
        {
          "output_type": "error",
          "ename": "TypeError",
          "evalue": "ignored",
          "traceback": [
            "\u001b[0;31m---------------------------------------------------------------------------\u001b[0m",
            "\u001b[0;31mTypeError\u001b[0m                                 Traceback (most recent call last)",
            "\u001b[0;32m<ipython-input-102-54b2bdc1ef75>\u001b[0m in \u001b[0;36m<cell line: 1>\u001b[0;34m()\u001b[0m\n\u001b[0;32m----> 1\u001b[0;31m \u001b[0mf\u001b[0m\u001b[0;34m(\u001b[0m\u001b[0;36m1\u001b[0m\u001b[0;34m,\u001b[0m \u001b[0;36m2\u001b[0m\u001b[0;34m,\u001b[0m \u001b[0;36m3\u001b[0m\u001b[0;34m,\u001b[0m \u001b[0;36m4\u001b[0m\u001b[0;34m,\u001b[0m \u001b[0;36m5\u001b[0m\u001b[0;34m)\u001b[0m\u001b[0;34m\u001b[0m\u001b[0;34m\u001b[0m\u001b[0m\n\u001b[0m",
            "\u001b[0;31mTypeError\u001b[0m: f() takes 4 positional arguments but 5 were given"
          ]
        }
      ]
    },
    {
      "cell_type": "code",
      "source": [
        "def f(a, b=3, /, c=5, d=6, *, e=7):\n",
        "    pass"
      ],
      "metadata": {
        "id": "FY9d6v6puMsD"
      },
      "execution_count": null,
      "outputs": []
    },
    {
      "cell_type": "markdown",
      "source": [
        "#### Return"
      ],
      "metadata": {
        "id": "amTK4YOYnQNR"
      }
    },
    {
      "cell_type": "code",
      "source": [
        "def f(a, b):\n",
        "    return a, b"
      ],
      "metadata": {
        "id": "OeJPzv7_nRKu"
      },
      "execution_count": null,
      "outputs": []
    },
    {
      "cell_type": "code",
      "source": [
        "a = 1\n",
        "b = \"variable\"\n",
        "\n",
        "c, d = f(a, b)\n",
        "\n",
        "print(f\"{id(a)=} {id(c)=}\")\n",
        "print(f\"{id(b)=} {id(d)=}\")"
      ],
      "metadata": {
        "colab": {
          "base_uri": "https://localhost:8080/"
        },
        "id": "J7-Rgj_dvzPJ",
        "outputId": "0e8895de-9a9e-44d9-d4c6-da21f02eddf2"
      },
      "execution_count": null,
      "outputs": [
        {
          "output_type": "stream",
          "name": "stdout",
          "text": [
            "id(a)=138043358560496 id(c)=138043358560496\n",
            "id(b)=138043351720816 id(d)=138043351720816\n"
          ]
        }
      ]
    },
    {
      "cell_type": "code",
      "source": [
        "def f(a):\n",
        "    a.append(3)\n",
        "\n",
        "a = [1,2]\n",
        "f(a)\n",
        "a"
      ],
      "metadata": {
        "colab": {
          "base_uri": "https://localhost:8080/"
        },
        "id": "PrHCiV7zwCH2",
        "outputId": "d531b5d3-c3e1-4d55-99e7-5ee6202b6e4c"
      },
      "execution_count": null,
      "outputs": [
        {
          "output_type": "execute_result",
          "data": {
            "text/plain": [
              "[1, 2, 3]"
            ]
          },
          "metadata": {},
          "execution_count": 109
        }
      ]
    },
    {
      "cell_type": "markdown",
      "source": [
        "#### Recursion"
      ],
      "metadata": {
        "id": "GCzPEKQQnRdc"
      }
    },
    {
      "cell_type": "code",
      "source": [
        "def factorial(n, /):\n",
        "    if n < 0:\n",
        "        raise ValueError(\"n is negative\")\n",
        "    if n == 0:\n",
        "        return 1\n",
        "    return n * factorial(n - 1)"
      ],
      "metadata": {
        "id": "AV1rAoqxnSTA"
      },
      "execution_count": null,
      "outputs": []
    },
    {
      "cell_type": "markdown",
      "source": [
        "Memoization"
      ],
      "metadata": {
        "id": "v14Ws3P4xCvC"
      }
    },
    {
      "cell_type": "markdown",
      "source": [
        "[cache](https://docs.python.org/3/library/functools.html#functools.cache)"
      ],
      "metadata": {
        "id": "6MPnzSglxg_N"
      }
    },
    {
      "cell_type": "code",
      "source": [
        "def decorator(func):\n",
        "    def inner_func(*args, **kwargs):\n",
        "        _ = func(*args, **kwargs)\n",
        "    return inner_func"
      ],
      "metadata": {
        "id": "WMOxT_XKwPE3"
      },
      "execution_count": null,
      "outputs": []
    },
    {
      "cell_type": "code",
      "source": [
        "## 1\n",
        "@decorator\n",
        "def func():\n",
        "    pass\n",
        "\n",
        "## 2\n",
        "def func():\n",
        "    pass\n",
        "\n",
        "func = decorator(func)"
      ],
      "metadata": {
        "id": "XIoCCvlrxxOw"
      },
      "execution_count": null,
      "outputs": []
    },
    {
      "cell_type": "code",
      "source": [
        "# from functools import wraps\n",
        "\n",
        "def cache_decorator(func):\n",
        "    cache_table = dict()\n",
        "\n",
        "    # @wraps(func)\n",
        "    def inner_func(*args, **kwargs):\n",
        "        n = args[0]\n",
        "        if n in cache_table:\n",
        "            return cache_table[n]\n",
        "        cache_table[n] = func(*args, **kwargs)\n",
        "        return cache_table[n]\n",
        "    inner_func.__doc__ = func.__doc__\n",
        "    return inner_func"
      ],
      "metadata": {
        "id": "xcgkqTybx-PS"
      },
      "execution_count": null,
      "outputs": []
    },
    {
      "cell_type": "code",
      "source": [
        "@cache_decorator\n",
        "def factorial(n: int, /):\n",
        "    \"\"\"\n",
        "        DOCSTRING\n",
        "    \"\"\"\n",
        "    if n < 0:\n",
        "        raise ValueError(\"n is negative\")\n",
        "    if n == 0:\n",
        "        print(\"factorial was called\")\n",
        "        return 1\n",
        "    return n * factorial(n - 1)\n",
        "\n",
        "# factorial = cache_decorator(factorial)"
      ],
      "metadata": {
        "id": "suHp-XLkzDWx"
      },
      "execution_count": null,
      "outputs": []
    },
    {
      "cell_type": "code",
      "source": [
        "print(factorial(5))\n",
        "factorial(5)"
      ],
      "metadata": {
        "colab": {
          "base_uri": "https://localhost:8080/"
        },
        "id": "H3AOGWBJzJV4",
        "outputId": "25711cf3-4772-4013-a20d-a817d0b0695e"
      },
      "execution_count": null,
      "outputs": [
        {
          "output_type": "stream",
          "name": "stdout",
          "text": [
            "factorial was called\n",
            "120\n"
          ]
        },
        {
          "output_type": "execute_result",
          "data": {
            "text/plain": [
              "120"
            ]
          },
          "metadata": {},
          "execution_count": 147
        }
      ]
    },
    {
      "cell_type": "code",
      "source": [
        "help(factorial)"
      ],
      "metadata": {
        "colab": {
          "base_uri": "https://localhost:8080/"
        },
        "id": "iF2VIEnlztHs",
        "outputId": "489ddb86-1762-491d-cc56-ed36bc94a8c9"
      },
      "execution_count": null,
      "outputs": [
        {
          "output_type": "stream",
          "name": "stdout",
          "text": [
            "Help on function inner_func in module __main__:\n",
            "\n",
            "inner_func(*args, **kwargs)\n",
            "    DOCSTRING\n",
            "\n"
          ]
        }
      ]
    },
    {
      "cell_type": "markdown",
      "source": [
        "#### Variable scope"
      ],
      "metadata": {
        "id": "ow73DRonnSpq"
      }
    },
    {
      "cell_type": "code",
      "source": [
        "def f(a):\n",
        "    print(a)\n",
        "    print(q)"
      ],
      "metadata": {
        "id": "mshJT2xNnT34"
      },
      "execution_count": null,
      "outputs": []
    },
    {
      "cell_type": "code",
      "source": [
        "f(1)"
      ],
      "metadata": {
        "colab": {
          "base_uri": "https://localhost:8080/",
          "height": 276
        },
        "id": "y6g2UYvN1O2V",
        "outputId": "1d84722e-eb9a-4744-c19e-c705b7b240f1"
      },
      "execution_count": null,
      "outputs": [
        {
          "output_type": "stream",
          "name": "stdout",
          "text": [
            "1\n"
          ]
        },
        {
          "output_type": "error",
          "ename": "NameError",
          "evalue": "ignored",
          "traceback": [
            "\u001b[0;31m---------------------------------------------------------------------------\u001b[0m",
            "\u001b[0;31mNameError\u001b[0m                                 Traceback (most recent call last)",
            "\u001b[0;32m<ipython-input-150-281ab0a37d7d>\u001b[0m in \u001b[0;36m<cell line: 1>\u001b[0;34m()\u001b[0m\n\u001b[0;32m----> 1\u001b[0;31m \u001b[0mf\u001b[0m\u001b[0;34m(\u001b[0m\u001b[0;36m1\u001b[0m\u001b[0;34m)\u001b[0m\u001b[0;34m\u001b[0m\u001b[0;34m\u001b[0m\u001b[0m\n\u001b[0m",
            "\u001b[0;32m<ipython-input-149-299b90bcb226>\u001b[0m in \u001b[0;36mf\u001b[0;34m(a)\u001b[0m\n\u001b[1;32m      1\u001b[0m \u001b[0;32mdef\u001b[0m \u001b[0mf\u001b[0m\u001b[0;34m(\u001b[0m\u001b[0ma\u001b[0m\u001b[0;34m)\u001b[0m\u001b[0;34m:\u001b[0m\u001b[0;34m\u001b[0m\u001b[0;34m\u001b[0m\u001b[0m\n\u001b[1;32m      2\u001b[0m     \u001b[0mprint\u001b[0m\u001b[0;34m(\u001b[0m\u001b[0ma\u001b[0m\u001b[0;34m)\u001b[0m\u001b[0;34m\u001b[0m\u001b[0;34m\u001b[0m\u001b[0m\n\u001b[0;32m----> 3\u001b[0;31m     \u001b[0mprint\u001b[0m\u001b[0;34m(\u001b[0m\u001b[0mq\u001b[0m\u001b[0;34m)\u001b[0m\u001b[0;34m\u001b[0m\u001b[0;34m\u001b[0m\u001b[0m\n\u001b[0m",
            "\u001b[0;31mNameError\u001b[0m: name 'q' is not defined"
          ]
        }
      ]
    },
    {
      "cell_type": "code",
      "source": [
        "q = 3\n",
        "f(1)"
      ],
      "metadata": {
        "colab": {
          "base_uri": "https://localhost:8080/"
        },
        "id": "a85tnDcj1PhY",
        "outputId": "808c8d17-cf7e-4ebe-f59e-02896d54a4d9"
      },
      "execution_count": null,
      "outputs": [
        {
          "output_type": "stream",
          "name": "stdout",
          "text": [
            "1\n",
            "3\n"
          ]
        }
      ]
    },
    {
      "cell_type": "code",
      "source": [
        "def f(a):\n",
        "    q = 4\n",
        "    def g():\n",
        "        print(a)\n",
        "        print(q)\n",
        "    g()"
      ],
      "metadata": {
        "id": "PuSCwNP31Yy0"
      },
      "execution_count": null,
      "outputs": []
    },
    {
      "cell_type": "code",
      "source": [
        "f(1)"
      ],
      "metadata": {
        "colab": {
          "base_uri": "https://localhost:8080/"
        },
        "id": "mwApIWLV1Th8",
        "outputId": "e13ad5f7-cfe9-479e-90fb-e588232bc7ad"
      },
      "execution_count": null,
      "outputs": [
        {
          "output_type": "stream",
          "name": "stdout",
          "text": [
            "1\n",
            "4\n"
          ]
        }
      ]
    },
    {
      "cell_type": "code",
      "source": [
        "def f(a):\n",
        "    print(a)\n",
        "    print(q)\n",
        "q = 3\n",
        "f(1)"
      ],
      "metadata": {
        "colab": {
          "base_uri": "https://localhost:8080/"
        },
        "id": "prvlxsem1e61",
        "outputId": "4aa1b435-39c3-47cf-ce76-a5d8221cd5cf"
      },
      "execution_count": null,
      "outputs": [
        {
          "output_type": "stream",
          "name": "stdout",
          "text": [
            "1\n",
            "3\n"
          ]
        }
      ]
    },
    {
      "cell_type": "code",
      "source": [
        "def f(a):\n",
        "    print(a)\n",
        "    print(q)\n",
        "    q = 13"
      ],
      "metadata": {
        "id": "iCDpvSbH1p7p"
      },
      "execution_count": null,
      "outputs": []
    },
    {
      "cell_type": "code",
      "source": [
        "f(1)"
      ],
      "metadata": {
        "colab": {
          "base_uri": "https://localhost:8080/",
          "height": 293
        },
        "id": "dcOOHslo1sZF",
        "outputId": "552cd378-9970-4037-b77f-991fe0e963a0"
      },
      "execution_count": null,
      "outputs": [
        {
          "output_type": "stream",
          "name": "stdout",
          "text": [
            "1\n"
          ]
        },
        {
          "output_type": "error",
          "ename": "UnboundLocalError",
          "evalue": "ignored",
          "traceback": [
            "\u001b[0;31m---------------------------------------------------------------------------\u001b[0m",
            "\u001b[0;31mUnboundLocalError\u001b[0m                         Traceback (most recent call last)",
            "\u001b[0;32m<ipython-input-167-281ab0a37d7d>\u001b[0m in \u001b[0;36m<cell line: 1>\u001b[0;34m()\u001b[0m\n\u001b[0;32m----> 1\u001b[0;31m \u001b[0mf\u001b[0m\u001b[0;34m(\u001b[0m\u001b[0;36m1\u001b[0m\u001b[0;34m)\u001b[0m\u001b[0;34m\u001b[0m\u001b[0;34m\u001b[0m\u001b[0m\n\u001b[0m",
            "\u001b[0;32m<ipython-input-165-2515e3853074>\u001b[0m in \u001b[0;36mf\u001b[0;34m(a)\u001b[0m\n\u001b[1;32m      1\u001b[0m \u001b[0;32mdef\u001b[0m \u001b[0mf\u001b[0m\u001b[0;34m(\u001b[0m\u001b[0ma\u001b[0m\u001b[0;34m)\u001b[0m\u001b[0;34m:\u001b[0m\u001b[0;34m\u001b[0m\u001b[0;34m\u001b[0m\u001b[0m\n\u001b[1;32m      2\u001b[0m     \u001b[0mprint\u001b[0m\u001b[0;34m(\u001b[0m\u001b[0ma\u001b[0m\u001b[0;34m)\u001b[0m\u001b[0;34m\u001b[0m\u001b[0;34m\u001b[0m\u001b[0m\n\u001b[0;32m----> 3\u001b[0;31m     \u001b[0mprint\u001b[0m\u001b[0;34m(\u001b[0m\u001b[0mq\u001b[0m\u001b[0;34m)\u001b[0m\u001b[0;34m\u001b[0m\u001b[0;34m\u001b[0m\u001b[0m\n\u001b[0m\u001b[1;32m      4\u001b[0m     \u001b[0mq\u001b[0m \u001b[0;34m=\u001b[0m \u001b[0;36m13\u001b[0m\u001b[0;34m\u001b[0m\u001b[0;34m\u001b[0m\u001b[0m\n",
            "\u001b[0;31mUnboundLocalError\u001b[0m: local variable 'q' referenced before assignment"
          ]
        }
      ]
    },
    {
      "cell_type": "code",
      "source": [
        "def f(a):\n",
        "    global q\n",
        "    # nonlocal q\n",
        "    print(f\"{id(q)=}\")\n",
        "    print(a)\n",
        "    print(q)\n",
        "    q = 13"
      ],
      "metadata": {
        "id": "ZVvoMtNH2BtJ"
      },
      "execution_count": null,
      "outputs": []
    },
    {
      "cell_type": "code",
      "source": [
        "print(f\"{id(q)=}\")"
      ],
      "metadata": {
        "colab": {
          "base_uri": "https://localhost:8080/"
        },
        "id": "3-8IcyoQ1zuS",
        "outputId": "f8f71ef5-7180-47ea-93c0-a00f512df9a7"
      },
      "execution_count": null,
      "outputs": [
        {
          "output_type": "stream",
          "name": "stdout",
          "text": [
            "id(q)=138043358560880\n"
          ]
        }
      ]
    },
    {
      "cell_type": "code",
      "source": [
        "q"
      ],
      "metadata": {
        "colab": {
          "base_uri": "https://localhost:8080/"
        },
        "id": "inwjD_R32GUu",
        "outputId": "16ea7ee5-a835-4722-d1e0-03f41207e848"
      },
      "execution_count": null,
      "outputs": [
        {
          "output_type": "execute_result",
          "data": {
            "text/plain": [
              "13"
            ]
          },
          "metadata": {},
          "execution_count": 182
        }
      ]
    },
    {
      "cell_type": "code",
      "source": [
        "f(1)"
      ],
      "metadata": {
        "colab": {
          "base_uri": "https://localhost:8080/"
        },
        "id": "qai0l5jn2I1x",
        "outputId": "667798e9-0796-44e7-ff3f-437351de985c"
      },
      "execution_count": null,
      "outputs": [
        {
          "output_type": "stream",
          "name": "stdout",
          "text": [
            "id(q)=138043358560880\n",
            "1\n",
            "13\n"
          ]
        }
      ]
    },
    {
      "cell_type": "markdown",
      "source": [
        "### Practice\n",
        "\n",
        "\n",
        "#### Binary search\n",
        "\n",
        "Поиск элемента в отсортированном по неубыванию массиве.\n",
        "\n",
        "1. Считаем индекс середины массива\n",
        "2. Если элемент по этому индексу и есть искомый, то возвращаем индекс\n",
        "3. Если средний элемент < искомого, то производим такой же поиск в правой половине массива\n",
        "4. Если средний элемент > искомого, то ищем в левой половине"
      ],
      "metadata": {
        "id": "t2jdoOwOnkLP"
      }
    },
    {
      "cell_type": "code",
      "source": [
        "a = [1,2,5,3,4]\n",
        "x = 4\n",
        "# Naive: O(N)\n",
        "\n",
        "# Sort: O(NlogN)\n",
        "a = [1,2,3,4,5,6]\n",
        "x = 4\n",
        "# Binary Search: O(logN)"
      ],
      "metadata": {
        "id": "sU6QfM4G3MDq"
      },
      "execution_count": null,
      "outputs": []
    },
    {
      "cell_type": "code",
      "source": [
        "def binary_search_recursive(arr, low_ind, high_ind, val):\n",
        "    # base case\n",
        "    print(low_ind, high_ind, arr[low_ind: high_ind])\n",
        "\n",
        "    if high_ind >= low_ind:\n",
        "        mid_ind = (high_ind + low_ind) // 2\n",
        "\n",
        "        if val == arr[mid_ind]:\n",
        "            return mid_ind\n",
        "\n",
        "        elif arr[mid_ind] > val:\n",
        "            return binary_search_recursive(arr, low_ind, mid_ind - 1, val)\n",
        "\n",
        "        else:\n",
        "            return binary_search_recursive(arr, mid_ind + 1, high_ind, val)\n",
        "\n",
        "    else:\n",
        "        return -1"
      ],
      "metadata": {
        "id": "Q-xstjhRnnyJ"
      },
      "execution_count": null,
      "outputs": []
    },
    {
      "cell_type": "code",
      "source": [
        "a = list(range(20))\n",
        "\n",
        "binary_search_recursive(a, 0, len(a) - 1, 30)"
      ],
      "metadata": {
        "colab": {
          "base_uri": "https://localhost:8080/"
        },
        "id": "2O_3yq8DnsOe",
        "outputId": "e7808c6d-4835-4c1d-8a3c-2a9312789868"
      },
      "execution_count": null,
      "outputs": [
        {
          "output_type": "stream",
          "name": "stdout",
          "text": [
            "0 19 [0, 1, 2, 3, 4, 5, 6, 7, 8, 9, 10, 11, 12, 13, 14, 15, 16, 17, 18]\n",
            "10 19 [10, 11, 12, 13, 14, 15, 16, 17, 18]\n",
            "15 19 [15, 16, 17, 18]\n",
            "18 19 [18]\n",
            "19 19 []\n",
            "20 19 []\n"
          ]
        },
        {
          "output_type": "execute_result",
          "data": {
            "text/plain": [
              "-1"
            ]
          },
          "metadata": {},
          "execution_count": 185
        }
      ]
    },
    {
      "cell_type": "code",
      "source": [
        "def binary_search(arr: list, val: int) -> int:\n",
        "    low_ind = 0\n",
        "    high_ind = len(arr) - 1\n",
        "\n",
        "    while high_ind >= low_ind:\n",
        "        mid_ind = (low_ind + high_ind) // 2\n",
        "        if val > arr[mid_ind]:\n",
        "            low_ind = mid_ind\n",
        "        elif val < arr[mid_ind]:\n",
        "            high_ind = mid_ind\n",
        "        else:\n",
        "            return mid_ind\n",
        "    return -1"
      ],
      "metadata": {
        "id": "q2XvCJ86nua2"
      },
      "execution_count": null,
      "outputs": []
    },
    {
      "cell_type": "code",
      "source": [
        "binary_search(a, 10)"
      ],
      "metadata": {
        "colab": {
          "base_uri": "https://localhost:8080/"
        },
        "id": "mPlo8AkQnv0I",
        "outputId": "e8d89041-58b3-4fa1-88fd-a35f55138b4a"
      },
      "execution_count": null,
      "outputs": [
        {
          "output_type": "execute_result",
          "data": {
            "text/plain": [
              "10"
            ]
          },
          "metadata": {},
          "execution_count": 187
        }
      ]
    },
    {
      "cell_type": "markdown",
      "source": [
        "#### Bisect\n",
        "[docs](https://docs.python.org/3/library/bisect.html)\n",
        "\n",
        "*bisect* -- модуль, в котором реализованы операции по поиску наилучшего идекса вставки элемента в отсортированный массив. Внутри функции реализованы по принципу бинарного поиска по аналогии с алгоритмом, который мы рассмотрели выше"
      ],
      "metadata": {
        "id": "64kdRSNwnzrL"
      }
    },
    {
      "cell_type": "code",
      "source": [
        "from bisect import bisect_left, bisect_right\n",
        "\n",
        "def binary_search_bisect(arr, value):\n",
        "    i = bisect_left(arr, value)\n",
        "    if i != len(arr) and arr[i] == value:\n",
        "        return i\n",
        "    return -1"
      ],
      "metadata": {
        "id": "eZlp2nQ2nw7p"
      },
      "execution_count": null,
      "outputs": []
    },
    {
      "cell_type": "code",
      "source": [
        "help(bisect_left)"
      ],
      "metadata": {
        "colab": {
          "base_uri": "https://localhost:8080/"
        },
        "id": "DCcFUc6in6kF",
        "outputId": "d5012269-1fe7-40b5-b817-9e0cfb5a302f"
      },
      "execution_count": null,
      "outputs": [
        {
          "output_type": "stream",
          "name": "stdout",
          "text": [
            "Help on built-in function bisect_left in module _bisect:\n",
            "\n",
            "bisect_left(a, x, lo=0, hi=None, *, key=None)\n",
            "    Return the index where to insert item x in list a, assuming a is sorted.\n",
            "    \n",
            "    The return value i is such that all e in a[:i] have e < x, and all e in\n",
            "    a[i:] have e >= x.  So if x already appears in the list, a.insert(i, x) will\n",
            "    insert just before the leftmost x already there.\n",
            "    \n",
            "    Optional args lo (default 0) and hi (default len(a)) bound the\n",
            "    slice of a to be searched.\n",
            "\n"
          ]
        }
      ]
    },
    {
      "cell_type": "code",
      "source": [
        "size = 10**6\n",
        "large_array = [i for i in range(size)]"
      ],
      "metadata": {
        "id": "9kiQAvtDoAj1"
      },
      "execution_count": null,
      "outputs": []
    },
    {
      "cell_type": "code",
      "source": [
        "value = 900000"
      ],
      "metadata": {
        "id": "znJTCLhwoLW7"
      },
      "execution_count": null,
      "outputs": []
    },
    {
      "cell_type": "code",
      "source": [
        "%%timeit -n 100\n",
        "value in large_array"
      ],
      "metadata": {
        "colab": {
          "base_uri": "https://localhost:8080/"
        },
        "id": "7pBRzHqnoM0f",
        "outputId": "a034d543-d1af-4bf8-c274-1eb8146ede02"
      },
      "execution_count": null,
      "outputs": [
        {
          "output_type": "stream",
          "name": "stdout",
          "text": [
            "10.4 ms ± 2 ms per loop (mean ± std. dev. of 7 runs, 100 loops each)\n"
          ]
        }
      ]
    },
    {
      "cell_type": "code",
      "source": [
        "%%timeit -n 100\n",
        "large_array.index(value)"
      ],
      "metadata": {
        "colab": {
          "base_uri": "https://localhost:8080/"
        },
        "id": "uKLm3kgKoObO",
        "outputId": "262f3091-358b-4feb-9c4b-ecf8b2589322"
      },
      "execution_count": null,
      "outputs": [
        {
          "output_type": "stream",
          "name": "stdout",
          "text": [
            "12.2 ms ± 3.32 ms per loop (mean ± std. dev. of 7 runs, 100 loops each)\n"
          ]
        }
      ]
    },
    {
      "cell_type": "code",
      "source": [
        "%%timeit -n 100\n",
        "binary_search_bisect(large_array, value)"
      ],
      "metadata": {
        "colab": {
          "base_uri": "https://localhost:8080/"
        },
        "id": "05VKLzaaoPd5",
        "outputId": "4018ce92-c425-411c-fb23-585a590f9daa"
      },
      "execution_count": null,
      "outputs": [
        {
          "output_type": "stream",
          "name": "stdout",
          "text": [
            "1.31 µs ± 125 ns per loop (mean ± std. dev. of 7 runs, 100 loops each)\n"
          ]
        }
      ]
    },
    {
      "cell_type": "markdown",
      "source": [
        "#### Наибольший общий делитель\n",
        "$a$, $b$ -- неотрицательные числа. Наибольший общий делитель -- наибольшее число, которое является делителем и $a$, и $b$.\n",
        "\n",
        "Существует алгоритм Евклида, который можно писать так:\n",
        "\n",
        "`gcd(a, b) = a if b = 0`\n",
        "\n",
        "`gcd(a, b) = gcd(b, a mod b)` otherwise"
      ],
      "metadata": {
        "id": "7yFHg7JJobK8"
      }
    },
    {
      "cell_type": "code",
      "source": [
        "def gcd_recursive(a, b):\n",
        "    pass"
      ],
      "metadata": {
        "id": "Xxz0oc4EoQl4"
      },
      "execution_count": null,
      "outputs": []
    },
    {
      "cell_type": "code",
      "source": [
        "gcd_recursive(8, 10)"
      ],
      "metadata": {
        "id": "IgCFP2RMos9U"
      },
      "execution_count": null,
      "outputs": []
    },
    {
      "cell_type": "code",
      "source": [
        "def gcd(a, b):\n",
        "    pass"
      ],
      "metadata": {
        "id": "hDU0bWduoq6x"
      },
      "execution_count": null,
      "outputs": []
    },
    {
      "cell_type": "code",
      "source": [
        "gcd(8, 10)"
      ],
      "metadata": {
        "id": "TV2GHRtBoui5"
      },
      "execution_count": null,
      "outputs": []
    },
    {
      "cell_type": "markdown",
      "source": [
        "### Higher order functions"
      ],
      "metadata": {
        "id": "lu7ZFqKAo2cj"
      }
    },
    {
      "cell_type": "code",
      "source": [
        "def f():\n",
        "    print(\"F\")\n",
        "\n",
        "def g(f):\n",
        "    f()\n",
        "\n",
        "g(f)"
      ],
      "metadata": {
        "colab": {
          "base_uri": "https://localhost:8080/"
        },
        "id": "9giTZ6VN6ZKl",
        "outputId": "a3f861bd-7ebd-435f-b1ae-53cee4d7e1f6"
      },
      "execution_count": null,
      "outputs": [
        {
          "output_type": "stream",
          "name": "stdout",
          "text": [
            "F\n"
          ]
        }
      ]
    },
    {
      "cell_type": "code",
      "source": [
        "f.some_attr = 12"
      ],
      "metadata": {
        "id": "IhkaurMg6foZ"
      },
      "execution_count": null,
      "outputs": []
    },
    {
      "cell_type": "code",
      "source": [
        "f()"
      ],
      "metadata": {
        "colab": {
          "base_uri": "https://localhost:8080/"
        },
        "id": "4DeV45x86jTD",
        "outputId": "24b00817-b49e-4e42-8a2a-7062f7657e64"
      },
      "execution_count": null,
      "outputs": [
        {
          "output_type": "stream",
          "name": "stdout",
          "text": [
            "F\n"
          ]
        }
      ]
    },
    {
      "cell_type": "code",
      "source": [
        "f.some_attr"
      ],
      "metadata": {
        "colab": {
          "base_uri": "https://localhost:8080/"
        },
        "id": "jooH9vuq6kQ8",
        "outputId": "7407379e-c989-49d9-9064-b5307bce1f7f"
      },
      "execution_count": null,
      "outputs": [
        {
          "output_type": "execute_result",
          "data": {
            "text/plain": [
              "12"
            ]
          },
          "metadata": {},
          "execution_count": 199
        }
      ]
    },
    {
      "cell_type": "code",
      "source": [
        "sample_list = [1, [2.], '3 ', (4, 5), 8.]\n",
        "sample_list"
      ],
      "metadata": {
        "colab": {
          "base_uri": "https://localhost:8080/"
        },
        "id": "leU3Y4S6ovj-",
        "outputId": "7521d8ad-7f5e-47ab-dcd5-55e701c97736"
      },
      "execution_count": null,
      "outputs": [
        {
          "output_type": "execute_result",
          "data": {
            "text/plain": [
              "[1, [2.0], '3 ', (4, 5), 8.0]"
            ]
          },
          "metadata": {},
          "execution_count": 200
        }
      ]
    },
    {
      "cell_type": "code",
      "source": [
        "sorted(sample_list)"
      ],
      "metadata": {
        "colab": {
          "base_uri": "https://localhost:8080/",
          "height": 174
        },
        "id": "Ob7Nmnu9pHxV",
        "outputId": "b0ad445f-9837-418e-98f8-52985301e54b"
      },
      "execution_count": null,
      "outputs": [
        {
          "output_type": "error",
          "ename": "TypeError",
          "evalue": "ignored",
          "traceback": [
            "\u001b[0;31m---------------------------------------------------------------------------\u001b[0m",
            "\u001b[0;31mTypeError\u001b[0m                                 Traceback (most recent call last)",
            "\u001b[0;32m<ipython-input-201-71cc475abac2>\u001b[0m in \u001b[0;36m<cell line: 1>\u001b[0;34m()\u001b[0m\n\u001b[0;32m----> 1\u001b[0;31m \u001b[0msorted\u001b[0m\u001b[0;34m(\u001b[0m\u001b[0msample_list\u001b[0m\u001b[0;34m)\u001b[0m\u001b[0;34m\u001b[0m\u001b[0;34m\u001b[0m\u001b[0m\n\u001b[0m",
            "\u001b[0;31mTypeError\u001b[0m: '<' not supported between instances of 'list' and 'int'"
          ]
        }
      ]
    },
    {
      "cell_type": "code",
      "source": [
        "def comparator(x):\n",
        "    if isinstance(x, str):\n",
        "        return int(x.strip())\n",
        "    elif isinstance(x, tuple) or isinstance(x, list):\n",
        "        return x[0]\n",
        "    else:\n",
        "        return x\n",
        "\n",
        "sorted(sample_list, key=comparator)"
      ],
      "metadata": {
        "colab": {
          "base_uri": "https://localhost:8080/"
        },
        "id": "NEvdqwyepMXu",
        "outputId": "badd281b-df2a-49ca-dbaf-ea8d31238b03"
      },
      "execution_count": null,
      "outputs": [
        {
          "output_type": "execute_result",
          "data": {
            "text/plain": [
              "[1, [2.0], '3 ', (4, 5), 8.0]"
            ]
          },
          "metadata": {},
          "execution_count": 203
        }
      ]
    },
    {
      "cell_type": "code",
      "source": [
        "def decrease(x):\n",
        "    return -x\n",
        "\n",
        "sample_list = [1,2,3,4,5,6,7]\n",
        "sorted(sample_list, key=decrease)"
      ],
      "metadata": {
        "colab": {
          "base_uri": "https://localhost:8080/"
        },
        "id": "ybbqoJ7kpNuD",
        "outputId": "853269ae-9f91-4639-e34e-22f5cc836906"
      },
      "execution_count": null,
      "outputs": [
        {
          "output_type": "execute_result",
          "data": {
            "text/plain": [
              "[7, 6, 5, 4, 3, 2, 1]"
            ]
          },
          "metadata": {},
          "execution_count": 204
        }
      ]
    },
    {
      "cell_type": "code",
      "source": [
        "sample_list = [1,2,3,4,5,6,7]\n",
        "sorted(sample_list, key=lambda x: -x)"
      ],
      "metadata": {
        "colab": {
          "base_uri": "https://localhost:8080/"
        },
        "id": "Q3G3GL71pQFg",
        "outputId": "0d391f77-9d19-4398-dd87-c448e33596dd"
      },
      "execution_count": null,
      "outputs": [
        {
          "output_type": "execute_result",
          "data": {
            "text/plain": [
              "[7, 6, 5, 4, 3, 2, 1]"
            ]
          },
          "metadata": {},
          "execution_count": 205
        }
      ]
    },
    {
      "cell_type": "markdown",
      "source": [
        "### Annotations"
      ],
      "metadata": {
        "id": "4Y-l6zlXpBlX"
      }
    },
    {
      "cell_type": "code",
      "source": [
        "def test_str(s: str, max_len: int = 10, name: str = 'test') -> int:\n",
        "    some_var = 0\n",
        "    other_var = '10'\n",
        "    return s[:max_len]"
      ],
      "metadata": {
        "id": "_N-F4fGHpVCi"
      },
      "execution_count": null,
      "outputs": []
    },
    {
      "cell_type": "code",
      "source": [
        "# test_str.__annotations__"
      ],
      "metadata": {
        "id": "g98ObE2lpWmr"
      },
      "execution_count": null,
      "outputs": []
    },
    {
      "cell_type": "code",
      "source": [
        "from inspect import signature"
      ],
      "metadata": {
        "id": "qjF8BK0RpaAL"
      },
      "execution_count": null,
      "outputs": []
    },
    {
      "cell_type": "code",
      "source": [
        "# sig = signature(test_str)"
      ],
      "metadata": {
        "id": "thc14L3NpahF"
      },
      "execution_count": null,
      "outputs": []
    },
    {
      "cell_type": "code",
      "source": [
        "# sig.return_annotation"
      ],
      "metadata": {
        "id": "1mwNZfHZpcQm"
      },
      "execution_count": null,
      "outputs": []
    },
    {
      "cell_type": "code",
      "source": [
        "# sig.parameters.values()"
      ],
      "metadata": {
        "id": "8g3ubhcupdgF"
      },
      "execution_count": null,
      "outputs": []
    },
    {
      "cell_type": "markdown",
      "source": [
        "---"
      ],
      "metadata": {
        "id": "DBZ_7CSDpBnw"
      }
    }
  ]
}