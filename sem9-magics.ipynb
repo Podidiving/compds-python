{
  "nbformat": 4,
  "nbformat_minor": 0,
  "metadata": {
    "colab": {
      "provenance": []
    },
    "kernelspec": {
      "name": "python3",
      "display_name": "Python 3"
    },
    "language_info": {
      "name": "python"
    }
  },
  "cells": [
    {
      "cell_type": "markdown",
      "source": [
        "## Descriptors\n",
        "\n",
        "Короткое описание в [доке](https://docs.python.org/3/reference/datamodel.html#invoking-descriptors)\n",
        "\n",
        "Должны быть методы `__get__`, `__set__`, `__delete__`\n",
        "\n",
        "Обычно когда в Python мы хотим получить доступ к атрибуту класса, то сначала мы ищем его в `__dict__` инстанса класса, потом в классе, и далее выше по цепочке наследования."
      ],
      "metadata": {
        "id": "y80rnH9nfXlz"
      }
    },
    {
      "cell_type": "code",
      "execution_count": 1,
      "metadata": {
        "id": "ZhEDGtRJfUrl"
      },
      "outputs": [],
      "source": [
        "class Car:\n",
        "    def __init__(self, car_name: str, max_speed: int):\n",
        "        self.car_name = car_name\n",
        "        self.max_speed = max_speed\n",
        "\n",
        "    def __str__(self):\n",
        "        return f\"This is {self.car_name} with max speed: {self.max_speed}\""
      ]
    },
    {
      "cell_type": "code",
      "source": [
        "car1 = Car(\"BMW\", 250)\n",
        "print(car1)"
      ],
      "metadata": {
        "colab": {
          "base_uri": "https://localhost:8080/"
        },
        "id": "QnsOp32uf9Q1",
        "outputId": "bed98bf2-d071-4c8d-ff58-92cbf92578e3"
      },
      "execution_count": 2,
      "outputs": [
        {
          "output_type": "stream",
          "name": "stdout",
          "text": [
            "This is BMW with max speed: 250\n"
          ]
        }
      ]
    },
    {
      "cell_type": "code",
      "source": [
        "car1.max_speed = 280\n",
        "print(car1)"
      ],
      "metadata": {
        "colab": {
          "base_uri": "https://localhost:8080/"
        },
        "id": "f-6SrL7GgC5M",
        "outputId": "6fc8118e-d527-4f96-c51c-0f85b96af756"
      },
      "execution_count": 3,
      "outputs": [
        {
          "output_type": "stream",
          "name": "stdout",
          "text": [
            "This is BMW with max speed: 280\n"
          ]
        }
      ]
    },
    {
      "cell_type": "code",
      "source": [
        "car1.max_speed = \"max_speed\"\n",
        "print(car1)"
      ],
      "metadata": {
        "colab": {
          "base_uri": "https://localhost:8080/"
        },
        "id": "fQ2bkhPGgA_O",
        "outputId": "53b29fdf-f3aa-40a3-e198-7bc0ea1b5a54"
      },
      "execution_count": 5,
      "outputs": [
        {
          "output_type": "stream",
          "name": "stdout",
          "text": [
            "This is BMW with max speed: max_speed\n"
          ]
        }
      ]
    },
    {
      "cell_type": "code",
      "source": [
        "class MaxSpeedDescriptor:\n",
        "    def __init__(self):\n",
        "        self._max_speed = 0\n",
        "\n",
        "    def __get__(self, instance, owner):\n",
        "        print(\"GET METHOD FOR MAXSPEEDDESCRIPTOR\")\n",
        "        return self._max_speed\n",
        "\n",
        "    def __set__(self, instance, value):\n",
        "        print(\"SET METHOD FOR MAXSPEEDDESCRIPTOR\")\n",
        "        if not isinstance(value, int):\n",
        "            raise TypeError(\"some strange type, must be int\")\n",
        "        if value < 0:\n",
        "            raise ValueError(\"max speed cannot be negative\")\n",
        "        self._max_speed = value\n",
        "\n",
        "    def __delete__(self, instance):\n",
        "        del self._max_speed\n",
        "\n",
        "class Car:\n",
        "    max_speed = MaxSpeedDescriptor()\n",
        "    def __init__(self, car_name: str, max_speed: int):\n",
        "        self.car_name = car_name\n",
        "        self.max_speed = max_speed\n",
        "\n",
        "    def __str__(self):\n",
        "        return f\"This is {self.car_name} with max speed: {self.max_speed}\""
      ],
      "metadata": {
        "id": "6smuzSyRgKvZ"
      },
      "execution_count": 26,
      "outputs": []
    },
    {
      "cell_type": "code",
      "source": [
        "car1 = Car(\"BMW\", 250)"
      ],
      "metadata": {
        "colab": {
          "base_uri": "https://localhost:8080/"
        },
        "id": "LZ2EYcacg2X7",
        "outputId": "63ac97bc-a26c-497d-c507-8177a8594be6"
      },
      "execution_count": 27,
      "outputs": [
        {
          "output_type": "stream",
          "name": "stdout",
          "text": [
            "SET METHOD FOR MAXSPEEDDESCRIPTOR\n"
          ]
        }
      ]
    },
    {
      "cell_type": "code",
      "source": [
        "print(car1)"
      ],
      "metadata": {
        "colab": {
          "base_uri": "https://localhost:8080/"
        },
        "id": "wc-_c1zOhnYH",
        "outputId": "6bac2bd0-9544-4de7-f89c-eb512db8d365"
      },
      "execution_count": 28,
      "outputs": [
        {
          "output_type": "stream",
          "name": "stdout",
          "text": [
            "GET METHOD FOR MAXSPEEDDESCRIPTOR\n",
            "This is BMW with max speed: 250\n"
          ]
        }
      ]
    },
    {
      "cell_type": "code",
      "source": [
        "car1.max_speed = -1"
      ],
      "metadata": {
        "colab": {
          "base_uri": "https://localhost:8080/",
          "height": 310
        },
        "id": "TKPmczu-iITp",
        "outputId": "5a8d1653-e8e8-47c0-9a4d-835d3a207a20"
      },
      "execution_count": 29,
      "outputs": [
        {
          "output_type": "stream",
          "name": "stdout",
          "text": [
            "SET METHOD FOR MAXSPEEDDESCRIPTOR\n"
          ]
        },
        {
          "output_type": "error",
          "ename": "ValueError",
          "evalue": "ignored",
          "traceback": [
            "\u001b[0;31m---------------------------------------------------------------------------\u001b[0m",
            "\u001b[0;31mValueError\u001b[0m                                Traceback (most recent call last)",
            "\u001b[0;32m<ipython-input-29-3ea88b1f9333>\u001b[0m in \u001b[0;36m<cell line: 1>\u001b[0;34m()\u001b[0m\n\u001b[0;32m----> 1\u001b[0;31m \u001b[0mcar1\u001b[0m\u001b[0;34m.\u001b[0m\u001b[0mmax_speed\u001b[0m \u001b[0;34m=\u001b[0m \u001b[0;34m-\u001b[0m\u001b[0;36m1\u001b[0m\u001b[0;34m\u001b[0m\u001b[0;34m\u001b[0m\u001b[0m\n\u001b[0m",
            "\u001b[0;32m<ipython-input-26-d54a9180faa1>\u001b[0m in \u001b[0;36m__set__\u001b[0;34m(self, instance, value)\u001b[0m\n\u001b[1;32m     12\u001b[0m             \u001b[0;32mraise\u001b[0m \u001b[0mTypeError\u001b[0m\u001b[0;34m(\u001b[0m\u001b[0;34m\"some strange type, must be int\"\u001b[0m\u001b[0;34m)\u001b[0m\u001b[0;34m\u001b[0m\u001b[0;34m\u001b[0m\u001b[0m\n\u001b[1;32m     13\u001b[0m         \u001b[0;32mif\u001b[0m \u001b[0mvalue\u001b[0m \u001b[0;34m<\u001b[0m \u001b[0;36m0\u001b[0m\u001b[0;34m:\u001b[0m\u001b[0;34m\u001b[0m\u001b[0;34m\u001b[0m\u001b[0m\n\u001b[0;32m---> 14\u001b[0;31m             \u001b[0;32mraise\u001b[0m \u001b[0mValueError\u001b[0m\u001b[0;34m(\u001b[0m\u001b[0;34m\"max speed cannot be negative\"\u001b[0m\u001b[0;34m)\u001b[0m\u001b[0;34m\u001b[0m\u001b[0;34m\u001b[0m\u001b[0m\n\u001b[0m\u001b[1;32m     15\u001b[0m         \u001b[0mself\u001b[0m\u001b[0;34m.\u001b[0m\u001b[0m_max_speed\u001b[0m \u001b[0;34m=\u001b[0m \u001b[0mvalue\u001b[0m\u001b[0;34m\u001b[0m\u001b[0;34m\u001b[0m\u001b[0m\n\u001b[1;32m     16\u001b[0m \u001b[0;34m\u001b[0m\u001b[0m\n",
            "\u001b[0;31mValueError\u001b[0m: max speed cannot be negative"
          ]
        }
      ]
    },
    {
      "cell_type": "code",
      "source": [
        "# why do you need __get__ ?\n",
        "class MaxSpeedDescriptor:\n",
        "    def __init__(self):\n",
        "        self._max_speed = 0\n",
        "\n",
        "    # def __get__(self, instance, owner):\n",
        "    #     print(\"GET METHOD FOR MAXSPEEDDESCRIPTOR\")\n",
        "    #     return self._max_speed\n",
        "\n",
        "    def __set__(self, instance, value):\n",
        "        print(\"SET METHOD FOR MAXSPEEDDESCRIPTOR\")\n",
        "        if not isinstance(value, int):\n",
        "            raise TypeError(\"some strange type, must be int\")\n",
        "        if value < 0:\n",
        "            raise ValueError(\"max speed cannot be negative\")\n",
        "        self._max_speed = value\n",
        "\n",
        "    def __delete__(self, instance):\n",
        "        del self._max_speed\n",
        "\n",
        "class Car:\n",
        "    max_speed = MaxSpeedDescriptor()\n",
        "    def __init__(self, car_name: str, max_speed: int):\n",
        "        self.car_name = car_name\n",
        "        self.max_speed = max_speed\n",
        "\n",
        "    def __str__(self):\n",
        "        return f\"This is {self.car_name} with max speed: {self.max_speed}\"\n",
        "\n",
        "car1 = Car(\"BMW\", 250)\n",
        "print(car1)"
      ],
      "metadata": {
        "colab": {
          "base_uri": "https://localhost:8080/"
        },
        "id": "xEKC8vQSiADZ",
        "outputId": "c6c656cf-9969-401f-c3ba-ec45175f8857"
      },
      "execution_count": 25,
      "outputs": [
        {
          "output_type": "stream",
          "name": "stdout",
          "text": [
            "SET METHOD FOR MAXSPEEDDESCRIPTOR\n",
            "This is BMW with max speed: <__main__.MaxSpeedDescriptor object at 0x7fc9e4c61930>\n"
          ]
        }
      ]
    },
    {
      "cell_type": "code",
      "source": [
        "# ----"
      ],
      "metadata": {
        "id": "JpFyMvNPiXSu"
      },
      "execution_count": 30,
      "outputs": []
    },
    {
      "cell_type": "code",
      "source": [
        "class MaxSpeedDescriptor:\n",
        "    def __init__(self):\n",
        "        self._max_speed = 0\n",
        "\n",
        "    def __get__(self, instance, owner):\n",
        "        print(type(instance))\n",
        "        print(owner)\n",
        "        return self._max_speed\n",
        "\n",
        "    def __set__(self, instance, value):\n",
        "        print(type(instance))\n",
        "        if not isinstance(value, int):\n",
        "            raise TypeError(\"some strange type, must be int\")\n",
        "        if value < 0:\n",
        "            raise ValueError(\"max speed cannot be negative\")\n",
        "        self._max_speed = value\n",
        "\n",
        "    def __delete__(self, instance):\n",
        "        del self._max_speed\n",
        "\n",
        "class Car:\n",
        "    max_speed = MaxSpeedDescriptor()\n",
        "    def __init__(self, car_name: str, max_speed: int):\n",
        "        self.car_name = car_name\n",
        "        self.max_speed = max_speed\n",
        "\n",
        "    def __str__(self):\n",
        "        return f\"This is {self.car_name} with max speed: {self.max_speed}\""
      ],
      "metadata": {
        "id": "hlRVEbGyhMp7"
      },
      "execution_count": 42,
      "outputs": []
    },
    {
      "cell_type": "code",
      "source": [
        "car1 = Car(\"BMW\", 250)\n",
        "print(car1)"
      ],
      "metadata": {
        "colab": {
          "base_uri": "https://localhost:8080/"
        },
        "id": "zbSVY93sidbm",
        "outputId": "5899ddb4-7373-4f2c-c615-0b12b5e07f03"
      },
      "execution_count": 43,
      "outputs": [
        {
          "output_type": "stream",
          "name": "stdout",
          "text": [
            "<class '__main__.Car'>\n",
            "<class '__main__.Car'>\n",
            "<class '__main__.Car'>\n",
            "This is BMW with max speed: 250\n"
          ]
        }
      ]
    },
    {
      "cell_type": "code",
      "source": [
        "# ----"
      ],
      "metadata": {
        "id": "hmTA6pqRigAM"
      },
      "execution_count": 44,
      "outputs": []
    },
    {
      "cell_type": "code",
      "source": [
        "import os"
      ],
      "metadata": {
        "id": "iN0oONwGjGqd"
      },
      "execution_count": 45,
      "outputs": []
    },
    {
      "cell_type": "code",
      "source": [
        "class DirectorySize:\n",
        "    def __get__(self, instance, owner):\n",
        "        return len(os.listdir(instance.dir_name))\n",
        "\n",
        "class Directory:\n",
        "    size = DirectorySize()\n",
        "    def __init__(self, dir_name):\n",
        "        self.dir_name = dir_name"
      ],
      "metadata": {
        "id": "FUEVDrCpjHZ1"
      },
      "execution_count": 53,
      "outputs": []
    },
    {
      "cell_type": "code",
      "source": [
        "directory = Directory(\"./\")"
      ],
      "metadata": {
        "id": "wNdMleGCjJCk"
      },
      "execution_count": 54,
      "outputs": []
    },
    {
      "cell_type": "code",
      "source": [
        "directory.size"
      ],
      "metadata": {
        "colab": {
          "base_uri": "https://localhost:8080/"
        },
        "id": "viyU35TpjmP1",
        "outputId": "3df1c8f2-056d-410d-ad2e-997b2a36360d"
      },
      "execution_count": 55,
      "outputs": [
        {
          "output_type": "execute_result",
          "data": {
            "text/plain": [
              "2"
            ]
          },
          "metadata": {},
          "execution_count": 55
        }
      ]
    },
    {
      "cell_type": "code",
      "source": [
        "os.listdir(\".\")"
      ],
      "metadata": {
        "colab": {
          "base_uri": "https://localhost:8080/"
        },
        "id": "QDx3ICC8joOk",
        "outputId": "2083ec9e-3af1-4fe5-8336-ed73676ec025"
      },
      "execution_count": 58,
      "outputs": [
        {
          "output_type": "execute_result",
          "data": {
            "text/plain": [
              "['.config', 'sample_data']"
            ]
          },
          "metadata": {},
          "execution_count": 58
        }
      ]
    },
    {
      "cell_type": "code",
      "source": [
        "!true > temp.txt"
      ],
      "metadata": {
        "id": "3saRrB82kTK6"
      },
      "execution_count": 59,
      "outputs": []
    },
    {
      "cell_type": "code",
      "source": [
        "os.listdir(\".\")"
      ],
      "metadata": {
        "colab": {
          "base_uri": "https://localhost:8080/"
        },
        "id": "2IywFPdzkXO6",
        "outputId": "9bcf07fe-73f4-4a70-e36b-ccea4b3c2f19"
      },
      "execution_count": 60,
      "outputs": [
        {
          "output_type": "execute_result",
          "data": {
            "text/plain": [
              "['.config', 'temp.txt', 'sample_data']"
            ]
          },
          "metadata": {},
          "execution_count": 60
        }
      ]
    },
    {
      "cell_type": "code",
      "source": [
        "directory.size"
      ],
      "metadata": {
        "colab": {
          "base_uri": "https://localhost:8080/"
        },
        "id": "7cxe3yi4kYUO",
        "outputId": "97b0a53f-77ec-4bfa-e5b2-61f817efe66a"
      },
      "execution_count": 61,
      "outputs": [
        {
          "output_type": "execute_result",
          "data": {
            "text/plain": [
              "3"
            ]
          },
          "metadata": {},
          "execution_count": 61
        }
      ]
    },
    {
      "cell_type": "code",
      "source": [
        "# descriptor is not in the __dict__\n",
        "directory.__dict__"
      ],
      "metadata": {
        "colab": {
          "base_uri": "https://localhost:8080/"
        },
        "id": "FGI-iFW1kZnY",
        "outputId": "66eb6167-9cae-4539-c2b4-9f4be8ebaf6d"
      },
      "execution_count": 63,
      "outputs": [
        {
          "output_type": "execute_result",
          "data": {
            "text/plain": [
              "{'dir_name': './'}"
            ]
          },
          "metadata": {},
          "execution_count": 63
        }
      ]
    },
    {
      "cell_type": "code",
      "source": [
        "class Nuts:\n",
        "    def __init__(self, *args, **kwargs):\n",
        "        self.args = args\n",
        "        self.kwargs = kwargs\n",
        "\n",
        "    def __getattr__(self, obj):\n",
        "        print(\"getattr is called\")\n",
        "        return obj\n",
        "\n",
        "    def __delattr__(self, obj):\n",
        "        print(\"delattr is called\")\n",
        "        pass\n",
        "\n",
        "    def __getitem__(self, item):\n",
        "        print(\"getitem is called\")\n",
        "        return item\n",
        "\n",
        "    def __setitem__(self, item, value):\n",
        "        print(\"setitem is called\")\n",
        "        pass\n",
        "\n",
        "    def __delitem__(self, item):\n",
        "        print(\"delitem is called\")\n",
        "        pass\n",
        "\n",
        "    def __iter__(self):\n",
        "        return self\n",
        "\n",
        "    def __next__(self):\n",
        "        raise StopIteration()\n",
        "\n",
        "    def __str__(self):\n",
        "        return \"Theese are nuts\"\n",
        "\n",
        "    def __repr__(self):\n",
        "        return f'Nuts({self.args}, {self.kwargs})'"
      ],
      "metadata": {
        "id": "Ztl7GbIjkuQd"
      },
      "execution_count": 79,
      "outputs": []
    },
    {
      "cell_type": "code",
      "source": [
        "nuts = Nuts(1,2,3,4, item1=\"a\", item2=\"b\")\n",
        "nuts"
      ],
      "metadata": {
        "colab": {
          "base_uri": "https://localhost:8080/"
        },
        "id": "ira0Fjsll9FB",
        "outputId": "488c3176-869c-44e6-a7c1-69ae55fbcba1"
      },
      "execution_count": 80,
      "outputs": [
        {
          "output_type": "stream",
          "name": "stdout",
          "text": [
            "getattr is called\n",
            "getattr is called\n",
            "getattr is called\n",
            "getattr is called\n",
            "getattr is called\n",
            "getattr is called\n",
            "getattr is called\n",
            "getattr is called\n",
            "getattr is called\n",
            "getattr is called\n",
            "getattr is called\n",
            "getattr is called\n"
          ]
        },
        {
          "output_type": "execute_result",
          "data": {
            "text/plain": [
              "Nuts((1, 2, 3, 4), {'item1': 'a', 'item2': 'b'})"
            ]
          },
          "metadata": {},
          "execution_count": 80
        }
      ]
    },
    {
      "cell_type": "code",
      "source": [
        "print(nuts)"
      ],
      "metadata": {
        "colab": {
          "base_uri": "https://localhost:8080/"
        },
        "id": "4iJRAOPhmBWN",
        "outputId": "fbef46a1-ebc1-45f7-8da2-1fe64b764333"
      },
      "execution_count": 81,
      "outputs": [
        {
          "output_type": "stream",
          "name": "stdout",
          "text": [
            "Theese are nuts\n"
          ]
        }
      ]
    },
    {
      "cell_type": "code",
      "source": [
        "nuts.some_obj"
      ],
      "metadata": {
        "colab": {
          "base_uri": "https://localhost:8080/",
          "height": 52
        },
        "id": "RflDmy23mDSs",
        "outputId": "ef4ab107-2b83-4e9a-f96e-cba18d2d4c88"
      },
      "execution_count": 82,
      "outputs": [
        {
          "output_type": "stream",
          "name": "stdout",
          "text": [
            "getattr is called\n"
          ]
        },
        {
          "output_type": "execute_result",
          "data": {
            "text/plain": [
              "'some_obj'"
            ],
            "application/vnd.google.colaboratory.intrinsic+json": {
              "type": "string"
            }
          },
          "metadata": {},
          "execution_count": 82
        }
      ]
    },
    {
      "cell_type": "code",
      "source": [
        "nuts.args"
      ],
      "metadata": {
        "colab": {
          "base_uri": "https://localhost:8080/"
        },
        "id": "LMqOV8-ampW0",
        "outputId": "495e6e51-bfc6-4cb3-f918-92f21883e601"
      },
      "execution_count": 83,
      "outputs": [
        {
          "output_type": "execute_result",
          "data": {
            "text/plain": [
              "(1, 2, 3, 4)"
            ]
          },
          "metadata": {},
          "execution_count": 83
        }
      ]
    },
    {
      "cell_type": "code",
      "source": [
        "nuts.__getattr__(\"args\")"
      ],
      "metadata": {
        "colab": {
          "base_uri": "https://localhost:8080/",
          "height": 52
        },
        "id": "wyXHDT25mesc",
        "outputId": "e0243b06-671f-48d8-f108-30580d7a2778"
      },
      "execution_count": 84,
      "outputs": [
        {
          "output_type": "stream",
          "name": "stdout",
          "text": [
            "getattr is called\n"
          ]
        },
        {
          "output_type": "execute_result",
          "data": {
            "text/plain": [
              "'args'"
            ],
            "application/vnd.google.colaboratory.intrinsic+json": {
              "type": "string"
            }
          },
          "metadata": {},
          "execution_count": 84
        }
      ]
    },
    {
      "cell_type": "code",
      "source": [
        "del nuts.zcsvegv"
      ],
      "metadata": {
        "colab": {
          "base_uri": "https://localhost:8080/"
        },
        "id": "9jvKhuB1m8l5",
        "outputId": "088f6ac9-b735-4f88-883f-0e9461e9e803"
      },
      "execution_count": 86,
      "outputs": [
        {
          "output_type": "stream",
          "name": "stdout",
          "text": [
            "delattr is called\n"
          ]
        }
      ]
    },
    {
      "cell_type": "code",
      "source": [
        "nuts[123]\n",
        "\n",
        "nuts[123] = 123\n",
        "\n",
        "del nuts[123]"
      ],
      "metadata": {
        "colab": {
          "base_uri": "https://localhost:8080/"
        },
        "id": "fpvbTaspmjdZ",
        "outputId": "a7d26b4f-8728-4975-8196-e7c5f5379c00"
      },
      "execution_count": 87,
      "outputs": [
        {
          "output_type": "stream",
          "name": "stdout",
          "text": [
            "getitem is called\n",
            "setitem is called\n",
            "delitem is called\n"
          ]
        }
      ]
    },
    {
      "cell_type": "code",
      "source": [],
      "metadata": {
        "id": "aTY05RKWnItz"
      },
      "execution_count": null,
      "outputs": []
    },
    {
      "cell_type": "code",
      "source": [
        "class DoubleDict(dict):\n",
        "    def __setitem__(self, key, value):\n",
        "        super().__setitem__(key, value * 2)"
      ],
      "metadata": {
        "id": "IZrHQUA1nIv_"
      },
      "execution_count": 88,
      "outputs": []
    },
    {
      "cell_type": "code",
      "source": [
        "dd = DoubleDict()\n",
        "dd[\"a\"] = 1\n",
        "dd[\"b\"] = 2\n",
        "\n",
        "dd"
      ],
      "metadata": {
        "colab": {
          "base_uri": "https://localhost:8080/"
        },
        "id": "UawNo8EVnIyf",
        "outputId": "40b1184f-e588-4018-fbf6-bbb70b6ebc56"
      },
      "execution_count": 90,
      "outputs": [
        {
          "output_type": "execute_result",
          "data": {
            "text/plain": [
              "{'a': 2, 'b': 4}"
            ]
          },
          "metadata": {},
          "execution_count": 90
        }
      ]
    },
    {
      "cell_type": "code",
      "source": [
        "dd.update({\"c\": 3})\n",
        "\n",
        "dd"
      ],
      "metadata": {
        "colab": {
          "base_uri": "https://localhost:8080/"
        },
        "id": "i-4QojsHmsxG",
        "outputId": "213a2936-93b1-43c1-ec90-4b12ca84ebe5"
      },
      "execution_count": 91,
      "outputs": [
        {
          "output_type": "execute_result",
          "data": {
            "text/plain": [
              "{'a': 2, 'b': 4, 'c': 3}"
            ]
          },
          "metadata": {},
          "execution_count": 91
        }
      ]
    },
    {
      "cell_type": "code",
      "source": [
        "class DoubleDict(dict):\n",
        "    def __setitem__(self, key, value):\n",
        "        super().__setitem__(key, value * 2)\n",
        "\n",
        "    def update(self, other: dict):\n",
        "        for k, v in other.items():\n",
        "            self.__setitem__(k, v)"
      ],
      "metadata": {
        "id": "LiRyRcqLncBV"
      },
      "execution_count": 92,
      "outputs": []
    },
    {
      "cell_type": "code",
      "source": [
        "dd = DoubleDict()\n",
        "dd[\"a\"] = 1\n",
        "dd[\"b\"] = 2\n",
        "\n",
        "dd"
      ],
      "metadata": {
        "colab": {
          "base_uri": "https://localhost:8080/"
        },
        "id": "Kr4aEmVDnqih",
        "outputId": "baedd33b-af3f-4cb6-8024-5c4ad2cdabad"
      },
      "execution_count": 93,
      "outputs": [
        {
          "output_type": "execute_result",
          "data": {
            "text/plain": [
              "{'a': 2, 'b': 4}"
            ]
          },
          "metadata": {},
          "execution_count": 93
        }
      ]
    },
    {
      "cell_type": "code",
      "source": [
        "dd.update({\"c\": 3})\n",
        "\n",
        "dd"
      ],
      "metadata": {
        "colab": {
          "base_uri": "https://localhost:8080/"
        },
        "id": "jHg2koTbnrIg",
        "outputId": "17751fbb-b222-4477-efd7-280d5051396e"
      },
      "execution_count": 94,
      "outputs": [
        {
          "output_type": "execute_result",
          "data": {
            "text/plain": [
              "{'a': 2, 'b': 4, 'c': 6}"
            ]
          },
          "metadata": {},
          "execution_count": 94
        }
      ]
    },
    {
      "cell_type": "code",
      "source": [
        "class AnswerDict(dict):\n",
        "    def __getitem__(self, key):\n",
        "        return 42"
      ],
      "metadata": {
        "id": "kE-hE9XWnrqc"
      },
      "execution_count": 95,
      "outputs": []
    },
    {
      "cell_type": "code",
      "source": [
        "ad = AnswerDict()\n",
        "ad[\"a\"] = 100500\n",
        "\n",
        "ad"
      ],
      "metadata": {
        "colab": {
          "base_uri": "https://localhost:8080/"
        },
        "id": "AbqfO4m2n44o",
        "outputId": "85577895-cd17-48e2-a247-826bf08a349e"
      },
      "execution_count": 97,
      "outputs": [
        {
          "output_type": "execute_result",
          "data": {
            "text/plain": [
              "{'a': 42}"
            ]
          },
          "metadata": {},
          "execution_count": 97
        }
      ]
    },
    {
      "cell_type": "code",
      "source": [
        "d = dict()\n",
        "d.update(ad)"
      ],
      "metadata": {
        "id": "_QLBNtzjn8QF"
      },
      "execution_count": 98,
      "outputs": []
    },
    {
      "cell_type": "code",
      "source": [
        "d"
      ],
      "metadata": {
        "colab": {
          "base_uri": "https://localhost:8080/"
        },
        "id": "YdWeghKZoBUM",
        "outputId": "febb07f0-85a9-458a-9991-01d2428e18a1"
      },
      "execution_count": 99,
      "outputs": [
        {
          "output_type": "execute_result",
          "data": {
            "text/plain": [
              "{'a': 100500}"
            ]
          },
          "metadata": {},
          "execution_count": 99
        }
      ]
    },
    {
      "cell_type": "markdown",
      "source": [
        "Так произошло потому, что реализация метода update не использует измененные методы. Пофиксить можно наследованием от \"пользовательского словаря\" из модуля collections."
      ],
      "metadata": {
        "id": "Ig0MC7bQoP1y"
      }
    },
    {
      "cell_type": "code",
      "source": [
        "from collections import UserDict"
      ],
      "metadata": {
        "id": "Ega4d5nGoBaz"
      },
      "execution_count": 100,
      "outputs": []
    },
    {
      "cell_type": "code",
      "source": [
        "class DoubleDict(UserDict):\n",
        "    def __setitem__(self, key, value):\n",
        "        super().__setitem__(key, value * 2)"
      ],
      "metadata": {
        "id": "u3K7tqyEoS6R"
      },
      "execution_count": 102,
      "outputs": []
    },
    {
      "cell_type": "code",
      "source": [
        "dd = DoubleDict()\n",
        "dd[\"a\"] = 1\n",
        "dd[\"b\"] = 2\n",
        "\n",
        "dd"
      ],
      "metadata": {
        "colab": {
          "base_uri": "https://localhost:8080/"
        },
        "id": "wpcXdtWboV1s",
        "outputId": "97245408-5853-428c-835e-dee36d356fdc"
      },
      "execution_count": 103,
      "outputs": [
        {
          "output_type": "execute_result",
          "data": {
            "text/plain": [
              "{'a': 2, 'b': 4}"
            ]
          },
          "metadata": {},
          "execution_count": 103
        }
      ]
    },
    {
      "cell_type": "code",
      "source": [
        "dd.update({\"c\": 3})\n",
        "\n",
        "dd"
      ],
      "metadata": {
        "colab": {
          "base_uri": "https://localhost:8080/"
        },
        "id": "Z_o-lliRoZp9",
        "outputId": "bc32ce76-afda-47be-e04e-4f1e825fc8b1"
      },
      "execution_count": 104,
      "outputs": [
        {
          "output_type": "execute_result",
          "data": {
            "text/plain": [
              "{'a': 2, 'b': 4, 'c': 6}"
            ]
          },
          "metadata": {},
          "execution_count": 104
        }
      ]
    },
    {
      "cell_type": "code",
      "source": [
        "class AnswerDict(UserDict):\n",
        "    def __getitem__(self, key):\n",
        "        return 42"
      ],
      "metadata": {
        "id": "v-m3DFUIoaKt"
      },
      "execution_count": 105,
      "outputs": []
    },
    {
      "cell_type": "code",
      "source": [
        "ad = AnswerDict()\n",
        "ad[\"a\"] = 100500\n",
        "\n",
        "ad"
      ],
      "metadata": {
        "colab": {
          "base_uri": "https://localhost:8080/"
        },
        "id": "yrlxOrgzofBQ",
        "outputId": "0212b8a8-49f8-44cd-c275-bfb34878145f"
      },
      "execution_count": 106,
      "outputs": [
        {
          "output_type": "execute_result",
          "data": {
            "text/plain": [
              "{'a': 100500}"
            ]
          },
          "metadata": {},
          "execution_count": 106
        }
      ]
    },
    {
      "cell_type": "code",
      "source": [
        "d = dict()\n",
        "d.update(ad)\n",
        "d"
      ],
      "metadata": {
        "colab": {
          "base_uri": "https://localhost:8080/"
        },
        "id": "LPOCgUWxofzz",
        "outputId": "47ed6530-64e1-4015-c39e-37834a784d6c"
      },
      "execution_count": 107,
      "outputs": [
        {
          "output_type": "execute_result",
          "data": {
            "text/plain": [
              "{'a': 42}"
            ]
          },
          "metadata": {},
          "execution_count": 107
        }
      ]
    },
    {
      "cell_type": "code",
      "source": [],
      "metadata": {
        "id": "Omorbkidog7M"
      },
      "execution_count": 107,
      "outputs": []
    },
    {
      "cell_type": "code",
      "source": [
        "class Digits:\n",
        "    digits = \"0123456789\"\n",
        "    def __getitem__(self, item):\n",
        "        return self.digits[item]\n",
        "\n",
        "    def __setitem__(self, item, value):\n",
        "        # self.digits[item] = value\n",
        "        pass"
      ],
      "metadata": {
        "id": "U_xAMfiUowV3"
      },
      "execution_count": 114,
      "outputs": []
    },
    {
      "cell_type": "code",
      "source": [
        "digits = Digits()\n",
        "\n",
        "digits[0]"
      ],
      "metadata": {
        "colab": {
          "base_uri": "https://localhost:8080/",
          "height": 35
        },
        "id": "uk9Lst4eo2Me",
        "outputId": "501c95f8-0420-4dc6-a96e-40a1d095bca0"
      },
      "execution_count": 115,
      "outputs": [
        {
          "output_type": "execute_result",
          "data": {
            "text/plain": [
              "'0'"
            ],
            "application/vnd.google.colaboratory.intrinsic+json": {
              "type": "string"
            }
          },
          "metadata": {},
          "execution_count": 115
        }
      ]
    },
    {
      "cell_type": "code",
      "source": [
        "for digit in digits:\n",
        "    print(digit, end=\" \")\n",
        "print()"
      ],
      "metadata": {
        "colab": {
          "base_uri": "https://localhost:8080/"
        },
        "id": "skr1NQBTo5mf",
        "outputId": "15f77947-298e-40ef-9666-2c09bb139424"
      },
      "execution_count": 116,
      "outputs": [
        {
          "output_type": "stream",
          "name": "stdout",
          "text": [
            "0 1 2 3 4 5 6 7 8 9 \n"
          ]
        }
      ]
    },
    {
      "cell_type": "code",
      "source": [
        "digits[0] = \"9\""
      ],
      "metadata": {
        "id": "RWl-i0Yao-Ut"
      },
      "execution_count": 117,
      "outputs": []
    },
    {
      "cell_type": "code",
      "source": [
        "len(digits)"
      ],
      "metadata": {
        "colab": {
          "base_uri": "https://localhost:8080/",
          "height": 174
        },
        "id": "pqplzJtYpDHv",
        "outputId": "da1b4a8d-3ffd-4086-971c-0ad6d3469177"
      },
      "execution_count": 118,
      "outputs": [
        {
          "output_type": "error",
          "ename": "TypeError",
          "evalue": "ignored",
          "traceback": [
            "\u001b[0;31m---------------------------------------------------------------------------\u001b[0m",
            "\u001b[0;31mTypeError\u001b[0m                                 Traceback (most recent call last)",
            "\u001b[0;32m<ipython-input-118-9b7d253b44df>\u001b[0m in \u001b[0;36m<cell line: 1>\u001b[0;34m()\u001b[0m\n\u001b[0;32m----> 1\u001b[0;31m \u001b[0mlen\u001b[0m\u001b[0;34m(\u001b[0m\u001b[0mdigits\u001b[0m\u001b[0;34m)\u001b[0m\u001b[0;34m\u001b[0m\u001b[0;34m\u001b[0m\u001b[0m\n\u001b[0m",
            "\u001b[0;31mTypeError\u001b[0m: object of type 'Digits' has no len()"
          ]
        }
      ]
    },
    {
      "cell_type": "code",
      "source": [
        "class Digits:\n",
        "    digits = \"0123456789\"\n",
        "    def __getitem__(self, item):\n",
        "        return self.digits[item]\n",
        "\n",
        "    def __len__(self):\n",
        "        return len(self.digits)\n",
        "\n",
        "    def __setitem__(self, item, value):\n",
        "        # self.digits[item] = value\n",
        "        pass"
      ],
      "metadata": {
        "id": "uiQNp93FpPIx"
      },
      "execution_count": 119,
      "outputs": []
    },
    {
      "cell_type": "code",
      "source": [
        "digits = Digits()\n",
        "\n",
        "len(digits)"
      ],
      "metadata": {
        "colab": {
          "base_uri": "https://localhost:8080/"
        },
        "id": "6gSF4NFrpTDS",
        "outputId": "7c32415d-fd9b-45fb-da86-e28dd059859d"
      },
      "execution_count": 120,
      "outputs": [
        {
          "output_type": "execute_result",
          "data": {
            "text/plain": [
              "10"
            ]
          },
          "metadata": {},
          "execution_count": 120
        }
      ]
    },
    {
      "cell_type": "code",
      "source": [
        "from collections import abc\n",
        "\n",
        "class Digits(abc.Sequence):\n",
        "    digits = \"0123456789\"\n",
        "    def __getitem__(self, item):\n",
        "        return self.digits[item]"
      ],
      "metadata": {
        "id": "weBRxolwpUrv"
      },
      "execution_count": 121,
      "outputs": []
    },
    {
      "cell_type": "code",
      "source": [
        "digits = Digits()"
      ],
      "metadata": {
        "colab": {
          "base_uri": "https://localhost:8080/",
          "height": 174
        },
        "id": "X4YxOwkyps76",
        "outputId": "c697f3b5-3b25-4bb3-e916-e19c52f30812"
      },
      "execution_count": 122,
      "outputs": [
        {
          "output_type": "error",
          "ename": "TypeError",
          "evalue": "ignored",
          "traceback": [
            "\u001b[0;31m---------------------------------------------------------------------------\u001b[0m",
            "\u001b[0;31mTypeError\u001b[0m                                 Traceback (most recent call last)",
            "\u001b[0;32m<ipython-input-122-67b1a2f7688b>\u001b[0m in \u001b[0;36m<cell line: 1>\u001b[0;34m()\u001b[0m\n\u001b[0;32m----> 1\u001b[0;31m \u001b[0mdigits\u001b[0m \u001b[0;34m=\u001b[0m \u001b[0mDigits\u001b[0m\u001b[0;34m(\u001b[0m\u001b[0;34m)\u001b[0m\u001b[0;34m\u001b[0m\u001b[0;34m\u001b[0m\u001b[0m\n\u001b[0m",
            "\u001b[0;31mTypeError\u001b[0m: Can't instantiate abstract class Digits with abstract method __len__"
          ]
        }
      ]
    },
    {
      "cell_type": "code",
      "source": [
        "from collections import abc\n",
        "\n",
        "class Digits(abc.Sequence):\n",
        "    digits = \"0123456789\"\n",
        "    def __getitem__(self, item):\n",
        "        return self.digits[item]\n",
        "    def __len__(self):\n",
        "        return len(self.digits)"
      ],
      "metadata": {
        "id": "hWROasgFpudt"
      },
      "execution_count": 123,
      "outputs": []
    },
    {
      "cell_type": "code",
      "source": [
        "digits = Digits()"
      ],
      "metadata": {
        "id": "iVpT_U9Gp10Z"
      },
      "execution_count": 124,
      "outputs": []
    },
    {
      "cell_type": "code",
      "source": [
        "[digit for digit in digits]"
      ],
      "metadata": {
        "colab": {
          "base_uri": "https://localhost:8080/"
        },
        "id": "Yx-TmMDip2oF",
        "outputId": "08e17776-180f-438c-b78a-708959bc4010"
      },
      "execution_count": 125,
      "outputs": [
        {
          "output_type": "execute_result",
          "data": {
            "text/plain": [
              "['0', '1', '2', '3', '4', '5', '6', '7', '8', '9']"
            ]
          },
          "metadata": {},
          "execution_count": 125
        }
      ]
    },
    {
      "cell_type": "code",
      "source": [
        "from collections import abc\n",
        "\n",
        "class Digits(abc.Sequence):\n",
        "    digits = \"0123456789\"\n",
        "    def __getitem__(self, item):\n",
        "        return self.digits[item]\n",
        "    def __len__(self):\n",
        "        return 2"
      ],
      "metadata": {
        "id": "lXVim7Bmp6zC"
      },
      "execution_count": 126,
      "outputs": []
    },
    {
      "cell_type": "code",
      "source": [],
      "metadata": {
        "id": "nq_ds-b8qibT"
      },
      "execution_count": null,
      "outputs": []
    },
    {
      "cell_type": "code",
      "source": [
        "digits = Digits()\n",
        "[digit for digit in digits]"
      ],
      "metadata": {
        "colab": {
          "base_uri": "https://localhost:8080/"
        },
        "id": "npgS3hbfp8zF",
        "outputId": "add24684-0dfb-4ea9-e38a-c20e6b8ea3d0"
      },
      "execution_count": 127,
      "outputs": [
        {
          "output_type": "execute_result",
          "data": {
            "text/plain": [
              "['0', '1', '2', '3', '4', '5', '6', '7', '8', '9']"
            ]
          },
          "metadata": {},
          "execution_count": 127
        }
      ]
    },
    {
      "cell_type": "code",
      "source": [
        "digits[:len(digits)]"
      ],
      "metadata": {
        "colab": {
          "base_uri": "https://localhost:8080/",
          "height": 35
        },
        "id": "rHscJH07qNWy",
        "outputId": "e7744c66-8590-42ba-fb58-42830c651722"
      },
      "execution_count": 134,
      "outputs": [
        {
          "output_type": "execute_result",
          "data": {
            "text/plain": [
              "'01'"
            ],
            "application/vnd.google.colaboratory.intrinsic+json": {
              "type": "string"
            }
          },
          "metadata": {},
          "execution_count": 134
        }
      ]
    },
    {
      "cell_type": "code",
      "source": [
        "for digit in digits:\n",
        "    print(digit, end=\" \")\n",
        "print()"
      ],
      "metadata": {
        "colab": {
          "base_uri": "https://localhost:8080/"
        },
        "id": "SzYyLKeDp-Id",
        "outputId": "b7288a06-3072-418b-9e69-ea8377a2117a"
      },
      "execution_count": 135,
      "outputs": [
        {
          "output_type": "stream",
          "name": "stdout",
          "text": [
            "0 1 2 3 4 5 6 7 8 9 \n"
          ]
        }
      ]
    },
    {
      "cell_type": "code",
      "source": [],
      "metadata": {
        "id": "CyMbRL3FqJka"
      },
      "execution_count": 135,
      "outputs": []
    },
    {
      "cell_type": "code",
      "source": [
        "from abc import ABC, abstractmethod\n",
        "\n",
        "class MyCustomInterface(ABC):\n",
        "\n",
        "    @abstractmethod\n",
        "    def my_custom_method(self):\n",
        "        raise NotImplemented()"
      ],
      "metadata": {
        "id": "Xc-c1gpVqkb9"
      },
      "execution_count": 142,
      "outputs": []
    },
    {
      "cell_type": "code",
      "source": [
        "class MyImpl(MyCustomInterface):\n",
        "    def other_method(self):\n",
        "        print(\"HI\")"
      ],
      "metadata": {
        "id": "Xk3l6TKEq1a8"
      },
      "execution_count": 143,
      "outputs": []
    },
    {
      "cell_type": "code",
      "source": [
        "my_impl = MyImpl()"
      ],
      "metadata": {
        "colab": {
          "base_uri": "https://localhost:8080/",
          "height": 174
        },
        "id": "wtJD5kmyrGUC",
        "outputId": "ab220c1d-b0a9-4706-b092-8d976c852d8e"
      },
      "execution_count": 144,
      "outputs": [
        {
          "output_type": "error",
          "ename": "TypeError",
          "evalue": "ignored",
          "traceback": [
            "\u001b[0;31m---------------------------------------------------------------------------\u001b[0m",
            "\u001b[0;31mTypeError\u001b[0m                                 Traceback (most recent call last)",
            "\u001b[0;32m<ipython-input-144-84f515fbc614>\u001b[0m in \u001b[0;36m<cell line: 1>\u001b[0;34m()\u001b[0m\n\u001b[0;32m----> 1\u001b[0;31m \u001b[0mmy_impl\u001b[0m \u001b[0;34m=\u001b[0m \u001b[0mMyImpl\u001b[0m\u001b[0;34m(\u001b[0m\u001b[0;34m)\u001b[0m\u001b[0;34m\u001b[0m\u001b[0;34m\u001b[0m\u001b[0m\n\u001b[0m",
            "\u001b[0;31mTypeError\u001b[0m: Can't instantiate abstract class MyImpl with abstract method my_custom_method"
          ]
        }
      ]
    },
    {
      "cell_type": "code",
      "source": [
        "class MyImpl(MyCustomInterface):\n",
        "    def other_method(self):\n",
        "        print(\"HI\")\n",
        "    def my_custom_method(self):\n",
        "        print(\"HI!!!!\")"
      ],
      "metadata": {
        "id": "jQ3lmYDJrKjv"
      },
      "execution_count": 145,
      "outputs": []
    },
    {
      "cell_type": "code",
      "source": [
        "my_impl = MyImpl()"
      ],
      "metadata": {
        "id": "jEEg3sJFrOpr"
      },
      "execution_count": 146,
      "outputs": []
    },
    {
      "cell_type": "code",
      "source": [],
      "metadata": {
        "id": "LYm26jx5rPP5"
      },
      "execution_count": null,
      "outputs": []
    }
  ]
}