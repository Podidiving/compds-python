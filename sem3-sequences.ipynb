{
  "nbformat": 4,
  "nbformat_minor": 0,
  "metadata": {
    "colab": {
      "provenance": []
    },
    "kernelspec": {
      "name": "python3",
      "display_name": "Python 3"
    },
    "language_info": {
      "name": "python"
    }
  },
  "cells": [
    {
      "cell_type": "markdown",
      "source": [
        "### Bytes"
      ],
      "metadata": {
        "id": "OuOdx_8jThQF"
      }
    },
    {
      "cell_type": "code",
      "source": [
        "sample_string = \"Python3 is neat.\"\n",
        "\n",
        "# string with encoding 'utf-8'\n",
        "arr = bytes(sample_string, 'utf-8')\n",
        "arr"
      ],
      "metadata": {
        "colab": {
          "base_uri": "https://localhost:8080/"
        },
        "id": "VTz5kVe3TiUn",
        "outputId": "6a55bfd7-9857-49ad-ba90-6bf6c4d6df96"
      },
      "execution_count": null,
      "outputs": [
        {
          "output_type": "execute_result",
          "data": {
            "text/plain": [
              "b'Python3 is neat.'"
            ]
          },
          "metadata": {},
          "execution_count": 1
        }
      ]
    },
    {
      "cell_type": "code",
      "source": [
        "type(sample_string)"
      ],
      "metadata": {
        "colab": {
          "base_uri": "https://localhost:8080/"
        },
        "id": "djMVx3SoXpaX",
        "outputId": "04f508f0-9b16-4983-8619-325d7dd8015d"
      },
      "execution_count": null,
      "outputs": [
        {
          "output_type": "execute_result",
          "data": {
            "text/plain": [
              "str"
            ]
          },
          "metadata": {},
          "execution_count": 7
        }
      ]
    },
    {
      "cell_type": "code",
      "source": [
        "win_arr = bytes(sample_string, 'cp1251')\n",
        "type(win_arr)"
      ],
      "metadata": {
        "colab": {
          "base_uri": "https://localhost:8080/"
        },
        "id": "xg7r22raTjO-",
        "outputId": "5f920588-296b-4f5c-9777-78beb66fc1ed"
      },
      "execution_count": null,
      "outputs": [
        {
          "output_type": "execute_result",
          "data": {
            "text/plain": [
              "bytes"
            ]
          },
          "metadata": {},
          "execution_count": 8
        }
      ]
    },
    {
      "cell_type": "code",
      "source": [
        "win_arr"
      ],
      "metadata": {
        "colab": {
          "base_uri": "https://localhost:8080/"
        },
        "id": "m7JWqFWQXyH-",
        "outputId": "74f3655a-d1a5-4889-bd43-8dc1db713bc9"
      },
      "execution_count": null,
      "outputs": [
        {
          "output_type": "execute_result",
          "data": {
            "text/plain": [
              "b'Python3 is neat.'"
            ]
          },
          "metadata": {},
          "execution_count": 9
        }
      ]
    },
    {
      "cell_type": "code",
      "source": [
        "type(win_arr.decode('cp1251'))"
      ],
      "metadata": {
        "colab": {
          "base_uri": "https://localhost:8080/"
        },
        "id": "rEsTfBrvTkGi",
        "outputId": "ba745854-9829-48b7-8819-5c394918b486"
      },
      "execution_count": null,
      "outputs": [
        {
          "output_type": "execute_result",
          "data": {
            "text/plain": [
              "str"
            ]
          },
          "metadata": {},
          "execution_count": 11
        }
      ]
    },
    {
      "cell_type": "code",
      "source": [
        "win_arr.decode('cp1251')"
      ],
      "metadata": {
        "colab": {
          "base_uri": "https://localhost:8080/",
          "height": 35
        },
        "id": "YpL0VM-7X7ZS",
        "outputId": "ac9cd80e-c034-43dc-c52b-baf79e475f08"
      },
      "execution_count": null,
      "outputs": [
        {
          "output_type": "execute_result",
          "data": {
            "text/plain": [
              "'Python3 is neat.'"
            ],
            "application/vnd.google.colaboratory.intrinsic+json": {
              "type": "string"
            }
          },
          "metadata": {},
          "execution_count": 12
        }
      ]
    },
    {
      "cell_type": "code",
      "source": [
        "win_arr.decode('utf-8')"
      ],
      "metadata": {
        "colab": {
          "base_uri": "https://localhost:8080/",
          "height": 35
        },
        "id": "S6pfyPp9Tk2b",
        "outputId": "52b21c76-2a8e-472d-9832-6be32851e65c"
      },
      "execution_count": null,
      "outputs": [
        {
          "output_type": "execute_result",
          "data": {
            "text/plain": [
              "'Python3 is neat.'"
            ],
            "application/vnd.google.colaboratory.intrinsic+json": {
              "type": "string"
            }
          },
          "metadata": {},
          "execution_count": 5
        }
      ]
    },
    {
      "cell_type": "code",
      "source": [
        "win_arr == arr"
      ],
      "metadata": {
        "colab": {
          "base_uri": "https://localhost:8080/"
        },
        "id": "Ij331jc4Tlmg",
        "outputId": "20ac75f8-212b-47a6-efc8-3900627cbcc3"
      },
      "execution_count": null,
      "outputs": [
        {
          "output_type": "execute_result",
          "data": {
            "text/plain": [
              "True"
            ]
          },
          "metadata": {},
          "execution_count": 13
        }
      ]
    },
    {
      "cell_type": "code",
      "source": [
        "encoded_string = b'\\xc1\\xe5\\xeb\\xe0\\xff \\xff\\xe1\\xeb\\xfb\\xed\\xff \\xe3\\xf0\\xee\\xec\\xf3'"
      ],
      "metadata": {
        "id": "T--3PT30TmRU"
      },
      "execution_count": null,
      "outputs": []
    },
    {
      "cell_type": "code",
      "source": [
        "encoded_string.decode('utf-8')"
      ],
      "metadata": {
        "colab": {
          "base_uri": "https://localhost:8080/",
          "height": 174
        },
        "id": "gN3f-dXOTm8W",
        "outputId": "20bd4e34-f06c-4c60-da68-788375d5e37d"
      },
      "execution_count": null,
      "outputs": [
        {
          "output_type": "error",
          "ename": "UnicodeDecodeError",
          "evalue": "ignored",
          "traceback": [
            "\u001b[0;31m---------------------------------------------------------------------------\u001b[0m",
            "\u001b[0;31mUnicodeDecodeError\u001b[0m                        Traceback (most recent call last)",
            "\u001b[0;32m<ipython-input-15-f118bb39851b>\u001b[0m in \u001b[0;36m<cell line: 1>\u001b[0;34m()\u001b[0m\n\u001b[0;32m----> 1\u001b[0;31m \u001b[0mencoded_string\u001b[0m\u001b[0;34m.\u001b[0m\u001b[0mdecode\u001b[0m\u001b[0;34m(\u001b[0m\u001b[0;34m'utf-8'\u001b[0m\u001b[0;34m)\u001b[0m\u001b[0;34m\u001b[0m\u001b[0;34m\u001b[0m\u001b[0m\n\u001b[0m",
            "\u001b[0;31mUnicodeDecodeError\u001b[0m: 'utf-8' codec can't decode byte 0xc1 in position 0: invalid start byte"
          ]
        }
      ]
    },
    {
      "cell_type": "code",
      "source": [
        "encoded_string.decode('cp1251')"
      ],
      "metadata": {
        "colab": {
          "base_uri": "https://localhost:8080/",
          "height": 35
        },
        "id": "ge_X30d-Tne1",
        "outputId": "6c67652d-5839-4b99-de55-27995e67fe14"
      },
      "execution_count": null,
      "outputs": [
        {
          "output_type": "execute_result",
          "data": {
            "text/plain": [
              "'Белая яблыня грому'"
            ],
            "application/vnd.google.colaboratory.intrinsic+json": {
              "type": "string"
            }
          },
          "metadata": {},
          "execution_count": 16
        }
      ]
    },
    {
      "cell_type": "markdown",
      "source": [
        "### List"
      ],
      "metadata": {
        "id": "_3vHAnkBUEoQ"
      }
    },
    {
      "cell_type": "code",
      "source": [
        "a = [[1]]\n",
        "a *= 3\n",
        "print(a)"
      ],
      "metadata": {
        "colab": {
          "base_uri": "https://localhost:8080/"
        },
        "id": "u85HP8TFToR9",
        "outputId": "799814fd-b221-4919-acd3-b78ceb4d51cf"
      },
      "execution_count": null,
      "outputs": [
        {
          "output_type": "stream",
          "name": "stdout",
          "text": [
            "[[1], [1], [1]]\n"
          ]
        }
      ]
    },
    {
      "cell_type": "code",
      "source": [
        "for elem in a:\n",
        "    print(id(elem))"
      ],
      "metadata": {
        "colab": {
          "base_uri": "https://localhost:8080/"
        },
        "id": "MXlxD6c1YyAr",
        "outputId": "e08d5259-4326-47b7-bd11-2bad98f078e5"
      },
      "execution_count": null,
      "outputs": [
        {
          "output_type": "stream",
          "name": "stdout",
          "text": [
            "138797244561344\n",
            "138797244561344\n",
            "138797244561344\n"
          ]
        }
      ]
    },
    {
      "cell_type": "code",
      "source": [
        "a[0][0] = 3\n",
        "print(a)"
      ],
      "metadata": {
        "colab": {
          "base_uri": "https://localhost:8080/"
        },
        "id": "zZJ-pO-ZYoeL",
        "outputId": "d7c2ca4a-7c4c-47f4-806b-eb5549ad24ad"
      },
      "execution_count": null,
      "outputs": [
        {
          "output_type": "stream",
          "name": "stdout",
          "text": [
            "[[3], [3], [3]]\n"
          ]
        }
      ]
    },
    {
      "cell_type": "code",
      "source": [
        "a = [10000]\n",
        "a *= 3\n",
        "print(a)\n",
        "a[0] = 3\n",
        "print(a)"
      ],
      "metadata": {
        "colab": {
          "base_uri": "https://localhost:8080/"
        },
        "id": "ZiJpbQ5pY7xo",
        "outputId": "61826a7d-3eba-46f2-89b2-ded6ef7dba04"
      },
      "execution_count": null,
      "outputs": [
        {
          "output_type": "stream",
          "name": "stdout",
          "text": [
            "[10000, 10000, 10000]\n",
            "[3, 10000, 10000]\n"
          ]
        }
      ]
    },
    {
      "cell_type": "markdown",
      "source": [
        "`in (not in), min, max, index (поиск), count`"
      ],
      "metadata": {
        "id": "Joxch2XJUXL0"
      }
    },
    {
      "cell_type": "code",
      "source": [
        "a = [1, 2, 3]\n",
        "print(id(a))\n",
        "\n",
        "a *= 3\n",
        "print(id(a))\n",
        "\n",
        "a += [10, 11]\n",
        "print(id(a))"
      ],
      "metadata": {
        "colab": {
          "base_uri": "https://localhost:8080/"
        },
        "id": "P_8NymBoUI37",
        "outputId": "326efcad-d3e7-43d8-bc8c-5ab5b816cc58"
      },
      "execution_count": null,
      "outputs": [
        {
          "output_type": "stream",
          "name": "stdout",
          "text": [
            "138796605041856\n",
            "138796605041856\n",
            "138796605041856\n"
          ]
        }
      ]
    },
    {
      "cell_type": "code",
      "source": [
        "a = [1, 2, 3]\n",
        "print(id(a))\n",
        "\n",
        "a *= 3\n",
        "print(id(a))\n",
        "\n",
        "a.extend([10, 11])\n",
        "print(id(a))"
      ],
      "metadata": {
        "colab": {
          "base_uri": "https://localhost:8080/"
        },
        "id": "8Aps_p_4ZYdq",
        "outputId": "0301d527-392f-4a18-8764-d56351f7a507"
      },
      "execution_count": null,
      "outputs": [
        {
          "output_type": "stream",
          "name": "stdout",
          "text": [
            "138796603126464\n",
            "138796603126464\n",
            "138796603126464\n"
          ]
        }
      ]
    },
    {
      "cell_type": "code",
      "source": [
        "a = [5, 6, 7]\n",
        "b = [1, 2]\n",
        "\n",
        "print('id before extend', id(a))\n",
        "a.extend(b)\n",
        "print('id after extend', id(a))\n",
        "a"
      ],
      "metadata": {
        "colab": {
          "base_uri": "https://localhost:8080/"
        },
        "id": "79voU8O6UbGO",
        "outputId": "f2f4db2b-643f-47d4-9a8c-e58b3c3ec095"
      },
      "execution_count": null,
      "outputs": [
        {
          "output_type": "stream",
          "name": "stdout",
          "text": [
            "id before extend 138796605147968\n",
            "id after extend 138796605147968\n"
          ]
        },
        {
          "output_type": "execute_result",
          "data": {
            "text/plain": [
              "[5, 6, 7, 1, 2]"
            ]
          },
          "metadata": {},
          "execution_count": 24
        }
      ]
    },
    {
      "cell_type": "code",
      "source": [
        "a = [5, 6, 7]\n",
        "b = [1, 2]\n",
        "\n",
        "print('id before extend', id(a))\n",
        "a += b\n",
        "print('id after extend', id(a))\n",
        "a"
      ],
      "metadata": {
        "colab": {
          "base_uri": "https://localhost:8080/"
        },
        "id": "-bXlfonRUbNG",
        "outputId": "4fcd57b3-cdef-45b1-8d7d-41fe1ab08bd9"
      },
      "execution_count": null,
      "outputs": [
        {
          "output_type": "stream",
          "name": "stdout",
          "text": [
            "id before extend 138797238941824\n",
            "id after extend 138797238941824\n"
          ]
        },
        {
          "output_type": "execute_result",
          "data": {
            "text/plain": [
              "[5, 6, 7, 1, 2]"
            ]
          },
          "metadata": {},
          "execution_count": 25
        }
      ]
    },
    {
      "cell_type": "markdown",
      "source": [
        "### Iterating"
      ],
      "metadata": {
        "id": "_x3MfZ2jUgeO"
      }
    },
    {
      "cell_type": "code",
      "source": [
        "for element in b:\n",
        "    print(element)"
      ],
      "metadata": {
        "colab": {
          "base_uri": "https://localhost:8080/"
        },
        "id": "RvmctjkRUeLC",
        "outputId": "87678ba8-c55c-478c-b0ce-15c2d0d63641"
      },
      "execution_count": null,
      "outputs": [
        {
          "output_type": "stream",
          "name": "stdout",
          "text": [
            "1\n",
            "2\n"
          ]
        }
      ]
    },
    {
      "cell_type": "code",
      "source": [
        "type(b)"
      ],
      "metadata": {
        "colab": {
          "base_uri": "https://localhost:8080/"
        },
        "id": "n1EU2bT-bWdI",
        "outputId": "d238bf14-fdfb-4a83-de66-ecd37b093f8e"
      },
      "execution_count": null,
      "outputs": [
        {
          "output_type": "execute_result",
          "data": {
            "text/plain": [
              "list"
            ]
          },
          "metadata": {},
          "execution_count": 39
        }
      ]
    },
    {
      "cell_type": "code",
      "source": [
        "type(b.__iter__())"
      ],
      "metadata": {
        "colab": {
          "base_uri": "https://localhost:8080/"
        },
        "id": "0B5zrGWubLUn",
        "outputId": "4ed90ead-e055-4b93-ec93-d63785ca6f5e"
      },
      "execution_count": null,
      "outputs": [
        {
          "output_type": "execute_result",
          "data": {
            "text/plain": [
              "list_iterator"
            ]
          },
          "metadata": {},
          "execution_count": 41
        }
      ]
    },
    {
      "cell_type": "code",
      "source": [
        "b_it = b.__iter__()\n",
        "print(b_it.__next__())\n",
        "print(b_it.__next__())\n",
        "print(b_it.__next__())"
      ],
      "metadata": {
        "colab": {
          "base_uri": "https://localhost:8080/",
          "height": 242
        },
        "id": "7PLH8sjBbcgI",
        "outputId": "8aba6ca4-8332-4636-d959-43b9c0631f37"
      },
      "execution_count": null,
      "outputs": [
        {
          "output_type": "stream",
          "name": "stdout",
          "text": [
            "1\n",
            "2\n"
          ]
        },
        {
          "output_type": "error",
          "ename": "StopIteration",
          "evalue": "ignored",
          "traceback": [
            "\u001b[0;31m---------------------------------------------------------------------------\u001b[0m",
            "\u001b[0;31mStopIteration\u001b[0m                             Traceback (most recent call last)",
            "\u001b[0;32m<ipython-input-45-f5a19ad20001>\u001b[0m in \u001b[0;36m<cell line: 4>\u001b[0;34m()\u001b[0m\n\u001b[1;32m      2\u001b[0m \u001b[0mprint\u001b[0m\u001b[0;34m(\u001b[0m\u001b[0mb_it\u001b[0m\u001b[0;34m.\u001b[0m\u001b[0m__next__\u001b[0m\u001b[0;34m(\u001b[0m\u001b[0;34m)\u001b[0m\u001b[0;34m)\u001b[0m\u001b[0;34m\u001b[0m\u001b[0;34m\u001b[0m\u001b[0m\n\u001b[1;32m      3\u001b[0m \u001b[0mprint\u001b[0m\u001b[0;34m(\u001b[0m\u001b[0mb_it\u001b[0m\u001b[0;34m.\u001b[0m\u001b[0m__next__\u001b[0m\u001b[0;34m(\u001b[0m\u001b[0;34m)\u001b[0m\u001b[0;34m)\u001b[0m\u001b[0;34m\u001b[0m\u001b[0;34m\u001b[0m\u001b[0m\n\u001b[0;32m----> 4\u001b[0;31m \u001b[0mprint\u001b[0m\u001b[0;34m(\u001b[0m\u001b[0mb_it\u001b[0m\u001b[0;34m.\u001b[0m\u001b[0m__next__\u001b[0m\u001b[0;34m(\u001b[0m\u001b[0;34m)\u001b[0m\u001b[0;34m)\u001b[0m\u001b[0;34m\u001b[0m\u001b[0;34m\u001b[0m\u001b[0m\n\u001b[0m",
            "\u001b[0;31mStopIteration\u001b[0m: "
          ]
        }
      ]
    },
    {
      "cell_type": "code",
      "source": [
        "dir(b_it)"
      ],
      "metadata": {
        "id": "-NIDhdgcc9cm"
      },
      "execution_count": null,
      "outputs": []
    },
    {
      "cell_type": "code",
      "source": [
        "b_it.__next__"
      ],
      "metadata": {
        "colab": {
          "base_uri": "https://localhost:8080/"
        },
        "id": "PufLFKOPcU3p",
        "outputId": "6e360b27-018a-4409-e4af-3a88d03dd42f"
      },
      "execution_count": null,
      "outputs": [
        {
          "output_type": "execute_result",
          "data": {
            "text/plain": [
              "<method-wrapper '__next__' of list_iterator object at 0x7e3c1a3b21a0>"
            ]
          },
          "metadata": {},
          "execution_count": 48
        }
      ]
    },
    {
      "cell_type": "code",
      "source": [
        "b.__iter__().__next__()"
      ],
      "metadata": {
        "colab": {
          "base_uri": "https://localhost:8080/"
        },
        "id": "88FO9I0da8jt",
        "outputId": "d3c9e78a-224e-4a31-b21e-f41922574483"
      },
      "execution_count": null,
      "outputs": [
        {
          "output_type": "execute_result",
          "data": {
            "text/plain": [
              "1"
            ]
          },
          "metadata": {},
          "execution_count": 37
        }
      ]
    },
    {
      "cell_type": "code",
      "source": [
        "class MyIterableObj:\n",
        "    def __init__(self, start, stop):\n",
        "        self.start = start\n",
        "        self.stop = stop\n",
        "        self.cur = start\n",
        "\n",
        "    def __next__(self):\n",
        "        # print(\"in __next__\")\n",
        "        cur = self.cur\n",
        "        if cur == self.stop:\n",
        "            raise StopIteration\n",
        "        self.cur += 1\n",
        "        return cur\n",
        "\n",
        "class MyIterator:\n",
        "    def __init__(self, start, stop):\n",
        "        self.start = start\n",
        "        self.stop = stop\n",
        "        self.cur = start\n",
        "\n",
        "    def __iter__(self):\n",
        "        return MyIterableObj(self.start, self.stop)\n",
        "        # print(\"in __iter__\")\n",
        "        # return self\n",
        "\n"
      ],
      "metadata": {
        "id": "Vo3q2KSYdfE5"
      },
      "execution_count": null,
      "outputs": []
    },
    {
      "cell_type": "code",
      "source": [
        "class MyIterator:\n",
        "    def __init__(self, start, stop):\n",
        "        self.start = start\n",
        "        self.stop = stop\n",
        "        self.cur = start\n",
        "\n",
        "    def __iter__(self):\n",
        "        # print(\"in __iter__\")\n",
        "        return self\n",
        "\n",
        "    def __next__(self):\n",
        "        # print(\"in __next__\")\n",
        "        cur = self.cur\n",
        "        if cur == self.stop:\n",
        "            raise StopIteration\n",
        "        self.cur += 1\n",
        "        return cur"
      ],
      "metadata": {
        "id": "YZ2CZiKWZ1Cm"
      },
      "execution_count": null,
      "outputs": []
    },
    {
      "cell_type": "code",
      "source": [
        "iterator = MyIterator(0, 10)\n",
        "\n",
        "for i in iterator:\n",
        "    print(i)"
      ],
      "metadata": {
        "colab": {
          "base_uri": "https://localhost:8080/"
        },
        "id": "cmbS44VAZoyN",
        "outputId": "28242c4b-8bd4-4535-e144-a627d10d35ae"
      },
      "execution_count": null,
      "outputs": [
        {
          "output_type": "stream",
          "name": "stdout",
          "text": [
            "0\n",
            "1\n",
            "2\n",
            "3\n",
            "4\n",
            "5\n",
            "6\n",
            "7\n",
            "8\n",
            "9\n"
          ]
        }
      ]
    },
    {
      "cell_type": "code",
      "source": [
        "def generator(start, stop):\n",
        "    for i in range(start, stop):\n",
        "        yield i"
      ],
      "metadata": {
        "id": "v0ZcDzjbdkz9"
      },
      "execution_count": null,
      "outputs": []
    },
    {
      "cell_type": "code",
      "source": [
        "gen = generator(0, 10)\n",
        "\n",
        "for i in gen:\n",
        "    print(i)\n",
        "\n",
        "for i in gen:\n",
        "    print(i)"
      ],
      "metadata": {
        "colab": {
          "base_uri": "https://localhost:8080/"
        },
        "id": "i4eGGNH6dq-i",
        "outputId": "f1226789-195a-45bf-de70-86f486bcaf12"
      },
      "execution_count": null,
      "outputs": [
        {
          "output_type": "stream",
          "name": "stdout",
          "text": [
            "0\n",
            "1\n",
            "2\n",
            "3\n",
            "4\n",
            "5\n",
            "6\n",
            "7\n",
            "8\n",
            "9\n"
          ]
        }
      ]
    },
    {
      "cell_type": "code",
      "source": [
        "# gen = generator(0, 10)\n",
        "\n",
        "for i in generator(0, 10):\n",
        "    print(i)\n",
        "\n",
        "for i in generator(0, 10):\n",
        "    print(i)"
      ],
      "metadata": {
        "colab": {
          "base_uri": "https://localhost:8080/"
        },
        "id": "CDj1YKGFiv7k",
        "outputId": "802e83cf-442c-4cd3-d2fd-a0ccdbcaf19a"
      },
      "execution_count": null,
      "outputs": [
        {
          "output_type": "stream",
          "name": "stdout",
          "text": [
            "0\n",
            "1\n",
            "2\n",
            "3\n",
            "4\n",
            "5\n",
            "6\n",
            "7\n",
            "8\n",
            "9\n",
            "0\n",
            "1\n",
            "2\n",
            "3\n",
            "4\n",
            "5\n",
            "6\n",
            "7\n",
            "8\n",
            "9\n"
          ]
        }
      ]
    },
    {
      "cell_type": "markdown",
      "source": [
        "### Внутреннее устройство\n",
        "https://pythontutor.com/ -- наглядная визуализация происходящего в Python\n",
        "\n",
        "Как ни странно, список в Python -- это на самом деле массив :/\n",
        "\n",
        "То есть, внутри список предаставляется как непрерывный кусок памяти, каждый элемент -- это указатель на объект.\n",
        "\n",
        "![](https://camo.githubusercontent.com/bfb2cf262033c5412b73eb7d60931a474b53b459a6a6765eb71f0892577e3b9e/68747470733a2f2f6d656469612e6765656b73666f726765656b732e6f72672f77702d636f6e74656e742f75706c6f6164732f61727261792d322e706e67)\n",
        "\n",
        "\n",
        "Recap: o, если : o_cond\n",
        "\n",
        "Так, основное для list:\n",
        "\n",
        "Доступ по индексу -- O(1)\n",
        "\n",
        "Дописывание в конец / удаление с конца -- в среднем O(1)\n",
        "\n",
        "Вставка / удаление в произвольном месте -- O(n)\n",
        "\n",
        "min, max -- O(n)\n",
        "\n",
        "O(1) означает выполнение за контантное время, O(n) -- время выполнения зависит от длины массива"
      ],
      "metadata": {
        "id": "8Awy15Z0Uqbi"
      }
    },
    {
      "cell_type": "markdown",
      "source": [
        "### List Comprehensions\n"
      ],
      "metadata": {
        "id": "uja4Jq7_UzRA"
      }
    },
    {
      "cell_type": "code",
      "source": [
        "symbols = '$¢£¥€¤'\n",
        "codes = []\n",
        "for s in symbols:\n",
        "    codes.append(ord(s))\n",
        "\n",
        "codes"
      ],
      "metadata": {
        "colab": {
          "base_uri": "https://localhost:8080/"
        },
        "id": "py2RIpDuUi8C",
        "outputId": "10817adb-2c0f-48e7-e6f4-f4b2aa0277e4"
      },
      "execution_count": null,
      "outputs": [
        {
          "output_type": "execute_result",
          "data": {
            "text/plain": [
              "[36, 162, 163, 165, 8364, 164]"
            ]
          },
          "metadata": {},
          "execution_count": 58
        }
      ]
    },
    {
      "cell_type": "code",
      "source": [
        "[x**2 for x in range(10)]"
      ],
      "metadata": {
        "colab": {
          "base_uri": "https://localhost:8080/"
        },
        "id": "WEE2APwEgEKb",
        "outputId": "f0652834-0116-4c19-e1f0-28d87bf857dd"
      },
      "execution_count": null,
      "outputs": [
        {
          "output_type": "execute_result",
          "data": {
            "text/plain": [
              "[0, 1, 4, 9, 16, 25, 36, 49, 64, 81]"
            ]
          },
          "metadata": {},
          "execution_count": 68
        }
      ]
    },
    {
      "cell_type": "code",
      "source": [
        "%%timeit -n 100\n",
        "[x**2 for x in range(10000)]"
      ],
      "metadata": {
        "colab": {
          "base_uri": "https://localhost:8080/"
        },
        "id": "bf86KpLQfrEK",
        "outputId": "de76a440-b392-4f64-c9c8-2ec3348f1c30"
      },
      "execution_count": null,
      "outputs": [
        {
          "output_type": "stream",
          "name": "stdout",
          "text": [
            "3.07 ms ± 67.6 µs per loop (mean ± std. dev. of 7 runs, 100 loops each)\n"
          ]
        }
      ]
    },
    {
      "cell_type": "code",
      "source": [
        "%%timeit -n 100\n",
        "res = []\n",
        "for x in range(10000):\n",
        "    res.append(x**2)"
      ],
      "metadata": {
        "colab": {
          "base_uri": "https://localhost:8080/"
        },
        "id": "PzRJ-p0dfrGl",
        "outputId": "47fe4484-5642-453d-9dac-e9fe4a27c1ab"
      },
      "execution_count": null,
      "outputs": [
        {
          "output_type": "stream",
          "name": "stdout",
          "text": [
            "3.41 ms ± 62.4 µs per loop (mean ± std. dev. of 7 runs, 100 loops each)\n"
          ]
        }
      ]
    },
    {
      "cell_type": "code",
      "source": [
        "%%timeit -n 100\n",
        "res = [_ for _ in range(10000)]\n",
        "for idx, x in enumerate(range(10000)):\n",
        "    res[idx] = x**2"
      ],
      "metadata": {
        "colab": {
          "base_uri": "https://localhost:8080/"
        },
        "id": "RRtAGhr4g5Zn",
        "outputId": "f8c5a940-4f0e-4dcb-d0cc-29da19f088d9"
      },
      "execution_count": null,
      "outputs": [
        {
          "output_type": "stream",
          "name": "stdout",
          "text": [
            "5.14 ms ± 1.4 ms per loop (mean ± std. dev. of 7 runs, 100 loops each)\n"
          ]
        }
      ]
    },
    {
      "cell_type": "code",
      "source": [
        "%%timeit -n 100\n",
        "res = [0] * 10000\n",
        "for idx, x in enumerate(range(10000)):\n",
        "    res[idx] = x**2"
      ],
      "metadata": {
        "colab": {
          "base_uri": "https://localhost:8080/"
        },
        "id": "pz-K8eH1frMQ",
        "outputId": "31d5147c-88c7-4760-903a-0c28cf683fbb"
      },
      "execution_count": null,
      "outputs": [
        {
          "output_type": "stream",
          "name": "stdout",
          "text": [
            "4.17 ms ± 1.08 ms per loop (mean ± std. dev. of 7 runs, 100 loops each)\n"
          ]
        }
      ]
    },
    {
      "cell_type": "code",
      "source": [
        "a = list(range(10))\n",
        "\n",
        "print([x for x in a if x % 2 == 0])\n",
        "print(list(filter(lambda x: x % 2 == 0, a)))"
      ],
      "metadata": {
        "colab": {
          "base_uri": "https://localhost:8080/"
        },
        "id": "2-eE67aQiAY9",
        "outputId": "241fa483-c015-4fca-e476-1c224bfca46d"
      },
      "execution_count": null,
      "outputs": [
        {
          "output_type": "stream",
          "name": "stdout",
          "text": [
            "[0, 2, 4, 6, 8]\n",
            "[0, 2, 4, 6, 8]\n"
          ]
        }
      ]
    },
    {
      "cell_type": "code",
      "source": [
        "a = list(range(10))\n",
        "\n",
        "print([x ** 2 for x in a])\n",
        "print(list(map(lambda x: x ** 2, a)))"
      ],
      "metadata": {
        "colab": {
          "base_uri": "https://localhost:8080/"
        },
        "id": "7twubUVvhKol",
        "outputId": "9df8b2a2-9d99-4a95-efed-91115f52f49c"
      },
      "execution_count": null,
      "outputs": [
        {
          "output_type": "stream",
          "name": "stdout",
          "text": [
            "[0, 1, 4, 9, 16, 25, 36, 49, 64, 81]\n",
            "[0, 1, 4, 9, 16, 25, 36, 49, 64, 81]\n"
          ]
        }
      ]
    },
    {
      "cell_type": "code",
      "source": [
        "a = [[1, 2], [3, 4], [5, 6], [7, 8]]\n",
        "\n",
        "\n",
        "# assert b == [1, 2, 3, 4, 5, 6, 7, 8]\n",
        "# assert flattened_a == [1, 2, 3, 4, 5, 6, 7, 8]"
      ],
      "metadata": {
        "id": "8PkJZtH4U52O"
      },
      "execution_count": null,
      "outputs": []
    },
    {
      "cell_type": "code",
      "source": [
        "%%timeit -n 1000\n",
        "[item for inner_list in a for item in inner_list]"
      ],
      "metadata": {
        "colab": {
          "base_uri": "https://localhost:8080/"
        },
        "id": "R3F9vr7vhsJg",
        "outputId": "8b9540c4-e138-4a33-96da-2feb20ba4d26"
      },
      "execution_count": null,
      "outputs": [
        {
          "output_type": "stream",
          "name": "stdout",
          "text": [
            "1.27 µs ± 500 ns per loop (mean ± std. dev. of 7 runs, 1000 loops each)\n"
          ]
        }
      ]
    },
    {
      "cell_type": "code",
      "source": [
        "%%timeit -n 1000\n",
        "flattened_a = []\n",
        "for inner_list in a:\n",
        "    for item in inner_list:\n",
        "        flattened_a.append(item)"
      ],
      "metadata": {
        "colab": {
          "base_uri": "https://localhost:8080/"
        },
        "id": "Jrfj2QAPjSRy",
        "outputId": "e71165df-3766-438b-d56e-fbc6709ac2f6"
      },
      "execution_count": null,
      "outputs": [
        {
          "output_type": "stream",
          "name": "stdout",
          "text": [
            "1.85 µs ± 930 ns per loop (mean ± std. dev. of 7 runs, 1000 loops each)\n"
          ]
        }
      ]
    },
    {
      "cell_type": "code",
      "source": [
        "type(range(0, 10))"
      ],
      "metadata": {
        "colab": {
          "base_uri": "https://localhost:8080/"
        },
        "id": "hnqNDDIJjiou",
        "outputId": "2a71a134-794c-485d-851d-36292691c00a"
      },
      "execution_count": null,
      "outputs": [
        {
          "output_type": "execute_result",
          "data": {
            "text/plain": [
              "range"
            ]
          },
          "metadata": {},
          "execution_count": 95
        }
      ]
    },
    {
      "cell_type": "code",
      "source": [
        "type(generator(0, 10))"
      ],
      "metadata": {
        "colab": {
          "base_uri": "https://localhost:8080/"
        },
        "id": "4YESPgZEjuFC",
        "outputId": "dc5ce3f0-c40e-47f9-ed2f-c6c71fb47886"
      },
      "execution_count": null,
      "outputs": [
        {
          "output_type": "execute_result",
          "data": {
            "text/plain": [
              "generator"
            ]
          },
          "metadata": {},
          "execution_count": 96
        }
      ]
    },
    {
      "cell_type": "markdown",
      "source": [
        "### Generator expressions\n"
      ],
      "metadata": {
        "id": "NtyiO2vZVGHV"
      }
    },
    {
      "cell_type": "code",
      "source": [
        "symbols\n",
        "\n",
        "l = [ord(s) for s in symbols]\n",
        "\n",
        "\n",
        "gen = (ord(s) for s in symbols)"
      ],
      "metadata": {
        "id": "IFFpNUydU9Ja"
      },
      "execution_count": null,
      "outputs": []
    },
    {
      "cell_type": "code",
      "source": [
        "print(type(gen))"
      ],
      "metadata": {
        "colab": {
          "base_uri": "https://localhost:8080/"
        },
        "id": "lHSrENbFj2mm",
        "outputId": "71cde530-1ac7-4ec6-df41-cbc6d18f2a15"
      },
      "execution_count": null,
      "outputs": [
        {
          "output_type": "stream",
          "name": "stdout",
          "text": [
            "<class 'generator'>\n"
          ]
        }
      ]
    },
    {
      "cell_type": "code",
      "source": [
        "print(type(l))"
      ],
      "metadata": {
        "colab": {
          "base_uri": "https://localhost:8080/"
        },
        "id": "jKlkXzawj2tn",
        "outputId": "8a8398a6-90fa-4468-913a-eea03f6e81e5"
      },
      "execution_count": null,
      "outputs": [
        {
          "output_type": "stream",
          "name": "stdout",
          "text": [
            "<class 'list'>\n"
          ]
        }
      ]
    },
    {
      "cell_type": "code",
      "source": [
        "l.__sizeof__(), gen.__sizeof__()"
      ],
      "metadata": {
        "colab": {
          "base_uri": "https://localhost:8080/"
        },
        "id": "Sig_MdXFj_q4",
        "outputId": "afa05a84-d189-4204-a6e3-9374c211cb91"
      },
      "execution_count": null,
      "outputs": [
        {
          "output_type": "execute_result",
          "data": {
            "text/plain": [
              "(104, 88)"
            ]
          },
          "metadata": {},
          "execution_count": 103
        }
      ]
    },
    {
      "cell_type": "code",
      "source": [
        "import sys\n",
        "\n",
        "sys.getsizeof(l), sys.getsizeof(gen)"
      ],
      "metadata": {
        "colab": {
          "base_uri": "https://localhost:8080/"
        },
        "id": "XFSk1kFDVKvT",
        "outputId": "075525d5-5070-4052-bcda-b495bc74c52f"
      },
      "execution_count": null,
      "outputs": [
        {
          "output_type": "execute_result",
          "data": {
            "text/plain": [
              "(120, 104)"
            ]
          },
          "metadata": {},
          "execution_count": 105
        }
      ]
    },
    {
      "cell_type": "markdown",
      "source": [
        "### Unpacking"
      ],
      "metadata": {
        "id": "FqboxLcFVhSo"
      }
    },
    {
      "cell_type": "code",
      "source": [
        "coordinates = (10., -11.)\n",
        "\n",
        "lat, lon = coordinates\n",
        "\n",
        "lat, lon"
      ],
      "metadata": {
        "colab": {
          "base_uri": "https://localhost:8080/"
        },
        "id": "TmVVqeVOVS1M",
        "outputId": "cada0d79-1ccb-4d7e-ffaf-23feecfcdbd4"
      },
      "execution_count": null,
      "outputs": [
        {
          "output_type": "execute_result",
          "data": {
            "text/plain": [
              "(10.0, -11.0)"
            ]
          },
          "metadata": {},
          "execution_count": 106
        }
      ]
    },
    {
      "cell_type": "code",
      "source": [
        "a = [1,2,3,4,5,6,7,8,9,10]\n",
        "\n",
        "fst, snd, *rest = a\n",
        "\n",
        "fst, snd, rest"
      ],
      "metadata": {
        "colab": {
          "base_uri": "https://localhost:8080/"
        },
        "id": "9CY_11fJk50_",
        "outputId": "ea564b93-575b-4b00-db49-92ca58d27c61"
      },
      "execution_count": null,
      "outputs": [
        {
          "output_type": "execute_result",
          "data": {
            "text/plain": [
              "(1, 2, [3, 4, 5, 6, 7, 8, 9, 10])"
            ]
          },
          "metadata": {},
          "execution_count": 110
        }
      ]
    },
    {
      "cell_type": "code",
      "source": [
        "fst, *_, last = a\n",
        "print(fst, last)"
      ],
      "metadata": {
        "colab": {
          "base_uri": "https://localhost:8080/"
        },
        "id": "Y3hCt-Mdk57a",
        "outputId": "2d8e8cf9-c7e6-4997-9cd2-64634e0d84d6"
      },
      "execution_count": null,
      "outputs": [
        {
          "output_type": "stream",
          "name": "stdout",
          "text": [
            "1 10\n"
          ]
        }
      ]
    },
    {
      "cell_type": "code",
      "source": [
        "fst, _, trd, *_, last = a"
      ],
      "metadata": {
        "id": "cWgal1qPleRr"
      },
      "execution_count": null,
      "outputs": []
    },
    {
      "cell_type": "markdown",
      "source": [
        "### Named Tuples\n"
      ],
      "metadata": {
        "id": "OUdzZ03GVnuW"
      }
    },
    {
      "cell_type": "code",
      "source": [
        "from collections import namedtuple"
      ],
      "metadata": {
        "id": "EaiZlWwAVoFn"
      },
      "execution_count": null,
      "outputs": []
    },
    {
      "cell_type": "code",
      "source": [
        "Subject = namedtuple('Subject', 'name difficulty')"
      ],
      "metadata": {
        "id": "nTNKKPMzVo6n"
      },
      "execution_count": null,
      "outputs": []
    },
    {
      "cell_type": "code",
      "source": [
        "type(Subject)"
      ],
      "metadata": {
        "colab": {
          "base_uri": "https://localhost:8080/"
        },
        "id": "YrEIYy0AmN5G",
        "outputId": "62902b0e-6cfc-4383-82dd-719b43cf3b0f"
      },
      "execution_count": null,
      "outputs": [
        {
          "output_type": "execute_result",
          "data": {
            "text/plain": [
              "type"
            ]
          },
          "metadata": {},
          "execution_count": 132
        }
      ]
    },
    {
      "cell_type": "code",
      "source": [
        "# ('Python', 1)\n",
        "# Subject('Python', 1)"
      ],
      "metadata": {
        "id": "zbtb96zWm0M0"
      },
      "execution_count": null,
      "outputs": []
    },
    {
      "cell_type": "code",
      "source": [
        "python_course_1 = ('Python', 1)\n",
        "python_course_2 = Subject('Python', 1)\n",
        "sys.getsizeof(python_course_1), sys.getsizeof(python_course_2)"
      ],
      "metadata": {
        "colab": {
          "base_uri": "https://localhost:8080/"
        },
        "id": "kVtQSff2nDE2",
        "outputId": "10276fa1-a8be-4317-858c-e6dbab17c723"
      },
      "execution_count": null,
      "outputs": [
        {
          "output_type": "execute_result",
          "data": {
            "text/plain": [
              "(56, 56)"
            ]
          },
          "metadata": {},
          "execution_count": 134
        }
      ]
    },
    {
      "cell_type": "code",
      "source": [
        "%timeit python_course_1[0]"
      ],
      "metadata": {
        "colab": {
          "base_uri": "https://localhost:8080/"
        },
        "id": "4JszIsy5nOtY",
        "outputId": "9d0d2984-574f-4ad3-8569-aaf4996e02d9"
      },
      "execution_count": null,
      "outputs": [
        {
          "output_type": "stream",
          "name": "stdout",
          "text": [
            "85 ns ± 27.7 ns per loop (mean ± std. dev. of 7 runs, 10000000 loops each)\n"
          ]
        }
      ]
    },
    {
      "cell_type": "code",
      "source": [
        "%timeit python_course_2.name"
      ],
      "metadata": {
        "colab": {
          "base_uri": "https://localhost:8080/"
        },
        "id": "U2_NaD-VnUwA",
        "outputId": "0a2a6087-4094-4ef4-cf96-38003c831fad"
      },
      "execution_count": null,
      "outputs": [
        {
          "output_type": "stream",
          "name": "stdout",
          "text": [
            "52.7 ns ± 1.39 ns per loop (mean ± std. dev. of 7 runs, 10000000 loops each)\n"
          ]
        }
      ]
    },
    {
      "cell_type": "code",
      "source": [
        "# python_course_2.name = \"123\""
      ],
      "metadata": {
        "id": "XkeQiWwfnd_1"
      },
      "execution_count": null,
      "outputs": []
    },
    {
      "cell_type": "code",
      "source": [
        "python_course = Subject('Python', 1)\n",
        "python_course"
      ],
      "metadata": {
        "colab": {
          "base_uri": "https://localhost:8080/"
        },
        "id": "iVYfep5QVy2Y",
        "outputId": "32ffe42c-4146-4565-e5af-c013343bb5e6"
      },
      "execution_count": null,
      "outputs": [
        {
          "output_type": "execute_result",
          "data": {
            "text/plain": [
              "Subject(name='Python', difficulty=1)"
            ]
          },
          "metadata": {},
          "execution_count": 119
        }
      ]
    },
    {
      "cell_type": "code",
      "source": [
        "python_course = Subject(name='Python', difficulty=1)\n",
        "python_course"
      ],
      "metadata": {
        "colab": {
          "base_uri": "https://localhost:8080/"
        },
        "id": "a9gFpAyJmAID",
        "outputId": "f6d43abd-facc-443b-aeb6-9c755e1e7689"
      },
      "execution_count": null,
      "outputs": [
        {
          "output_type": "execute_result",
          "data": {
            "text/plain": [
              "Subject(name='Python', difficulty=1)"
            ]
          },
          "metadata": {},
          "execution_count": 121
        }
      ]
    },
    {
      "cell_type": "code",
      "source": [
        "python_course[0], python_course[1]"
      ],
      "metadata": {
        "colab": {
          "base_uri": "https://localhost:8080/"
        },
        "id": "s_4X5OkFVzs8",
        "outputId": "939a07c5-d587-45d3-be2d-ae441e578329"
      },
      "execution_count": null,
      "outputs": [
        {
          "output_type": "execute_result",
          "data": {
            "text/plain": [
              "('Python', 1)"
            ]
          },
          "metadata": {},
          "execution_count": 122
        }
      ]
    },
    {
      "cell_type": "code",
      "source": [
        "python_course.name, python_course.difficulty"
      ],
      "metadata": {
        "colab": {
          "base_uri": "https://localhost:8080/"
        },
        "id": "Xdggx4BiV2Bt",
        "outputId": "1d7db52e-6fdc-4728-d3b6-8ad00764ced5"
      },
      "execution_count": null,
      "outputs": [
        {
          "output_type": "execute_result",
          "data": {
            "text/plain": [
              "('Python', 1)"
            ]
          },
          "metadata": {},
          "execution_count": 123
        }
      ]
    },
    {
      "cell_type": "code",
      "source": [
        "from typing import NamedTuple"
      ],
      "metadata": {
        "id": "JWt-n-cJlyH8"
      },
      "execution_count": null,
      "outputs": []
    },
    {
      "cell_type": "code",
      "source": [
        "class Subject(NamedTuple):\n",
        "    name: str\n",
        "    difficulty: int"
      ],
      "metadata": {
        "id": "ZBrPvMEwlyLq"
      },
      "execution_count": null,
      "outputs": []
    },
    {
      "cell_type": "code",
      "source": [
        "python_course = Subject(name='Python', difficulty=1)\n",
        "python_course"
      ],
      "metadata": {
        "colab": {
          "base_uri": "https://localhost:8080/"
        },
        "id": "8jx8dOZclyOI",
        "outputId": "8e17ad2f-ae45-4e28-81a7-c85a3e99b85e"
      },
      "execution_count": null,
      "outputs": [
        {
          "output_type": "execute_result",
          "data": {
            "text/plain": [
              "Subject(name='Python', difficulty=1)"
            ]
          },
          "metadata": {},
          "execution_count": 127
        }
      ]
    },
    {
      "cell_type": "markdown",
      "source": [
        "### Read/write to a file"
      ],
      "metadata": {
        "id": "wg8bOgDOWOlA"
      }
    },
    {
      "cell_type": "code",
      "source": [
        "filename = 'out.bin'\n",
        "\n",
        "byte_string = bytes('Python3 is great', encoding='utf-8')\n",
        "\n",
        "with open('out.bin', 'wb') as f:\n",
        "    f.write(byte_string)\n",
        "\n",
        "with open('out.bin', 'rb') as f:\n",
        "    content = f.read()\n",
        "    print(content)"
      ],
      "metadata": {
        "colab": {
          "base_uri": "https://localhost:8080/"
        },
        "id": "T7nm03_IWLkv",
        "outputId": "f0b74252-2dbe-46dd-fcfd-57fa2428a25d"
      },
      "execution_count": null,
      "outputs": [
        {
          "output_type": "stream",
          "name": "stdout",
          "text": [
            "b'Python3 is great'\n"
          ]
        }
      ]
    },
    {
      "cell_type": "code",
      "source": [
        "some_object = [[1, 2, (4, 5, 3), 'something ()'], ('hello', 6)]\n",
        "some_object"
      ],
      "metadata": {
        "colab": {
          "base_uri": "https://localhost:8080/"
        },
        "id": "P-u5zCDrWRJ3",
        "outputId": "3552e0c8-b3b0-4681-a93d-99eb6fe44da4"
      },
      "execution_count": null,
      "outputs": [
        {
          "output_type": "execute_result",
          "data": {
            "text/plain": [
              "[[1, 2, (4, 5, 3), 'something ()'], ('hello', 6)]"
            ]
          },
          "metadata": {},
          "execution_count": 161
        }
      ]
    },
    {
      "cell_type": "code",
      "source": [
        "with open('out', 'w') as f:\n",
        "    f.write(str(some_object))"
      ],
      "metadata": {
        "id": "bKE5KDifWSIT"
      },
      "execution_count": null,
      "outputs": []
    },
    {
      "cell_type": "code",
      "source": [
        "with open('out', 'r') as f:\n",
        "    content = f.read()\n",
        "    print(type(content))\n",
        "    print(content)\n",
        "    print(content == some_object)"
      ],
      "metadata": {
        "colab": {
          "base_uri": "https://localhost:8080/"
        },
        "id": "QSt0_AJsWS97",
        "outputId": "d395f04c-0c80-4ec5-d95d-089821adfe77"
      },
      "execution_count": null,
      "outputs": [
        {
          "output_type": "stream",
          "name": "stdout",
          "text": [
            "<class 'str'>\n",
            "[[1, 2, (4, 5, 3), 'something ()'], ('hello', 6)]\n",
            "False\n"
          ]
        }
      ]
    },
    {
      "cell_type": "code",
      "source": [
        "import pickle"
      ],
      "metadata": {
        "id": "XI4r3msSWT-f"
      },
      "execution_count": null,
      "outputs": []
    },
    {
      "cell_type": "code",
      "source": [
        "with open('object', 'wb') as f:\n",
        "    pickle.dump(some_object, f)\n",
        "\n",
        "with open('object', 'rb') as f:\n",
        "    content = pickle.load(f)\n",
        "\n",
        "content == some_object"
      ],
      "metadata": {
        "colab": {
          "base_uri": "https://localhost:8080/"
        },
        "id": "w6bx0eAIWUpD",
        "outputId": "a9c55983-39d8-48e0-e557-a24cffe37301"
      },
      "execution_count": null,
      "outputs": [
        {
          "output_type": "execute_result",
          "data": {
            "text/plain": [
              "True"
            ]
          },
          "metadata": {},
          "execution_count": 160
        }
      ]
    },
    {
      "cell_type": "code",
      "source": [
        "!touch somefile"
      ],
      "metadata": {
        "id": "bzoQQAOapbgT"
      },
      "execution_count": null,
      "outputs": []
    },
    {
      "cell_type": "code",
      "source": [
        "def dangerous():\n",
        "    import os\n",
        "\n",
        "    os.remove(\"somefile\")"
      ],
      "metadata": {
        "id": "ar6Dl4WQpbpH"
      },
      "execution_count": null,
      "outputs": []
    },
    {
      "cell_type": "code",
      "source": [
        "with open('program', 'wb') as f:\n",
        "    pickle.dump(dangerous, f)"
      ],
      "metadata": {
        "id": "HqPBy0ZfpbsD"
      },
      "execution_count": null,
      "outputs": []
    },
    {
      "cell_type": "code",
      "source": [
        "!ls"
      ],
      "metadata": {
        "colab": {
          "base_uri": "https://localhost:8080/"
        },
        "id": "GCb2DDXCpvQu",
        "outputId": "38475c8d-d81b-4c21-c505-6a198cdf187e"
      },
      "execution_count": null,
      "outputs": [
        {
          "output_type": "stream",
          "name": "stdout",
          "text": [
            "object\tout  out.bin  out_str  program\tsample_data  somefile\n"
          ]
        }
      ]
    },
    {
      "cell_type": "code",
      "source": [
        "with open('program', 'rb') as f:\n",
        "    content = pickle.load(f)\n",
        "\n",
        "content()"
      ],
      "metadata": {
        "id": "kbW1xW7spbu3"
      },
      "execution_count": null,
      "outputs": []
    },
    {
      "cell_type": "code",
      "source": [
        "!ls"
      ],
      "metadata": {
        "colab": {
          "base_uri": "https://localhost:8080/"
        },
        "id": "1ImZvN1qpbyF",
        "outputId": "ed12c280-718d-44f4-ca38-f86b747c18a9"
      },
      "execution_count": null,
      "outputs": [
        {
          "output_type": "stream",
          "name": "stdout",
          "text": [
            "object\tout  out.bin  out_str  program\tsample_data\n"
          ]
        }
      ]
    },
    {
      "cell_type": "markdown",
      "source": [
        "---"
      ],
      "metadata": {
        "id": "nrZELj-Umgwu"
      }
    },
    {
      "cell_type": "code",
      "source": [
        "some_text = \"\"\" Я готовлю семинар.\n",
        "Все пока идет хорошо.\n",
        "Почему уже 2 часа ночи...\n",
        "\"\"\""
      ],
      "metadata": {
        "id": "GQa_0ptwlseR"
      },
      "execution_count": null,
      "outputs": []
    },
    {
      "cell_type": "code",
      "source": [
        "with open('out_str', 'w') as f:\n",
        "    f.write(some_text)"
      ],
      "metadata": {
        "id": "PC5AsPhTlsgX"
      },
      "execution_count": null,
      "outputs": []
    },
    {
      "cell_type": "code",
      "source": [
        "with open('out_str', 'r') as f:\n",
        "    content = f.read()\n",
        "\n",
        "print(content)"
      ],
      "metadata": {
        "colab": {
          "base_uri": "https://localhost:8080/"
        },
        "id": "N-buSa5olvk_",
        "outputId": "8616b7d1-c7cd-43fe-c574-f8b035e7cff7"
      },
      "execution_count": null,
      "outputs": [
        {
          "output_type": "stream",
          "name": "stdout",
          "text": [
            " Я готовлю семинар.\n",
            "Все пока идет хорошо.\n",
            "Почему уже 2 часа ночи...\n",
            "\n"
          ]
        }
      ]
    },
    {
      "cell_type": "code",
      "source": [
        "with open('out_str', 'r') as f:\n",
        "    first_line = f.readline()\n",
        "    second_line = f.readline()\n",
        "\n",
        "print(first_line, second_line)"
      ],
      "metadata": {
        "colab": {
          "base_uri": "https://localhost:8080/"
        },
        "id": "So4SgLJRlxWX",
        "outputId": "9242d093-3a90-44dd-dad5-cbfe59d27dd7"
      },
      "execution_count": null,
      "outputs": [
        {
          "output_type": "stream",
          "name": "stdout",
          "text": [
            " Я готовлю семинар.\n",
            " Все пока идет хорошо.\n",
            "\n"
          ]
        }
      ]
    },
    {
      "cell_type": "code",
      "source": [
        "with open('out_str', 'r') as f:\n",
        "    for index, line in enumerate(f):\n",
        "        print(f\"Line {index}: {line.strip()}\")"
      ],
      "metadata": {
        "colab": {
          "base_uri": "https://localhost:8080/"
        },
        "id": "IPkcOjb-qMD_",
        "outputId": "3c8aa04e-b7fe-4803-d75b-2c501d06d1f6"
      },
      "execution_count": null,
      "outputs": [
        {
          "output_type": "stream",
          "name": "stdout",
          "text": [
            "Line 0: Я готовлю семинар.\n",
            "Line 1: Все пока идет хорошо.\n",
            "Line 2: Почему уже 2 часа ночи...\n"
          ]
        }
      ]
    },
    {
      "cell_type": "code",
      "source": [
        "f = open('out_str', 'r')\n",
        "\n",
        "print(f.readline())\n",
        "f.seek(0)\n",
        "print(f.readline())\n",
        "f.close()"
      ],
      "metadata": {
        "colab": {
          "base_uri": "https://localhost:8080/"
        },
        "id": "Yjqm4JAPqlvq",
        "outputId": "2e0b0ada-dc27-4bd7-9169-05bde68cf1f1"
      },
      "execution_count": null,
      "outputs": [
        {
          "output_type": "stream",
          "name": "stdout",
          "text": [
            " Я готовлю семинар.\n",
            "\n",
            " Я готовлю семинар.\n",
            "\n"
          ]
        }
      ]
    },
    {
      "cell_type": "markdown",
      "source": [
        "### Arrays\n",
        "\n",
        "[docs](https://docs.python.org/3/library/array.html)\n",
        "\n",
        "![](https://raw.githubusercontent.com/sanityseeker/sda-python-2022/854c6892fb88d75beac6959807cd92f5dad44ab5//img/python_seq_memory.png)\n",
        "\n"
      ],
      "metadata": {
        "id": "TlPpzYxglARc"
      }
    },
    {
      "cell_type": "code",
      "source": [
        "from array import array"
      ],
      "metadata": {
        "id": "935B8d14pb7s"
      },
      "execution_count": null,
      "outputs": []
    },
    {
      "cell_type": "code",
      "source": [
        "bytes_array = array('b', (i for i in range(120)))"
      ],
      "metadata": {
        "id": "P4oosDhgleC2"
      },
      "execution_count": null,
      "outputs": []
    },
    {
      "cell_type": "code",
      "source": [
        "bytes_array"
      ],
      "metadata": {
        "colab": {
          "base_uri": "https://localhost:8080/"
        },
        "id": "WskU7qFPlfR7",
        "outputId": "71844634-bcd4-4fef-9942-3d4455960099"
      },
      "execution_count": null,
      "outputs": [
        {
          "output_type": "execute_result",
          "data": {
            "text/plain": [
              "array('b', [0, 1, 2, 3, 4, 5, 6, 7, 8, 9, 10, 11, 12, 13, 14, 15, 16, 17, 18, 19, 20, 21, 22, 23, 24, 25, 26, 27, 28, 29, 30, 31, 32, 33, 34, 35, 36, 37, 38, 39, 40, 41, 42, 43, 44, 45, 46, 47, 48, 49, 50, 51, 52, 53, 54, 55, 56, 57, 58, 59, 60, 61, 62, 63, 64, 65, 66, 67, 68, 69, 70, 71, 72, 73, 74, 75, 76, 77, 78, 79, 80, 81, 82, 83, 84, 85, 86, 87, 88, 89, 90, 91, 92, 93, 94, 95, 96, 97, 98, 99, 100, 101, 102, 103, 104, 105, 106, 107, 108, 109, 110, 111, 112, 113, 114, 115, 116, 117, 118, 119])"
            ]
          },
          "metadata": {},
          "execution_count": 58
        }
      ]
    },
    {
      "cell_type": "code",
      "source": [
        "bytes_array.append(127)"
      ],
      "metadata": {
        "id": "Mlzi4yT9lgDG"
      },
      "execution_count": null,
      "outputs": []
    },
    {
      "cell_type": "code",
      "source": [
        "bytes_array.append(256)"
      ],
      "metadata": {
        "colab": {
          "base_uri": "https://localhost:8080/",
          "height": 174
        },
        "id": "JnuOv2G1lhLm",
        "outputId": "dd36a0e2-c6f0-4aeb-ecc9-e91552ed50b9"
      },
      "execution_count": null,
      "outputs": [
        {
          "output_type": "error",
          "ename": "OverflowError",
          "evalue": "ignored",
          "traceback": [
            "\u001b[0;31m---------------------------------------------------------------------------\u001b[0m",
            "\u001b[0;31mOverflowError\u001b[0m                             Traceback (most recent call last)",
            "\u001b[0;32m<ipython-input-60-d11d36961485>\u001b[0m in \u001b[0;36m<cell line: 1>\u001b[0;34m()\u001b[0m\n\u001b[0;32m----> 1\u001b[0;31m \u001b[0mbytes_array\u001b[0m\u001b[0;34m.\u001b[0m\u001b[0mappend\u001b[0m\u001b[0;34m(\u001b[0m\u001b[0;36m256\u001b[0m\u001b[0;34m)\u001b[0m\u001b[0;34m\u001b[0m\u001b[0;34m\u001b[0m\u001b[0m\n\u001b[0m",
            "\u001b[0;31mOverflowError\u001b[0m: signed char is greater than maximum"
          ]
        }
      ]
    },
    {
      "cell_type": "code",
      "source": [
        "list_ints = list(range(100000))"
      ],
      "metadata": {
        "id": "RIGesncdlj8d"
      },
      "execution_count": null,
      "outputs": []
    },
    {
      "cell_type": "code",
      "source": [
        "%%timeit -n 100\n",
        "sum(list_ints)"
      ],
      "metadata": {
        "colab": {
          "base_uri": "https://localhost:8080/"
        },
        "id": "0b2fY4qblKn2",
        "outputId": "5fc6a535-51ec-4e09-f97d-1580a7d686bc"
      },
      "execution_count": null,
      "outputs": [
        {
          "output_type": "stream",
          "name": "stdout",
          "text": [
            "595 µs ± 42.3 µs per loop (mean ± std. dev. of 7 runs, 100 loops each)\n"
          ]
        }
      ]
    },
    {
      "cell_type": "code",
      "source": [
        "array_ints = array('I', (i for i in range(100000)))"
      ],
      "metadata": {
        "id": "2DcmsXeAlk8y"
      },
      "execution_count": null,
      "outputs": []
    },
    {
      "cell_type": "code",
      "source": [
        "%%timeit -n 100\n",
        "sum(array_ints)"
      ],
      "metadata": {
        "colab": {
          "base_uri": "https://localhost:8080/"
        },
        "id": "T__nRmMrljIZ",
        "outputId": "38ebfc4f-e89a-4a32-f365-4ce2d174e40e"
      },
      "execution_count": null,
      "outputs": [
        {
          "output_type": "stream",
          "name": "stdout",
          "text": [
            "1.87 ms ± 72.6 µs per loop (mean ± std. dev. of 7 runs, 100 loops each)\n"
          ]
        }
      ]
    },
    {
      "cell_type": "code",
      "source": [
        "N = 10000000\n",
        "\n",
        "list_ints = list(range(N))\n",
        "array_ints = array('I', list(range(N)))"
      ],
      "metadata": {
        "id": "nFOfX2bpWZuw"
      },
      "execution_count": null,
      "outputs": []
    },
    {
      "cell_type": "code",
      "source": [
        "sep = '\\n'\n",
        "list_str_repr = sep.join([str(digit) for digit in list_ints])"
      ],
      "metadata": {
        "id": "la4ZJeRYWa-V"
      },
      "execution_count": null,
      "outputs": []
    },
    {
      "cell_type": "code",
      "source": [
        "list_str_repr[:120]"
      ],
      "metadata": {
        "id": "oa8rY0eAWb5k",
        "colab": {
          "base_uri": "https://localhost:8080/",
          "height": 52
        },
        "outputId": "4b1ce212-c6f6-4003-dc1f-bf46e2c6ac50"
      },
      "execution_count": null,
      "outputs": [
        {
          "output_type": "execute_result",
          "data": {
            "text/plain": [
              "'0\\n1\\n2\\n3\\n4\\n5\\n6\\n7\\n8\\n9\\n10\\n11\\n12\\n13\\n14\\n15\\n16\\n17\\n18\\n19\\n20\\n21\\n22\\n23\\n24\\n25\\n26\\n27\\n28\\n29\\n30\\n31\\n32\\n33\\n34\\n35\\n36\\n37\\n38\\n39\\n40\\n41\\n42\\n4'"
            ],
            "application/vnd.google.colaboratory.intrinsic+json": {
              "type": "string"
            }
          },
          "metadata": {},
          "execution_count": 67
        }
      ]
    },
    {
      "cell_type": "code",
      "source": [
        "import pickle\n",
        "\n",
        "\n",
        "with open('list_ints', 'w') as f:\n",
        "    f.write(list_str_repr)\n",
        "\n",
        "with open('list_ints_pickle', 'wb') as f:\n",
        "    pickle.dump(list_ints, f)"
      ],
      "metadata": {
        "id": "G8QFAIZ8WfQj"
      },
      "execution_count": null,
      "outputs": []
    },
    {
      "cell_type": "code",
      "source": [
        "with open('array_ints', 'wb') as f:\n",
        "    array_ints.tofile(f)"
      ],
      "metadata": {
        "id": "meZ6FLu6Wf-m"
      },
      "execution_count": null,
      "outputs": []
    },
    {
      "cell_type": "code",
      "source": [
        "import os\n",
        "\n",
        "print(f'''\n",
        "list (str):     {os.path.getsize(\"list_ints\")} bytes\n",
        "list (pickle):  {os.path.getsize(\"list_ints_pickle\")} bytes\n",
        "array (native): {os.path.getsize(\"array_ints\")} bytes\n",
        "''')"
      ],
      "metadata": {
        "id": "BHNQFiGNWhLV",
        "colab": {
          "base_uri": "https://localhost:8080/"
        },
        "outputId": "a4b006b8-d748-4c0a-f348-3ba1a106a9bc"
      },
      "execution_count": null,
      "outputs": [
        {
          "output_type": "stream",
          "name": "stdout",
          "text": [
            "\n",
            "list (str):     78888889 bytes\n",
            "list (pickle):  49895535 bytes\n",
            "array (native): 40000000 bytes\n",
            "\n"
          ]
        }
      ]
    },
    {
      "cell_type": "code",
      "source": [
        "%%time\n",
        "\n",
        "# так как мы разделили числа с помощью символ переноса строки, можем использовать readlines()\n",
        "# и потом скастить каждый элемент в тип int\n",
        "\n",
        "with open('list_ints', 'r') as f:\n",
        "    list_from_str = list(map(int, f.readlines()))"
      ],
      "metadata": {
        "id": "OlpEnxiSWi18",
        "colab": {
          "base_uri": "https://localhost:8080/"
        },
        "outputId": "bc5bacd8-727e-4662-84e5-56de8a1c8650"
      },
      "execution_count": null,
      "outputs": [
        {
          "output_type": "stream",
          "name": "stdout",
          "text": [
            "CPU times: user 2.29 s, sys: 714 ms, total: 3.01 s\n",
            "Wall time: 3.06 s\n"
          ]
        }
      ]
    },
    {
      "cell_type": "code",
      "source": [
        "%%time\n",
        "\n",
        "with open('list_ints_pickle', 'rb') as f:\n",
        "    list_from_pickle = pickle.load(f)"
      ],
      "metadata": {
        "id": "y4MVcfnBWlnp",
        "colab": {
          "base_uri": "https://localhost:8080/"
        },
        "outputId": "6cf22f24-1cc0-4ee1-b1c3-b519a6b1267c"
      },
      "execution_count": null,
      "outputs": [
        {
          "output_type": "stream",
          "name": "stdout",
          "text": [
            "CPU times: user 199 ms, sys: 179 ms, total: 379 ms\n",
            "Wall time: 382 ms\n"
          ]
        }
      ]
    },
    {
      "cell_type": "code",
      "source": [
        "%%time\n",
        "\n",
        "with open('array_ints', 'rb') as f:\n",
        "    array_from_dump = array('I')\n",
        "    array_from_dump.fromfile(f, N)"
      ],
      "metadata": {
        "id": "KXtqV6OwWm21",
        "colab": {
          "base_uri": "https://localhost:8080/"
        },
        "outputId": "76c302d5-6d8d-4a56-8c8f-768b04a236f8"
      },
      "execution_count": null,
      "outputs": [
        {
          "output_type": "stream",
          "name": "stdout",
          "text": [
            "CPU times: user 12.1 ms, sys: 49.7 ms, total: 61.7 ms\n",
            "Wall time: 61.7 ms\n"
          ]
        }
      ]
    },
    {
      "cell_type": "code",
      "source": [
        "assert array_from_dump == array_ints\n",
        "assert list_from_pickle == list_ints\n",
        "assert list_from_str == list_ints"
      ],
      "metadata": {
        "id": "TS40TIBSWoEI"
      },
      "execution_count": null,
      "outputs": []
    },
    {
      "cell_type": "markdown",
      "source": [
        "---"
      ],
      "metadata": {
        "id": "dcnXM4kesDEB"
      }
    }
  ]
}