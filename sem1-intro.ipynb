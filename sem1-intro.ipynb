{
  "nbformat": 4,
  "nbformat_minor": 0,
  "metadata": {
    "colab": {
      "provenance": []
    },
    "kernelspec": {
      "name": "python3",
      "display_name": "Python 3"
    },
    "language_info": {
      "name": "python"
    }
  },
  "cells": [
    {
      "cell_type": "code",
      "source": [],
      "metadata": {
        "id": "AqFly40arJru"
      },
      "execution_count": null,
      "outputs": []
    },
    {
      "cell_type": "code",
      "source": [],
      "metadata": {
        "id": "LVAjy2NsrJcG"
      },
      "execution_count": null,
      "outputs": []
    },
    {
      "cell_type": "code",
      "source": [],
      "metadata": {
        "id": "EtGk-qH-rJPv"
      },
      "execution_count": null,
      "outputs": []
    },
    {
      "cell_type": "code",
      "source": [],
      "metadata": {
        "id": "khEyTmSprIw4"
      },
      "execution_count": null,
      "outputs": []
    },
    {
      "cell_type": "code",
      "source": [],
      "metadata": {
        "id": "IZggLwC6rINl"
      },
      "execution_count": null,
      "outputs": []
    },
    {
      "cell_type": "code",
      "execution_count": null,
      "metadata": {
        "id": "5I33JnshVB3x"
      },
      "outputs": [],
      "source": [
        "a = 1\n",
        "b = 1.0\n",
        "c = \"s\"\n",
        "d = [1,2,3]\n",
        "e = (1,2,3)\n",
        "f = {\"a\": 1}"
      ]
    },
    {
      "cell_type": "code",
      "source": [
        "c = \"Hello\"\n",
        "print(c[0] * 3)\n",
        "c += \" World\"\n",
        "print(c)"
      ],
      "metadata": {
        "colab": {
          "base_uri": "https://localhost:8080/"
        },
        "id": "RKYzQggeVpWQ",
        "outputId": "4c71e59e-35e1-45da-f5f4-6dfa8a967f5e"
      },
      "execution_count": null,
      "outputs": [
        {
          "output_type": "stream",
          "name": "stdout",
          "text": [
            "HHH\n",
            "Hello World\n"
          ]
        }
      ]
    },
    {
      "cell_type": "code",
      "source": [
        "d = [1,2,3]\n",
        "d[0] = \"cass\"\n",
        "print(d)\n",
        "\n",
        "d.append(1.0)\n",
        "print(d)\n",
        "\n",
        "d.insert(0, 123)\n",
        "print(d)\n",
        "\n",
        "d.extend([1, 2, 3])\n",
        "# d += [1, 2, 3]\n",
        "print(d)\n",
        "\n",
        "d.remove(2)\n",
        "print(d)\n",
        "\n",
        "d.pop()\n",
        "print(d)\n",
        "\n",
        "d = [i for i in range(0, 20, 2)]\n",
        "print(d)\n",
        "print(d[:5])\n",
        "print(d[-3:])"
      ],
      "metadata": {
        "colab": {
          "base_uri": "https://localhost:8080/"
        },
        "id": "RQTpNN_JWKhU",
        "outputId": "976c26e5-8b96-4956-a57a-15d12270808b"
      },
      "execution_count": null,
      "outputs": [
        {
          "output_type": "stream",
          "name": "stdout",
          "text": [
            "['cass', 2, 3]\n",
            "['cass', 2, 3, 1.0]\n",
            "[123, 'cass', 2, 3, 1.0]\n",
            "[123, 'cass', 2, 3, 1.0, 1, 2, 3]\n",
            "[123, 'cass', 3, 1.0, 1, 2, 3]\n",
            "[123, 'cass', 3, 1.0, 1, 2]\n",
            "[0, 2, 4, 6, 8, 10, 12, 14, 16, 18]\n",
            "[0, 2, 4, 6, 8]\n",
            "[14, 16, 18]\n",
            "**********\n",
            "[0, 2, 4, 6, 8, 10, 12, 14, 16, 18]\n",
            "[0, 2, 4, 6, 8, 10, 12, 14, 16, 18]\n",
            "[0, 2, 4, 6, 8, 10, 12, 14, 16, 18]\n"
          ]
        }
      ]
    },
    {
      "cell_type": "code",
      "source": [
        "a = [i for i in range(0, 20, 2)]\n",
        "b = a\n",
        "\n",
        "print(id(a))\n",
        "print(id(b))\n",
        "\n",
        "\n",
        "a = [i for i in range(0, 20, 2)]\n",
        "b = a[:]\n",
        "\n",
        "print(id(a))\n",
        "print(id(b))\n",
        "\n",
        "\n",
        "###\n",
        "a = [[i for i in range(0, 20, 2)]]\n",
        "b = a[:]\n",
        "\n",
        "b[0][0] = -1\n",
        "print(a)\n"
      ],
      "metadata": {
        "colab": {
          "base_uri": "https://localhost:8080/"
        },
        "id": "9pa2B-d_YSFa",
        "outputId": "468a3f17-60f6-4fe1-ffee-dcbc403daf3a"
      },
      "execution_count": null,
      "outputs": [
        {
          "output_type": "stream",
          "name": "stdout",
          "text": [
            "140029909719744\n",
            "140029909719744\n",
            "140029907871296\n",
            "140029907942080\n",
            "[[-1, 2, 4, 6, 8, 10, 12, 14, 16, 18]]\n"
          ]
        }
      ]
    },
    {
      "cell_type": "code",
      "source": [
        "###\n",
        "a = [[i for i in range(0, 20, 2)]]\n",
        "b = a[:]\n",
        "\n",
        "b[0][0] = -1\n",
        "print(a)\n",
        "\n",
        "print(\"*\"*10)\n",
        "print(id(a))\n",
        "print(id(b))\n",
        "\n",
        "print(\"*\"*10)\n",
        "print(id(a[0]))\n",
        "print(id(b[0]))"
      ],
      "metadata": {
        "colab": {
          "base_uri": "https://localhost:8080/"
        },
        "id": "LFEM8LZbZRB4",
        "outputId": "981ad9d9-e19c-4a0d-f5dd-5f7964a454f8"
      },
      "execution_count": null,
      "outputs": [
        {
          "output_type": "stream",
          "name": "stdout",
          "text": [
            "[[-1, 2, 4, 6, 8, 10, 12, 14, 16, 18]]\n",
            "**********\n",
            "140029908027968\n",
            "140029908032000\n",
            "**********\n",
            "140029908027904\n",
            "140029908027904\n"
          ]
        }
      ]
    },
    {
      "cell_type": "code",
      "source": [
        "id(a.copy()[0])"
      ],
      "metadata": {
        "colab": {
          "base_uri": "https://localhost:8080/"
        },
        "id": "O2bf-v4SaC8s",
        "outputId": "13cb5442-b050-440d-863d-84489114c073"
      },
      "execution_count": null,
      "outputs": [
        {
          "output_type": "execute_result",
          "data": {
            "text/plain": [
              "140029908027904"
            ]
          },
          "metadata": {},
          "execution_count": 42
        }
      ]
    },
    {
      "cell_type": "code",
      "source": [
        "import copy"
      ],
      "metadata": {
        "id": "-IHJajGpaWY9"
      },
      "execution_count": null,
      "outputs": []
    },
    {
      "cell_type": "code",
      "source": [
        "b = copy.deepcopy(a)\n",
        "b[0][0] = 1\n",
        "print(a)\n",
        "print(b)"
      ],
      "metadata": {
        "colab": {
          "base_uri": "https://localhost:8080/"
        },
        "id": "zmdNJXVUZ3Bi",
        "outputId": "1a82597f-ac9d-42e6-ceb0-98c180e06647"
      },
      "execution_count": null,
      "outputs": [
        {
          "output_type": "stream",
          "name": "stdout",
          "text": [
            "[[-1, 2, 4, 6, 8, 10, 12, 14, 16, 18]]\n",
            "[[1, 2, 4, 6, 8, 10, 12, 14, 16, 18]]\n"
          ]
        }
      ]
    },
    {
      "cell_type": "code",
      "source": [
        "# b = a[:]"
      ],
      "metadata": {
        "id": "OMNc5OtzaYWF"
      },
      "execution_count": null,
      "outputs": []
    },
    {
      "cell_type": "code",
      "source": [
        "# tuple\n",
        "a = (1, 2, 3)\n",
        "b = [1, 2, 3]\n",
        "\n",
        "print(type(a))\n",
        "print(type(b))\n",
        "\n",
        "print(a.__sizeof__())\n",
        "print(b.__sizeof__())\n",
        "\n",
        "print(hash(a))\n",
        "# print(hash(b))"
      ],
      "metadata": {
        "colab": {
          "base_uri": "https://localhost:8080/"
        },
        "id": "23Kjad9SacE2",
        "outputId": "9aa13700-352c-433d-87a7-7ea4e53c3b71"
      },
      "execution_count": null,
      "outputs": [
        {
          "output_type": "stream",
          "name": "stdout",
          "text": [
            "<class 'tuple'>\n",
            "<class 'list'>\n",
            "48\n",
            "72\n",
            "529344067295497451\n"
          ]
        }
      ]
    },
    {
      "cell_type": "code",
      "source": [
        "a = (\"asd\", 1, 1.0)\n",
        "\n",
        "print(hash(a))"
      ],
      "metadata": {
        "colab": {
          "base_uri": "https://localhost:8080/"
        },
        "id": "-sxOfajuacG0",
        "outputId": "53b6b2af-9f46-4689-a18f-79d4c1100748"
      },
      "execution_count": null,
      "outputs": [
        {
          "output_type": "stream",
          "name": "stdout",
          "text": [
            "-2864037250170823238\n"
          ]
        }
      ]
    },
    {
      "cell_type": "code",
      "source": [
        "# dict\n",
        "\n",
        "d = {1: \"A\", 2: \"B\", 3: \"C\"}\n",
        "print(d)\n",
        "\n",
        "d = {1: \"A\", 2: \"B\", 3: \"C\", \"D\": 4}\n",
        "print(d)\n",
        "\n",
        "d = {1: \"A\", 2: \"B\", 3: \"C\", \"D\": 4, (1,2,3): 123}\n",
        "print(d)\n",
        "\n",
        "try:\n",
        "    d = {1: \"A\", 2: \"B\", 3: \"C\", \"D\": 4, (1,2,3): 123, [1,]: \"1\"}\n",
        "    print(d)\n",
        "except TypeError:\n",
        "    pass\n",
        "\n",
        "d = {1: \"A\", 2: \"B\", 3: \"C\", \"D\": 4, (1,2,3): [123, ]}\n",
        "print(d)\n",
        "\n",
        "try:\n",
        "    d = {1: \"A\", 2: \"B\", 3: \"C\", \"D\": 4, (1,2,3): [123, ], {1: 2}: 3}\n",
        "    print(d)\n",
        "except TypeError:\n",
        "    pass"
      ],
      "metadata": {
        "colab": {
          "base_uri": "https://localhost:8080/"
        },
        "id": "7JPAeMXPcfcH",
        "outputId": "d035674c-158f-44fd-da9a-c840eb1643fb"
      },
      "execution_count": null,
      "outputs": [
        {
          "output_type": "stream",
          "name": "stdout",
          "text": [
            "{1: 'A', 2: 'B', 3: 'C'}\n",
            "{1: 'A', 2: 'B', 3: 'C', 'D': 4}\n",
            "{1: 'A', 2: 'B', 3: 'C', 'D': 4, (1, 2, 3): 123}\n",
            "{1: 'A', 2: 'B', 3: 'C', 'D': 4, (1, 2, 3): [123]}\n"
          ]
        }
      ]
    },
    {
      "cell_type": "code",
      "source": [
        "d = {1: \"A\", 2: \"B\", 3: \"C\"}\n",
        "print(d)\n",
        "\n",
        "d[1] = \"AA\"\n",
        "print(d)\n",
        "\n",
        "d[123] = \"BB\"\n",
        "print(d)\n",
        "\n",
        "print(d.keys())\n",
        "print(list(d.keys()))\n",
        "\n",
        "print(d.values())\n",
        "print(list(d.values()))\n",
        "\n",
        "print(d.items())\n",
        "print(list(d.items()))"
      ],
      "metadata": {
        "colab": {
          "base_uri": "https://localhost:8080/"
        },
        "id": "LX1pLPQzacJI",
        "outputId": "b0a52c7b-f8d0-44fb-a2c2-175b65b08088"
      },
      "execution_count": null,
      "outputs": [
        {
          "output_type": "stream",
          "name": "stdout",
          "text": [
            "{1: 'A', 2: 'B', 3: 'C'}\n",
            "{1: 'AA', 2: 'B', 3: 'C'}\n",
            "{1: 'AA', 2: 'B', 3: 'C', 123: 'BB'}\n",
            "dict_keys([1, 2, 3, 123])\n",
            "[1, 2, 3, 123]\n",
            "dict_values(['AA', 'B', 'C', 'BB'])\n",
            "['AA', 'B', 'C', 'BB']\n",
            "dict_items([(1, 'AA'), (2, 'B'), (3, 'C'), (123, 'BB')])\n",
            "[(1, 'AA'), (2, 'B'), (3, 'C'), (123, 'BB')]\n"
          ]
        }
      ]
    },
    {
      "cell_type": "code",
      "source": [
        "# import random"
      ],
      "metadata": {
        "id": "C7h_kj9WeHw_"
      },
      "execution_count": null,
      "outputs": []
    },
    {
      "cell_type": "code",
      "source": [
        "class MyList(list):\n",
        "    def __init__(self, *args, **kwargs):\n",
        "        super().__init__(*args, **kwargs)\n",
        "\n",
        "    def __hash__(self):\n",
        "        return 0\n",
        "    # def __eq__(self, another):\n",
        "    #     return True\n",
        "# MyList([1,2,3]).__eq__(MyList([1,2,4]))\n",
        "d = {MyList([1,2,3]): 1, MyList([1,2,4]): 3}\n",
        "d"
      ],
      "metadata": {
        "colab": {
          "base_uri": "https://localhost:8080/"
        },
        "id": "T2R0x_uxacL5",
        "outputId": "312407cd-0c80-4696-9ebc-11c461a6c0cd"
      },
      "execution_count": null,
      "outputs": [
        {
          "output_type": "execute_result",
          "data": {
            "text/plain": [
              "{[1, 2, 3]: 1, [1, 2, 4]: 3}"
            ]
          },
          "metadata": {},
          "execution_count": 96
        }
      ]
    },
    {
      "cell_type": "code",
      "source": [],
      "metadata": {
        "colab": {
          "base_uri": "https://localhost:8080/"
        },
        "id": "eS_24zzdfzXY",
        "outputId": "a6b25bcf-e649-43b8-e361-84e980e5299b"
      },
      "execution_count": null,
      "outputs": [
        {
          "output_type": "execute_result",
          "data": {
            "text/plain": [
              "True"
            ]
          },
          "metadata": {},
          "execution_count": 94
        }
      ]
    },
    {
      "cell_type": "code",
      "source": [
        "s = set([MyList([1,2,3]), MyList([1,2,4]), MyList([1,2,5])])\n",
        "s"
      ],
      "metadata": {
        "colab": {
          "base_uri": "https://localhost:8080/"
        },
        "id": "nRRuYivLflen",
        "outputId": "496a5244-f6d2-4ccb-a470-8550fc31bf54"
      },
      "execution_count": null,
      "outputs": [
        {
          "output_type": "execute_result",
          "data": {
            "text/plain": [
              "{[1, 2, 3], [1, 2, 4], [1, 2, 5]}"
            ]
          },
          "metadata": {},
          "execution_count": 97
        }
      ]
    },
    {
      "cell_type": "code",
      "source": [
        "# set\n",
        "s = set([1, 2, 3, 4, 4, 4,])\n",
        "print(s)\n",
        "\n",
        "try:\n",
        "    s = set([1, 2, 3, 4, 4, 4, [1, ]])\n",
        "    print(s)\n",
        "except TypeError:\n",
        "    pass"
      ],
      "metadata": {
        "colab": {
          "base_uri": "https://localhost:8080/"
        },
        "id": "lXzDsHQ_bZiM",
        "outputId": "8945ad35-9b29-4fe8-c4bf-f884d34ef29d"
      },
      "execution_count": null,
      "outputs": [
        {
          "output_type": "stream",
          "name": "stdout",
          "text": [
            "{1, 2, 3, 4}\n"
          ]
        }
      ]
    },
    {
      "cell_type": "code",
      "source": [
        "a = set([1, 2, 3, 4])\n",
        "b = set([4, 5, 6, 7])\n",
        "c = set([1, 2, 3, 4])\n",
        "\n",
        "print(a == c)\n",
        "print(a.union(b))\n",
        "print(a | b)\n",
        "print(a.intersection(b))\n",
        "print(a & b)"
      ],
      "metadata": {
        "colab": {
          "base_uri": "https://localhost:8080/"
        },
        "id": "1wRMSS-QbZkn",
        "outputId": "c44eb35b-e9bc-465a-fa83-c24520121e2b"
      },
      "execution_count": null,
      "outputs": [
        {
          "output_type": "stream",
          "name": "stdout",
          "text": [
            "True\n",
            "{1, 2, 3, 4, 5, 6, 7}\n",
            "{1, 2, 3, 4, 5, 6, 7}\n",
            "{4}\n",
            "{4}\n"
          ]
        }
      ]
    },
    {
      "cell_type": "code",
      "source": [
        "a = set([1, 2, 3, 4])\n",
        "a.add(123)\n",
        "print(a)\n",
        "a.remove(2)\n",
        "print(a)\n",
        "\n",
        "d = {frozenset(a): 1}"
      ],
      "metadata": {
        "colab": {
          "base_uri": "https://localhost:8080/"
        },
        "id": "cO28uzjzbZm3",
        "outputId": "ec0bc4d3-c904-43ab-b178-335cfb76035f"
      },
      "execution_count": null,
      "outputs": [
        {
          "output_type": "stream",
          "name": "stdout",
          "text": [
            "{1, 2, 3, 4, 123}\n",
            "{1, 3, 4, 123}\n"
          ]
        }
      ]
    },
    {
      "cell_type": "code",
      "source": [
        "a = set([1,2,3])\n",
        "b = set([4,5,6])\n",
        "\n",
        "a.isdisjoint(b)"
      ],
      "metadata": {
        "colab": {
          "base_uri": "https://localhost:8080/"
        },
        "id": "J59yD-pjbZpV",
        "outputId": "856b8ebd-ca78-447b-8077-9e5572de3db4"
      },
      "execution_count": null,
      "outputs": [
        {
          "output_type": "execute_result",
          "data": {
            "text/plain": [
              "True"
            ]
          },
          "metadata": {},
          "execution_count": 109
        }
      ]
    },
    {
      "cell_type": "code",
      "source": [
        "print(a.difference(b))\n",
        "b.add(3)\n",
        "print(a.difference(b))"
      ],
      "metadata": {
        "colab": {
          "base_uri": "https://localhost:8080/"
        },
        "id": "k0xQCwOuhB8x",
        "outputId": "67957b7b-653d-435d-b035-e8879ee5e22d"
      },
      "execution_count": null,
      "outputs": [
        {
          "output_type": "stream",
          "name": "stdout",
          "text": [
            "{1, 2, 3}\n",
            "{1, 2}\n"
          ]
        }
      ]
    },
    {
      "cell_type": "code",
      "source": [
        "# dir(a)"
      ],
      "metadata": {
        "id": "lMOsDMhVg7rn"
      },
      "execution_count": null,
      "outputs": []
    },
    {
      "cell_type": "code",
      "source": [
        "# bool\n",
        "print(a and b)\n",
        "print(a or b)\n",
        "print(not a)\n",
        "# a xor b"
      ],
      "metadata": {
        "colab": {
          "base_uri": "https://localhost:8080/"
        },
        "id": "hulrazWXg12J",
        "outputId": "250743f4-c7ab-4e9d-c76c-fad2cb40d7b0"
      },
      "execution_count": null,
      "outputs": [
        {
          "output_type": "stream",
          "name": "stdout",
          "text": [
            "False\n",
            "True\n",
            "False\n"
          ]
        }
      ]
    },
    {
      "cell_type": "code",
      "source": [
        "a = True\n",
        "b = False\n",
        "\n",
        "print((a or b) and not (a and b))"
      ],
      "metadata": {
        "colab": {
          "base_uri": "https://localhost:8080/"
        },
        "id": "hQr_drSnhahh",
        "outputId": "29dc65a4-eba8-4d2c-c6f7-e389ee17ba6a"
      },
      "execution_count": null,
      "outputs": [
        {
          "output_type": "stream",
          "name": "stdout",
          "text": [
            "True\n"
          ]
        }
      ]
    },
    {
      "cell_type": "code",
      "source": [
        "# bitwise operations\n",
        "\n",
        "# & | ^ !\n",
        "print((a ^ b))\n",
        "print(a & b)\n",
        "print(a | b)\n",
        "print(~a)"
      ],
      "metadata": {
        "colab": {
          "base_uri": "https://localhost:8080/"
        },
        "id": "PooabKyniYe4",
        "outputId": "30d18fdc-5fda-4660-f061-5ab66f2d3cfc"
      },
      "execution_count": null,
      "outputs": [
        {
          "output_type": "stream",
          "name": "stdout",
          "text": [
            "True\n",
            "False\n",
            "True\n",
            "-2\n"
          ]
        }
      ]
    },
    {
      "cell_type": "code",
      "source": [
        "a = int(\"0111\", base=2)\n",
        "b = int(\"1101\", base=2)\n",
        "\n",
        "print(a ^ b == int(\"1010\", base=2))\n",
        "print(a & b == int(\"0101\", base=2))\n",
        "print(a | b == int(\"1111\", base=2))"
      ],
      "metadata": {
        "colab": {
          "base_uri": "https://localhost:8080/"
        },
        "id": "Q9kqfxcPi8lZ",
        "outputId": "954a4e81-d418-4f2a-978f-6f9025b96432"
      },
      "execution_count": null,
      "outputs": [
        {
          "output_type": "stream",
          "name": "stdout",
          "text": [
            "True\n",
            "True\n",
            "True\n"
          ]
        }
      ]
    },
    {
      "cell_type": "code",
      "source": [
        "a = 2\n",
        "((a << 1) << 1) >> 1"
      ],
      "metadata": {
        "colab": {
          "base_uri": "https://localhost:8080/"
        },
        "id": "AwDYh7CwjXsg",
        "outputId": "3521e90d-c470-4557-e4fd-515b1c12f4e0"
      },
      "execution_count": null,
      "outputs": [
        {
          "output_type": "execute_result",
          "data": {
            "text/plain": [
              "4"
            ]
          },
          "metadata": {},
          "execution_count": 140
        }
      ]
    },
    {
      "cell_type": "code",
      "source": [
        "# None\n",
        "\n",
        "empty1 = None\n",
        "empty2 = None\n",
        "\n",
        "print(id(empty1))\n",
        "print(id(empty2))\n",
        "\n",
        "print(empty1 == empty2)\n",
        "print(empty1 == None)\n",
        "print(empty1 is None)"
      ],
      "metadata": {
        "colab": {
          "base_uri": "https://localhost:8080/"
        },
        "id": "Q6r4ksbNiYxK",
        "outputId": "587a2650-74fe-4ede-84e3-16ef221861a2"
      },
      "execution_count": null,
      "outputs": [
        {
          "output_type": "stream",
          "name": "stdout",
          "text": [
            "101891557176288\n",
            "101891557176288\n",
            "True\n",
            "True\n",
            "True\n"
          ]
        }
      ]
    },
    {
      "cell_type": "code",
      "source": [
        "a = 3\n",
        "b = 3\n",
        "\n",
        "print(id(a))\n",
        "print(id(b))"
      ],
      "metadata": {
        "colab": {
          "base_uri": "https://localhost:8080/"
        },
        "id": "2Gf8UzOUiOI8",
        "outputId": "ee440550-3f62-4405-93f1-0f8b129e3ffb"
      },
      "execution_count": null,
      "outputs": [
        {
          "output_type": "stream",
          "name": "stdout",
          "text": [
            "140031181127984\n",
            "140031181127984\n"
          ]
        }
      ]
    },
    {
      "cell_type": "code",
      "source": [
        "a = False\n",
        "b = False\n",
        "\n",
        "print(id(a))\n",
        "print(id(b))"
      ],
      "metadata": {
        "colab": {
          "base_uri": "https://localhost:8080/"
        },
        "id": "deyTAAXPk0IW",
        "outputId": "26ab9376-3fff-451f-f55a-a652ef039ef0"
      },
      "execution_count": null,
      "outputs": [
        {
          "output_type": "stream",
          "name": "stdout",
          "text": [
            "101891557131264\n",
            "101891557131264\n"
          ]
        }
      ]
    },
    {
      "cell_type": "code",
      "source": [
        "a = 1.0\n",
        "b = 1.0\n",
        "\n",
        "print(id(a))\n",
        "print(id(b))"
      ],
      "metadata": {
        "colab": {
          "base_uri": "https://localhost:8080/"
        },
        "id": "q6CKQhqykwyS",
        "outputId": "c1f87d98-e8f1-4c03-c5ce-3fd20c8b4b33"
      },
      "execution_count": null,
      "outputs": [
        {
          "output_type": "stream",
          "name": "stdout",
          "text": [
            "140029908271920\n",
            "140029908272720\n"
          ]
        }
      ]
    },
    {
      "cell_type": "code",
      "source": [
        "a = 500\n",
        "b = 500\n",
        "\n",
        "print(id(a))\n",
        "print(id(b))"
      ],
      "metadata": {
        "colab": {
          "base_uri": "https://localhost:8080/"
        },
        "id": "CL12fyQqiGbo",
        "outputId": "da273238-3847-45ed-f854-77cc41d8f3e6"
      },
      "execution_count": null,
      "outputs": [
        {
          "output_type": "stream",
          "name": "stdout",
          "text": [
            "140029908275440\n",
            "140029908271888\n"
          ]
        }
      ]
    },
    {
      "cell_type": "code",
      "source": [
        "a = \"asd\"\n",
        "b = \"asd\"\n",
        "\n",
        "print(id(a))\n",
        "print(id(b))"
      ],
      "metadata": {
        "colab": {
          "base_uri": "https://localhost:8080/"
        },
        "id": "68kQxcDflDLk",
        "outputId": "6f8514ad-52a1-44ba-db2d-7677d313ae09"
      },
      "execution_count": null,
      "outputs": [
        {
          "output_type": "stream",
          "name": "stdout",
          "text": [
            "140029908314736\n",
            "140029908314736\n"
          ]
        }
      ]
    },
    {
      "cell_type": "code",
      "source": [
        "a = 1\n",
        "print(isinstance(a, int))\n",
        "\n",
        "a = 1.0\n",
        "print(isinstance(a, float))"
      ],
      "metadata": {
        "colab": {
          "base_uri": "https://localhost:8080/"
        },
        "id": "vbyg7PL0h7FN",
        "outputId": "bcf29d4b-7ec7-4a52-8095-c10339b11f99"
      },
      "execution_count": null,
      "outputs": [
        {
          "output_type": "stream",
          "name": "stdout",
          "text": [
            "True\n",
            "True\n"
          ]
        }
      ]
    },
    {
      "cell_type": "code",
      "source": [
        "import this"
      ],
      "metadata": {
        "colab": {
          "base_uri": "https://localhost:8080/"
        },
        "id": "IJs_YYh5lPcF",
        "outputId": "009bfef5-6749-4bd6-f4ed-2a1b683b7402"
      },
      "execution_count": null,
      "outputs": [
        {
          "output_type": "stream",
          "name": "stdout",
          "text": [
            "The Zen of Python, by Tim Peters\n",
            "\n",
            "Beautiful is better than ugly.\n",
            "Explicit is better than implicit.\n",
            "Simple is better than complex.\n",
            "Complex is better than complicated.\n",
            "Flat is better than nested.\n",
            "Sparse is better than dense.\n",
            "Readability counts.\n",
            "Special cases aren't special enough to break the rules.\n",
            "Although practicality beats purity.\n",
            "Errors should never pass silently.\n",
            "Unless explicitly silenced.\n",
            "In the face of ambiguity, refuse the temptation to guess.\n",
            "There should be one-- and preferably only one --obvious way to do it.\n",
            "Although that way may not be obvious at first unless you're Dutch.\n",
            "Now is better than never.\n",
            "Although never is often better than *right* now.\n",
            "If the implementation is hard to explain, it's a bad idea.\n",
            "If the implementation is easy to explain, it may be a good idea.\n",
            "Namespaces are one honking great idea -- let's do more of those!\n"
          ]
        }
      ]
    }
  ]
}