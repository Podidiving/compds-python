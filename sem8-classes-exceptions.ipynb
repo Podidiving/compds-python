{
  "nbformat": 4,
  "nbformat_minor": 0,
  "metadata": {
    "colab": {
      "provenance": []
    },
    "kernelspec": {
      "name": "python3",
      "display_name": "Python 3"
    },
    "language_info": {
      "name": "python"
    }
  },
  "cells": [
    {
      "cell_type": "markdown",
      "source": [
        "### A bit more about decorators"
      ],
      "metadata": {
        "id": "bCkjP5J5u1Tg"
      }
    },
    {
      "cell_type": "markdown",
      "source": [
        "## Running at import time\n",
        "\n",
        "Key feature декораторов в том, что они применяются сразу после объявления декорируемой функции во время загрузки модуля в Python"
      ],
      "metadata": {
        "id": "BE7OY0n6vt4Z"
      }
    },
    {
      "cell_type": "code",
      "execution_count": 1,
      "metadata": {
        "colab": {
          "base_uri": "https://localhost:8080/"
        },
        "id": "UVdjWRSyuzq8",
        "outputId": "ca83fb50-cdc7-4d9f-c58b-fe775ffa659c"
      },
      "outputs": [
        {
          "output_type": "stream",
          "name": "stdout",
          "text": [
            "register: <function f1 at 0x7c6ee3f69240>\n",
            "register: <function f2 at 0x7c6ee3f688b0>\n"
          ]
        }
      ],
      "source": [
        "registry = []\n",
        "\n",
        "def register(func):\n",
        "    print(f\"register: {func}\")\n",
        "    registry.append(func)\n",
        "    return func\n",
        "\n",
        "@register\n",
        "def f1():\n",
        "    print(\"running f1\")\n",
        "\n",
        "@register\n",
        "def f2():\n",
        "    print(\"running f2\")\n",
        "\n",
        "def f3():\n",
        "    print(\"running f3\")"
      ]
    },
    {
      "cell_type": "code",
      "source": [
        "f1()\n",
        "f2()"
      ],
      "metadata": {
        "colab": {
          "base_uri": "https://localhost:8080/"
        },
        "id": "Z2IT5Z0NwNcs",
        "outputId": "b1dfac93-afd3-4ad9-b68d-a2b8c13c7e43"
      },
      "execution_count": 2,
      "outputs": [
        {
          "output_type": "stream",
          "name": "stdout",
          "text": [
            "running f1\n",
            "running f2\n"
          ]
        }
      ]
    },
    {
      "cell_type": "code",
      "source": [
        "f3()"
      ],
      "metadata": {
        "colab": {
          "base_uri": "https://localhost:8080/"
        },
        "id": "8q0NpdJPwU0e",
        "outputId": "6b124825-1bbd-4a74-cbbd-bf8fa22b94fa"
      },
      "execution_count": 3,
      "outputs": [
        {
          "output_type": "stream",
          "name": "stdout",
          "text": [
            "running f3\n"
          ]
        }
      ]
    },
    {
      "cell_type": "code",
      "source": [
        "registry"
      ],
      "metadata": {
        "colab": {
          "base_uri": "https://localhost:8080/"
        },
        "id": "uh1Bpm2QwV6T",
        "outputId": "e79ebd2a-9d80-4ca1-f7c7-d8c8be503c12"
      },
      "execution_count": 4,
      "outputs": [
        {
          "output_type": "execute_result",
          "data": {
            "text/plain": [
              "[<function __main__.f1()>, <function __main__.f2()>]"
            ]
          },
          "metadata": {},
          "execution_count": 4
        }
      ]
    },
    {
      "cell_type": "markdown",
      "source": [
        "## Декоратор-логгер\n",
        "\n",
        "### logging\n",
        "\n",
        "Модуль `logging` содержит набор функций для логирования различного поведения в вашей программе. Например, для понимания, что ваша программа работает как ожидается, или там идет что-то не так\n",
        "\n",
        "Есть разные уровни логирования: debug, info, warning, error, critical\n",
        "\n",
        "другая реализация логера: [loguru](https://loguru.readthedocs.io/en/stable/)"
      ],
      "metadata": {
        "id": "Q4fUlXS6u0vn"
      }
    },
    {
      "cell_type": "code",
      "source": [
        "import logging"
      ],
      "metadata": {
        "id": "Mx4ZwEXSwjny"
      },
      "execution_count": 5,
      "outputs": []
    },
    {
      "cell_type": "code",
      "source": [
        "logging.info('Working as expected')\n",
        "logging.warning('Smth might go wrong, check this!')"
      ],
      "metadata": {
        "colab": {
          "base_uri": "https://localhost:8080/"
        },
        "id": "wmwCmOPawwa1",
        "outputId": "0cad542e-ee65-4637-9540-c768793be3ba"
      },
      "execution_count": 6,
      "outputs": [
        {
          "output_type": "stream",
          "name": "stderr",
          "text": [
            "WARNING:root:Smth might go wrong, check this!\n"
          ]
        }
      ]
    },
    {
      "cell_type": "markdown",
      "source": [
        "Можно логировать в файл (надо начать новую сессию в Python)"
      ],
      "metadata": {
        "id": "8yXgtAguw9Ix"
      }
    },
    {
      "cell_type": "code",
      "source": [
        "!true > example.log"
      ],
      "metadata": {
        "id": "dPIfZyibxiEM"
      },
      "execution_count": 1,
      "outputs": []
    },
    {
      "cell_type": "code",
      "source": [
        "import os\n",
        "import logging\n",
        "\n",
        "log_filename = os.path.join('./example.log')\n",
        "log_level = logging.DEBUG\n",
        "\n",
        "logging.basicConfig(\n",
        "    filename=log_filename,\n",
        "    encoding='utf-8',\n",
        "    level=log_level,\n",
        "    force=True,  # https://stackoverflow.com/questions/54597462/problem-with-logging-module-in-google-colab\n",
        "    format='%(asctime)s %(message)s'\n",
        ")"
      ],
      "metadata": {
        "id": "sr9EfPJ_w2tb"
      },
      "execution_count": 2,
      "outputs": []
    },
    {
      "cell_type": "code",
      "source": [
        "logging.debug(\"debug\")\n",
        "logging.info(\"info\")\n",
        "logging.warning(\"warning\")\n",
        "logging.error(\"error\")"
      ],
      "metadata": {
        "id": "D7_fTVTbxMSb"
      },
      "execution_count": 3,
      "outputs": []
    },
    {
      "cell_type": "code",
      "source": [
        "!cat example.log"
      ],
      "metadata": {
        "colab": {
          "base_uri": "https://localhost:8080/"
        },
        "id": "SssHwYnoxTP7",
        "outputId": "d4b50211-0880-41d4-a12c-ee4561a173b9"
      },
      "execution_count": 4,
      "outputs": [
        {
          "output_type": "stream",
          "name": "stdout",
          "text": [
            "2023-09-29 11:51:25,956 debug\n",
            "2023-09-29 11:51:25,958 info\n",
            "2023-09-29 11:51:25,958 warning\n",
            "2023-09-29 11:51:25,958 error\n"
          ]
        }
      ]
    },
    {
      "cell_type": "markdown",
      "source": [
        "(надо начать новую сессию в Python)"
      ],
      "metadata": {
        "id": "9-2606hJyW2M"
      }
    },
    {
      "cell_type": "code",
      "source": [
        "import logging\n",
        "import sys\n",
        "\n",
        "# logger = logging.getLogger(name='log')\n",
        "# logger.setLevel(logging.DEBUG)\n",
        "# logger.addHandler(logging.StreamHandler(stream=sys.stdout))"
      ],
      "metadata": {
        "id": "3IFSz_gsyP6T"
      },
      "execution_count": 1,
      "outputs": []
    },
    {
      "cell_type": "code",
      "source": [
        "from functools import partial\n",
        "\n",
        "def logged(func=None,\n",
        "           *,\n",
        "           log_level=logging.INFO,\n",
        "           log_name=None,\n",
        "           log_message=None):\n",
        "    log_name = log_name if log_name else func.__name__\n",
        "    logger = logging.getLogger(log_name)\n",
        "\n",
        "    if func is None:\n",
        "        return partial(logged, log_level=log_level, log_name=log_name, log_message=log_message)\n",
        "\n",
        "    log_message = log_message if log_message else func.__name__\n",
        "    def wrapper(*args, **kwargs):\n",
        "        logger.log(log_level, log_message)\n",
        "        return func(*args, **kwargs)\n",
        "    return wrapper"
      ],
      "metadata": {
        "id": "iLCx6dNtyXJ7"
      },
      "execution_count": 2,
      "outputs": []
    },
    {
      "cell_type": "code",
      "source": [
        "@logged(log_name='log')\n",
        "def add(x, y):\n",
        "    return x + y"
      ],
      "metadata": {
        "id": "u9SqXnzAzCyV"
      },
      "execution_count": 3,
      "outputs": []
    },
    {
      "cell_type": "code",
      "source": [
        "add(1,2)"
      ],
      "metadata": {
        "colab": {
          "base_uri": "https://localhost:8080/"
        },
        "id": "Dxy_zOSbzEtS",
        "outputId": "f3b44955-965d-4824-f57e-ce3ad64d2e68"
      },
      "execution_count": 4,
      "outputs": [
        {
          "output_type": "execute_result",
          "data": {
            "text/plain": [
              "3"
            ]
          },
          "metadata": {},
          "execution_count": 4
        }
      ]
    },
    {
      "cell_type": "markdown",
      "source": [
        "## Classes"
      ],
      "metadata": {
        "id": "0OlTLwza0eay"
      }
    },
    {
      "cell_type": "markdown",
      "source": [
        "Initialization"
      ],
      "metadata": {
        "id": "OvLNOTDM09xO"
      }
    },
    {
      "cell_type": "code",
      "source": [
        "class A:\n",
        "    def __init__(self, param1, param2, secret_param, super_secret_param):\n",
        "        self.param1 = param1\n",
        "        self.param2 = param2\n",
        "        self._secret_param = secret_param\n",
        "        self.__super_secret_param = super_secret_param"
      ],
      "metadata": {
        "id": "oQXjvXqZ0_GC"
      },
      "execution_count": 5,
      "outputs": []
    },
    {
      "cell_type": "code",
      "source": [
        "a = A(1,2,3,4)"
      ],
      "metadata": {
        "id": "3MOFDU2K10zO"
      },
      "execution_count": 6,
      "outputs": []
    },
    {
      "cell_type": "code",
      "source": [
        "a.param1, a.param2"
      ],
      "metadata": {
        "colab": {
          "base_uri": "https://localhost:8080/"
        },
        "id": "fj12pfbP2Ihg",
        "outputId": "c0a9902b-6dc6-4898-c063-487af43bfb01"
      },
      "execution_count": 11,
      "outputs": [
        {
          "output_type": "execute_result",
          "data": {
            "text/plain": [
              "(1, 2)"
            ]
          },
          "metadata": {},
          "execution_count": 11
        }
      ]
    },
    {
      "cell_type": "code",
      "source": [
        "a._secret_param"
      ],
      "metadata": {
        "colab": {
          "base_uri": "https://localhost:8080/"
        },
        "id": "EkTDYCPT18is",
        "outputId": "83265892-eace-4de7-9e9b-709c3e8dca47"
      },
      "execution_count": 12,
      "outputs": [
        {
          "output_type": "execute_result",
          "data": {
            "text/plain": [
              "3"
            ]
          },
          "metadata": {},
          "execution_count": 12
        }
      ]
    },
    {
      "cell_type": "code",
      "source": [
        "a.__super_secret_param"
      ],
      "metadata": {
        "colab": {
          "base_uri": "https://localhost:8080/",
          "height": 174
        },
        "id": "tXfe477G197j",
        "outputId": "4d0eb6b7-89b9-468e-eddc-3fc0f5b9f850"
      },
      "execution_count": 13,
      "outputs": [
        {
          "output_type": "error",
          "ename": "AttributeError",
          "evalue": "ignored",
          "traceback": [
            "\u001b[0;31m---------------------------------------------------------------------------\u001b[0m",
            "\u001b[0;31mAttributeError\u001b[0m                            Traceback (most recent call last)",
            "\u001b[0;32m<ipython-input-13-cb5d9c257a40>\u001b[0m in \u001b[0;36m<cell line: 1>\u001b[0;34m()\u001b[0m\n\u001b[0;32m----> 1\u001b[0;31m \u001b[0ma\u001b[0m\u001b[0;34m.\u001b[0m\u001b[0m__super_secret_param\u001b[0m\u001b[0;34m\u001b[0m\u001b[0;34m\u001b[0m\u001b[0m\n\u001b[0m",
            "\u001b[0;31mAttributeError\u001b[0m: 'A' object has no attribute '__super_secret_param'"
          ]
        }
      ]
    },
    {
      "cell_type": "code",
      "source": [
        "print(dir(a)[:3])"
      ],
      "metadata": {
        "colab": {
          "base_uri": "https://localhost:8080/"
        },
        "id": "nea7ar9Z2Kd5",
        "outputId": "d501100b-acfc-4f63-8c5f-f283caa0322f"
      },
      "execution_count": 15,
      "outputs": [
        {
          "output_type": "stream",
          "name": "stdout",
          "text": [
            "['_A__super_secret_param', '__class__', '__delattr__']\n"
          ]
        }
      ]
    },
    {
      "cell_type": "code",
      "source": [
        "a._A__super_secret_param"
      ],
      "metadata": {
        "colab": {
          "base_uri": "https://localhost:8080/"
        },
        "id": "zndPOoo12Mlj",
        "outputId": "7eadb062-5360-430b-bb5c-c3649eb5ef30"
      },
      "execution_count": 17,
      "outputs": [
        {
          "output_type": "execute_result",
          "data": {
            "text/plain": [
              "4"
            ]
          },
          "metadata": {},
          "execution_count": 17
        }
      ]
    },
    {
      "cell_type": "code",
      "source": [],
      "metadata": {
        "id": "iWbdx-WK2Skh"
      },
      "execution_count": 17,
      "outputs": []
    },
    {
      "cell_type": "code",
      "source": [
        "class A:\n",
        "    def __new__(cls):\n",
        "        return super().__new__(cls)"
      ],
      "metadata": {
        "id": "fOZQCLoO2cht"
      },
      "execution_count": 18,
      "outputs": []
    },
    {
      "cell_type": "code",
      "source": [
        "a = A()"
      ],
      "metadata": {
        "id": "SrTd6zMY2s3i"
      },
      "execution_count": 19,
      "outputs": []
    },
    {
      "cell_type": "code",
      "source": [
        "class Singleton:\n",
        "    def __new__(cls):\n",
        "        if not hasattr(cls, \"instance\"):\n",
        "            cls.instance = super().__new__(cls)\n",
        "        return cls.instance"
      ],
      "metadata": {
        "id": "Y8Mp_Uky2tQO"
      },
      "execution_count": 23,
      "outputs": []
    },
    {
      "cell_type": "code",
      "source": [
        "# class Singleton:\n",
        "#     def __new__(cls):\n",
        "#         try:\n",
        "#             return cls.instance\n",
        "#         except AttributeError:\n",
        "#             cls.instance = super().__new__(cls)\n",
        "#             return cls.instance"
      ],
      "metadata": {
        "id": "IjTIspNO3goI"
      },
      "execution_count": 24,
      "outputs": []
    },
    {
      "cell_type": "code",
      "source": [
        "a = Singleton()\n",
        "b = Singleton()\n",
        "\n",
        "a is b"
      ],
      "metadata": {
        "colab": {
          "base_uri": "https://localhost:8080/"
        },
        "id": "Nwh4db3R28rF",
        "outputId": "2212d01f-29e2-4993-94b7-177526147f4d"
      },
      "execution_count": 25,
      "outputs": [
        {
          "output_type": "execute_result",
          "data": {
            "text/plain": [
              "True"
            ]
          },
          "metadata": {},
          "execution_count": 25
        }
      ]
    },
    {
      "cell_type": "code",
      "source": [
        "class A:\n",
        "    def __init__(self, a):\n",
        "        self.a = a\n",
        "\n",
        "    def method(self):\n",
        "        print(f\"in method of an object with a={self.a}\")\n",
        "\n",
        "    @staticmethod\n",
        "    def static_method():\n",
        "        print(f\"in static method of A object\")\n",
        "\n",
        "    @classmethod\n",
        "    def class_method(cls):\n",
        "        print(f\"In a class method of {cls}\")"
      ],
      "metadata": {
        "id": "gs5L4kOf3aOD"
      },
      "execution_count": 26,
      "outputs": []
    },
    {
      "cell_type": "code",
      "source": [
        "a = A(1)"
      ],
      "metadata": {
        "id": "RpFMOGY94pWl"
      },
      "execution_count": 27,
      "outputs": []
    },
    {
      "cell_type": "code",
      "source": [
        "a.method()"
      ],
      "metadata": {
        "colab": {
          "base_uri": "https://localhost:8080/"
        },
        "id": "31JdXgy24qtj",
        "outputId": "6b6e11eb-5e91-4684-ccc9-f4ddb9a32760"
      },
      "execution_count": 28,
      "outputs": [
        {
          "output_type": "stream",
          "name": "stdout",
          "text": [
            "in method of an object with a=1\n"
          ]
        }
      ]
    },
    {
      "cell_type": "code",
      "source": [
        "a.static_method()"
      ],
      "metadata": {
        "colab": {
          "base_uri": "https://localhost:8080/"
        },
        "id": "WtiHOoSu4r_G",
        "outputId": "8cd4066c-194c-4943-a1e0-6a8a9b66f16f"
      },
      "execution_count": 29,
      "outputs": [
        {
          "output_type": "stream",
          "name": "stdout",
          "text": [
            "in static method of A object\n"
          ]
        }
      ]
    },
    {
      "cell_type": "code",
      "source": [
        "A.static_method()"
      ],
      "metadata": {
        "colab": {
          "base_uri": "https://localhost:8080/"
        },
        "id": "3NzhP-WF4uEK",
        "outputId": "90a7ff23-66b5-4987-c955-e6b76e0e46b3"
      },
      "execution_count": 30,
      "outputs": [
        {
          "output_type": "stream",
          "name": "stdout",
          "text": [
            "in static method of A object\n"
          ]
        }
      ]
    },
    {
      "cell_type": "code",
      "source": [
        "a.class_method()"
      ],
      "metadata": {
        "colab": {
          "base_uri": "https://localhost:8080/"
        },
        "id": "-lc3WEwV4u4m",
        "outputId": "af3fd447-e17a-4431-ffa0-c35eef67dc60"
      },
      "execution_count": 32,
      "outputs": [
        {
          "output_type": "stream",
          "name": "stdout",
          "text": [
            "In a class method of <class '__main__.A'>\n"
          ]
        }
      ]
    },
    {
      "cell_type": "code",
      "source": [
        "A.class_method()"
      ],
      "metadata": {
        "colab": {
          "base_uri": "https://localhost:8080/"
        },
        "id": "lwV5CukN4xJO",
        "outputId": "638ecaa6-3465-4935-ccc8-b45ba96a601c"
      },
      "execution_count": 33,
      "outputs": [
        {
          "output_type": "stream",
          "name": "stdout",
          "text": [
            "In a class method of <class '__main__.A'>\n"
          ]
        }
      ]
    },
    {
      "cell_type": "code",
      "source": [
        "class Person:\n",
        "    def __init__(self, name):\n",
        "        self.name = name\n",
        "\n",
        "    @classmethod\n",
        "    def create_person(cls, name):\n",
        "        print(f\"In a class method of {cls}\")\n",
        "        return cls(name)"
      ],
      "metadata": {
        "id": "jE0Ag6r14zOl"
      },
      "execution_count": 34,
      "outputs": []
    },
    {
      "cell_type": "code",
      "source": [
        "Person.create_person(\"A\")"
      ],
      "metadata": {
        "colab": {
          "base_uri": "https://localhost:8080/"
        },
        "id": "SortLOR95FF3",
        "outputId": "80c3d9af-8450-47af-be50-be98f1fe4ba0"
      },
      "execution_count": 35,
      "outputs": [
        {
          "output_type": "stream",
          "name": "stdout",
          "text": [
            "In a class method of <class '__main__.Person'>\n"
          ]
        },
        {
          "output_type": "execute_result",
          "data": {
            "text/plain": [
              "<__main__.Person at 0x795cbcf1c7c0>"
            ]
          },
          "metadata": {},
          "execution_count": 35
        }
      ]
    },
    {
      "cell_type": "markdown",
      "source": [
        "### Наследование"
      ],
      "metadata": {
        "id": "Mf77mlQH5Zuo"
      }
    },
    {
      "cell_type": "code",
      "source": [
        "class A:\n",
        "    def __init__(self, a):\n",
        "        self.a = a\n",
        "\n",
        "    def method1(self):\n",
        "        print(\"IN A, method1\")\n",
        "\n",
        "    def method2(self):\n",
        "        print(\"IN A, method2\")\n",
        "\n",
        "    def method3(self):\n",
        "        print(\"IN A, method3\")"
      ],
      "metadata": {
        "id": "YFcSGlv85ZOa"
      },
      "execution_count": 46,
      "outputs": []
    },
    {
      "cell_type": "code",
      "source": [
        "class B(A):\n",
        "    def __init__(self, a, b):\n",
        "        super().__init__(a)\n",
        "        self.b = b\n",
        "\n",
        "    def method2(self):\n",
        "        print(\"IN B, method2\")\n",
        "\n",
        "    def method3(self):\n",
        "        print(\"IN B, method3\")\n",
        "        super().method3()"
      ],
      "metadata": {
        "id": "hWcqZNhs5mAL"
      },
      "execution_count": 47,
      "outputs": []
    },
    {
      "cell_type": "code",
      "source": [
        "a = A(1)\n",
        "b = B(1,2)"
      ],
      "metadata": {
        "id": "uxxyiakI6EIn"
      },
      "execution_count": 48,
      "outputs": []
    },
    {
      "cell_type": "code",
      "source": [
        "a.method1()\n",
        "a.method2()\n",
        "a.method3()"
      ],
      "metadata": {
        "colab": {
          "base_uri": "https://localhost:8080/"
        },
        "id": "ORnEq53x6GcL",
        "outputId": "9e8562a8-2975-405a-b135-bea44a1ab40e"
      },
      "execution_count": 49,
      "outputs": [
        {
          "output_type": "stream",
          "name": "stdout",
          "text": [
            "IN A, method1\n",
            "IN A, method2\n",
            "IN A, method3\n"
          ]
        }
      ]
    },
    {
      "cell_type": "code",
      "source": [
        "b.method1()\n",
        "b.method2()\n",
        "b.method3()"
      ],
      "metadata": {
        "colab": {
          "base_uri": "https://localhost:8080/"
        },
        "id": "GW34-KmG6IQi",
        "outputId": "9cfd11fd-89fa-4fd8-dfd9-5de280113352"
      },
      "execution_count": 50,
      "outputs": [
        {
          "output_type": "stream",
          "name": "stdout",
          "text": [
            "IN A, method1\n",
            "IN B, method2\n",
            "IN B, method3\n",
            "IN A, method3\n"
          ]
        }
      ]
    },
    {
      "cell_type": "markdown",
      "source": [
        "## Обработка исключений"
      ],
      "metadata": {
        "id": "MRJK_R_m5Yk2"
      }
    },
    {
      "cell_type": "code",
      "source": [
        "a = '1234'\n",
        "\n",
        "try:\n",
        "    a[0] = '10'\n",
        "except:\n",
        "    print('impossible to modify object')"
      ],
      "metadata": {
        "colab": {
          "base_uri": "https://localhost:8080/"
        },
        "id": "OXOfMsoY5IcL",
        "outputId": "38751851-bffc-4fea-f5e5-f177d4079ed2"
      },
      "execution_count": 51,
      "outputs": [
        {
          "output_type": "stream",
          "name": "stdout",
          "text": [
            "impossible to modify object\n"
          ]
        }
      ]
    },
    {
      "cell_type": "code",
      "source": [
        "a = '1234'\n",
        "\n",
        "try:\n",
        "    a[0] = '10'\n",
        "except:\n",
        "    print('impossible to modify object')\n",
        "else:\n",
        "    print(\"NOTHING BAD HAPPENED\")\n",
        "finally:\n",
        "    print(\"FINALLY IS CALLED\")"
      ],
      "metadata": {
        "colab": {
          "base_uri": "https://localhost:8080/"
        },
        "id": "yhxPBQWp6heU",
        "outputId": "ba8d3a35-0315-4a70-fd48-be8436467293"
      },
      "execution_count": 53,
      "outputs": [
        {
          "output_type": "stream",
          "name": "stdout",
          "text": [
            "impossible to modify object\n",
            "FINALLY IS CALLED\n"
          ]
        }
      ]
    },
    {
      "cell_type": "code",
      "source": [
        "a = '1234'\n",
        "\n",
        "try:\n",
        "    print(a)\n",
        "except:\n",
        "    print('impossible to modify object')\n",
        "else:\n",
        "    print(\"NOTHING BAD HAPPENED\")\n",
        "finally:\n",
        "    print(\"FINALLY IS CALLED\")"
      ],
      "metadata": {
        "colab": {
          "base_uri": "https://localhost:8080/"
        },
        "id": "yURfPCH96tFb",
        "outputId": "ae0e48a1-790f-4928-f06f-ba29f7df9deb"
      },
      "execution_count": 54,
      "outputs": [
        {
          "output_type": "stream",
          "name": "stdout",
          "text": [
            "1234\n",
            "NOTHING BAD HAPPENED\n",
            "FINALLY IS CALLED\n"
          ]
        }
      ]
    },
    {
      "cell_type": "code",
      "source": [
        "a = '1234'\n",
        "\n",
        "try:\n",
        "    a[0] = '10'\n",
        "except BaseException:\n",
        "    print('impossible to modify object')"
      ],
      "metadata": {
        "colab": {
          "base_uri": "https://localhost:8080/"
        },
        "id": "qNMxrHVN61al",
        "outputId": "6163b6a4-afbc-4662-bb44-c6f720709c4a"
      },
      "execution_count": 55,
      "outputs": [
        {
          "output_type": "stream",
          "name": "stdout",
          "text": [
            "impossible to modify object\n"
          ]
        }
      ]
    },
    {
      "cell_type": "code",
      "source": [
        "issubclass(TypeError, BaseException), issubclass(AttributeError, BaseException), issubclass(ValueError, BaseException)"
      ],
      "metadata": {
        "colab": {
          "base_uri": "https://localhost:8080/"
        },
        "id": "grGvbGI97E-R",
        "outputId": "8e539558-9203-4e6f-8b45-6bc1eabdab0a"
      },
      "execution_count": 58,
      "outputs": [
        {
          "output_type": "execute_result",
          "data": {
            "text/plain": [
              "(True, True, True)"
            ]
          },
          "metadata": {},
          "execution_count": 58
        }
      ]
    },
    {
      "cell_type": "markdown",
      "source": [
        "цепочка наследований"
      ],
      "metadata": {
        "id": "ZiJOPwpl7YrE"
      }
    },
    {
      "cell_type": "code",
      "source": [
        "TypeError.mro()"
      ],
      "metadata": {
        "colab": {
          "base_uri": "https://localhost:8080/"
        },
        "id": "Y--mYjhX7MaM",
        "outputId": "51e8b5f5-e523-4a2b-aa93-3c5a31efb9db"
      },
      "execution_count": 60,
      "outputs": [
        {
          "output_type": "execute_result",
          "data": {
            "text/plain": [
              "[TypeError, Exception, BaseException, object]"
            ]
          },
          "metadata": {},
          "execution_count": 60
        }
      ]
    },
    {
      "cell_type": "code",
      "source": [
        "class CustomStringException(BaseException):\n",
        "    pass"
      ],
      "metadata": {
        "id": "ay2e1_Qy7SqY"
      },
      "execution_count": 61,
      "outputs": []
    },
    {
      "cell_type": "code",
      "source": [
        "a = '1234'\n",
        "\n",
        "try:\n",
        "    a[0] = '10'\n",
        "except ValueError:\n",
        "    print(\"DIDNT HAPPEN\")\n",
        "except BaseException:\n",
        "    print(\"HERE!\")\n",
        "except TypeError:\n",
        "    print(\"HERE!!!!!!!!\")"
      ],
      "metadata": {
        "colab": {
          "base_uri": "https://localhost:8080/"
        },
        "id": "9yfKthPX7fpo",
        "outputId": "e8ba56bb-ad68-433e-eae3-279a8159f245"
      },
      "execution_count": 63,
      "outputs": [
        {
          "output_type": "stream",
          "name": "stdout",
          "text": [
            "HERE!\n"
          ]
        }
      ]
    },
    {
      "cell_type": "code",
      "source": [
        "a = '1234'\n",
        "\n",
        "try:\n",
        "    a[0] = '10'\n",
        "except TypeError as e:\n",
        "    raise CustomStringException(e)"
      ],
      "metadata": {
        "colab": {
          "base_uri": "https://localhost:8080/",
          "height": 378
        },
        "id": "OBlDEqnM7ihX",
        "outputId": "516635d7-f7f4-43e1-c9c4-b1ae3581577c"
      },
      "execution_count": 66,
      "outputs": [
        {
          "output_type": "error",
          "ename": "CustomStringException",
          "evalue": "ignored",
          "traceback": [
            "\u001b[0;31m---------------------------------------------------------------------------\u001b[0m",
            "\u001b[0;31mTypeError\u001b[0m                                 Traceback (most recent call last)",
            "\u001b[0;32m<ipython-input-66-da2fd593ceea>\u001b[0m in \u001b[0;36m<cell line: 3>\u001b[0;34m()\u001b[0m\n\u001b[1;32m      3\u001b[0m \u001b[0;32mtry\u001b[0m\u001b[0;34m:\u001b[0m\u001b[0;34m\u001b[0m\u001b[0;34m\u001b[0m\u001b[0m\n\u001b[0;32m----> 4\u001b[0;31m     \u001b[0ma\u001b[0m\u001b[0;34m[\u001b[0m\u001b[0;36m0\u001b[0m\u001b[0;34m]\u001b[0m \u001b[0;34m=\u001b[0m \u001b[0;34m'10'\u001b[0m\u001b[0;34m\u001b[0m\u001b[0;34m\u001b[0m\u001b[0m\n\u001b[0m\u001b[1;32m      5\u001b[0m \u001b[0;32mexcept\u001b[0m \u001b[0mTypeError\u001b[0m \u001b[0;32mas\u001b[0m \u001b[0me\u001b[0m\u001b[0;34m:\u001b[0m\u001b[0;34m\u001b[0m\u001b[0;34m\u001b[0m\u001b[0m\n",
            "\u001b[0;31mTypeError\u001b[0m: 'str' object does not support item assignment",
            "\nDuring handling of the above exception, another exception occurred:\n",
            "\u001b[0;31mCustomStringException\u001b[0m                     Traceback (most recent call last)",
            "\u001b[0;32m<ipython-input-66-da2fd593ceea>\u001b[0m in \u001b[0;36m<cell line: 3>\u001b[0;34m()\u001b[0m\n\u001b[1;32m      4\u001b[0m     \u001b[0ma\u001b[0m\u001b[0;34m[\u001b[0m\u001b[0;36m0\u001b[0m\u001b[0;34m]\u001b[0m \u001b[0;34m=\u001b[0m \u001b[0;34m'10'\u001b[0m\u001b[0;34m\u001b[0m\u001b[0;34m\u001b[0m\u001b[0m\n\u001b[1;32m      5\u001b[0m \u001b[0;32mexcept\u001b[0m \u001b[0mTypeError\u001b[0m \u001b[0;32mas\u001b[0m \u001b[0me\u001b[0m\u001b[0;34m:\u001b[0m\u001b[0;34m\u001b[0m\u001b[0;34m\u001b[0m\u001b[0m\n\u001b[0;32m----> 6\u001b[0;31m     \u001b[0;32mraise\u001b[0m \u001b[0mCustomStringException\u001b[0m\u001b[0;34m(\u001b[0m\u001b[0me\u001b[0m\u001b[0;34m)\u001b[0m\u001b[0;34m\u001b[0m\u001b[0;34m\u001b[0m\u001b[0m\n\u001b[0m",
            "\u001b[0;31mCustomStringException\u001b[0m: 'str' object does not support item assignment"
          ]
        }
      ]
    },
    {
      "cell_type": "code",
      "source": [
        "class A(Exception):\n",
        "    pass\n",
        "\n",
        "class B(A):\n",
        "    pass\n",
        "\n",
        "class C(B):\n",
        "    pass\n",
        "\n",
        "for cls in [C, A, B]:\n",
        "    try:\n",
        "        print(f'raised {cls.__name__}')\n",
        "        raise cls()\n",
        "\n",
        "    except A:\n",
        "        print('A')\n",
        "\n",
        "    except C:\n",
        "        print('C')\n",
        "\n",
        "    except B:\n",
        "        print('B')\n",
        "\n",
        ""
      ],
      "metadata": {
        "colab": {
          "base_uri": "https://localhost:8080/"
        },
        "id": "7-OgcR6e8Pky",
        "outputId": "79b85aab-d25f-4455-cbee-32c89d8e1881"
      },
      "execution_count": 67,
      "outputs": [
        {
          "output_type": "stream",
          "name": "stdout",
          "text": [
            "raised C\n",
            "A\n",
            "raised A\n",
            "A\n",
            "raised B\n",
            "A\n"
          ]
        }
      ]
    },
    {
      "cell_type": "code",
      "source": [
        "for cls in [C, A, B]:\n",
        "    try:\n",
        "        print(f'raised {cls.__name__}')\n",
        "        raise cls()\n",
        "\n",
        "    except B:\n",
        "        print('B')\n",
        "\n",
        "    except C:\n",
        "        print('C')\n",
        "\n",
        "    except A:\n",
        "        print('A')\n",
        "\n",
        ""
      ],
      "metadata": {
        "colab": {
          "base_uri": "https://localhost:8080/"
        },
        "id": "gpDU97Sa8fhP",
        "outputId": "254ddf21-5979-47ce-90e4-266720e75881"
      },
      "execution_count": 68,
      "outputs": [
        {
          "output_type": "stream",
          "name": "stdout",
          "text": [
            "raised C\n",
            "B\n",
            "raised A\n",
            "A\n",
            "raised B\n",
            "B\n"
          ]
        }
      ]
    },
    {
      "cell_type": "code",
      "source": [
        "for cls in [C, A, B]:\n",
        "    try:\n",
        "        print(f'raised {cls.__name__}')\n",
        "        raise cls()\n",
        "\n",
        "    except C:\n",
        "        print('C')\n",
        "\n",
        "    except B:\n",
        "        print('B')\n",
        "\n",
        "    except A:\n",
        "        print('A')\n",
        "\n",
        ""
      ],
      "metadata": {
        "colab": {
          "base_uri": "https://localhost:8080/"
        },
        "id": "Rfo7auBt8lFP",
        "outputId": "603d7ca3-45bf-4834-ab38-fb0da9c8a9a1"
      },
      "execution_count": 69,
      "outputs": [
        {
          "output_type": "stream",
          "name": "stdout",
          "text": [
            "raised C\n",
            "C\n",
            "raised A\n",
            "A\n",
            "raised B\n",
            "B\n"
          ]
        }
      ]
    },
    {
      "cell_type": "code",
      "source": [],
      "metadata": {
        "id": "0Qso7jcB8nsJ"
      },
      "execution_count": null,
      "outputs": []
    }
  ]
}