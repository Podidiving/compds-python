{
  "nbformat": 4,
  "nbformat_minor": 0,
  "metadata": {
    "colab": {
      "provenance": []
    },
    "kernelspec": {
      "name": "python3",
      "display_name": "Python 3"
    },
    "language_info": {
      "name": "python"
    }
  },
  "cells": [
    {
      "cell_type": "markdown",
      "source": [
        "Python's functional features"
      ],
      "metadata": {
        "id": "m1VSZaW7ZQT3"
      }
    },
    {
      "cell_type": "markdown",
      "source": [
        "http://python-history.blogspot.com/2009/04/origins-of-pythons-functional-features.html"
      ],
      "metadata": {
        "id": "2MCqJ_enZ-ur"
      }
    },
    {
      "cell_type": "code",
      "execution_count": null,
      "metadata": {
        "id": "zegvJCt0ZJye"
      },
      "outputs": [],
      "source": [
        "from operator import itemgetter, attrgetter, methodcaller"
      ]
    },
    {
      "cell_type": "code",
      "source": [
        "some_data = [\n",
        "    ('A', 'JP', 36.933, (1, 139.691667)),\n",
        "    ('B', 'IN', 21.935, (28.613889, 77.208889)),\n",
        "    ('C', 'MX', 20.142, (19.433333, -99.133333)),\n",
        "    ('A', 'US', 20.104, (-1, -74.020386)),\n",
        "    ('B', 'BR', 19.649, (-23.547778, -46.635833)),\n",
        "]"
      ],
      "metadata": {
        "id": "-nUeznxHZYCr"
      },
      "execution_count": null,
      "outputs": []
    },
    {
      "cell_type": "code",
      "source": [
        "sorted(some_data, key=lambda x: x[1])"
      ],
      "metadata": {
        "colab": {
          "base_uri": "https://localhost:8080/"
        },
        "id": "cEKsM-31aErj",
        "outputId": "628d970f-ba95-4538-cbdb-4b715d7ff2d1"
      },
      "execution_count": null,
      "outputs": [
        {
          "output_type": "execute_result",
          "data": {
            "text/plain": [
              "[('B', 'BR', 19.649, (-23.547778, -46.635833)),\n",
              " ('B', 'IN', 21.935, (28.613889, 77.208889)),\n",
              " ('A', 'JP', 36.933, (1, 139.691667)),\n",
              " ('C', 'MX', 20.142, (19.433333, -99.133333)),\n",
              " ('A', 'US', 20.104, (-1, -74.020386))]"
            ]
          },
          "metadata": {},
          "execution_count": 5
        }
      ]
    },
    {
      "cell_type": "code",
      "source": [
        "sorted(some_data, key=itemgetter(1))"
      ],
      "metadata": {
        "colab": {
          "base_uri": "https://localhost:8080/"
        },
        "id": "DZp1-4iqZTSm",
        "outputId": "c9dacc10-4ca2-4586-9b77-13eea6b11372"
      },
      "execution_count": null,
      "outputs": [
        {
          "output_type": "execute_result",
          "data": {
            "text/plain": [
              "[('B', 'BR', 19.649, (-23.547778, -46.635833)),\n",
              " ('B', 'IN', 21.935, (28.613889, 77.208889)),\n",
              " ('A', 'JP', 36.933, (1, 139.691667)),\n",
              " ('C', 'MX', 20.142, (19.433333, -99.133333)),\n",
              " ('A', 'US', 20.104, (-1, -74.020386))]"
            ]
          },
          "metadata": {},
          "execution_count": 6
        }
      ]
    },
    {
      "cell_type": "code",
      "source": [
        "type(itemgetter(1))"
      ],
      "metadata": {
        "colab": {
          "base_uri": "https://localhost:8080/"
        },
        "id": "aO7er-tpZYTO",
        "outputId": "a82f4f05-a643-4b2b-903e-e56c4d435ee8"
      },
      "execution_count": null,
      "outputs": [
        {
          "output_type": "execute_result",
          "data": {
            "text/plain": [
              "operator.itemgetter"
            ]
          },
          "metadata": {},
          "execution_count": 9
        }
      ]
    },
    {
      "cell_type": "code",
      "source": [
        "itemgetter(1)(some_data)  # some_data[1]"
      ],
      "metadata": {
        "colab": {
          "base_uri": "https://localhost:8080/"
        },
        "id": "vt6Q8YglacL7",
        "outputId": "d0c6e96d-ddd6-4d32-92b1-1177841a0736"
      },
      "execution_count": null,
      "outputs": [
        {
          "output_type": "execute_result",
          "data": {
            "text/plain": [
              "('B', 'IN', 21.935, (28.613889, 77.208889))"
            ]
          },
          "metadata": {},
          "execution_count": 10
        }
      ]
    },
    {
      "cell_type": "code",
      "source": [
        "sorted(some_data, key=itemgetter(0))"
      ],
      "metadata": {
        "colab": {
          "base_uri": "https://localhost:8080/"
        },
        "id": "jaI5wQ5Ka0x3",
        "outputId": "e4b1269c-435e-4838-f102-3efa105a3577"
      },
      "execution_count": null,
      "outputs": [
        {
          "output_type": "execute_result",
          "data": {
            "text/plain": [
              "[('A', 'JP', 36.933, (1, 139.691667)),\n",
              " ('A', 'US', 20.104, (-1, -74.020386)),\n",
              " ('B', 'IN', 21.935, (28.613889, 77.208889)),\n",
              " ('B', 'BR', 19.649, (-23.547778, -46.635833)),\n",
              " ('C', 'MX', 20.142, (19.433333, -99.133333))]"
            ]
          },
          "metadata": {},
          "execution_count": 12
        }
      ]
    },
    {
      "cell_type": "code",
      "source": [
        "sorted(some_data, key=itemgetter(0, 2))"
      ],
      "metadata": {
        "colab": {
          "base_uri": "https://localhost:8080/"
        },
        "id": "9RpOzOwAarqy",
        "outputId": "3a7ce6aa-f3a7-47a9-9502-1ed6dd07a2e4"
      },
      "execution_count": null,
      "outputs": [
        {
          "output_type": "execute_result",
          "data": {
            "text/plain": [
              "[('A', 'US', 20.104, (-1, -74.020386)),\n",
              " ('A', 'JP', 36.933, (1, 139.691667)),\n",
              " ('B', 'BR', 19.649, (-23.547778, -46.635833)),\n",
              " ('B', 'IN', 21.935, (28.613889, 77.208889)),\n",
              " ('C', 'MX', 20.142, (19.433333, -99.133333))]"
            ]
          },
          "metadata": {},
          "execution_count": 13
        }
      ]
    },
    {
      "cell_type": "code",
      "source": [
        "itemgetter(0, 2)(some_data)  # some_data[0, 2]"
      ],
      "metadata": {
        "colab": {
          "base_uri": "https://localhost:8080/"
        },
        "id": "vQkXEJCaayX5",
        "outputId": "ea309bc0-0030-49c9-bd3e-262f17a852e5"
      },
      "execution_count": null,
      "outputs": [
        {
          "output_type": "execute_result",
          "data": {
            "text/plain": [
              "(('A', 'JP', 36.933, (1, 139.691667)),\n",
              " ('C', 'MX', 20.142, (19.433333, -99.133333)))"
            ]
          },
          "metadata": {},
          "execution_count": 17
        }
      ]
    },
    {
      "cell_type": "code",
      "source": [
        "itemgetter  # __getitem__"
      ],
      "metadata": {
        "colab": {
          "base_uri": "https://localhost:8080/"
        },
        "id": "5ZxZLfKWbPNG",
        "outputId": "51c140d0-1021-498e-bfbd-53e952d6e840"
      },
      "execution_count": null,
      "outputs": [
        {
          "output_type": "execute_result",
          "data": {
            "text/plain": [
              "operator.itemgetter"
            ]
          },
          "metadata": {},
          "execution_count": 19
        }
      ]
    },
    {
      "cell_type": "code",
      "source": [
        "# attrgetter"
      ],
      "metadata": {
        "id": "ZQe4eDvybYUb"
      },
      "execution_count": null,
      "outputs": []
    },
    {
      "cell_type": "code",
      "source": [
        "from collections import namedtuple\n",
        "\n",
        "Subject = namedtuple('Subject', 'name difficulty')\n",
        "python_course = Subject(name=\"python\", difficulty=1)"
      ],
      "metadata": {
        "id": "UjABew4ga9mT"
      },
      "execution_count": null,
      "outputs": []
    },
    {
      "cell_type": "code",
      "source": [
        "python_course.name"
      ],
      "metadata": {
        "colab": {
          "base_uri": "https://localhost:8080/",
          "height": 35
        },
        "id": "sIUJTLhIbe53",
        "outputId": "057a4c95-f9fa-4f6a-c4fa-fb3239457ff9"
      },
      "execution_count": null,
      "outputs": [
        {
          "output_type": "execute_result",
          "data": {
            "text/plain": [
              "'python'"
            ],
            "application/vnd.google.colaboratory.intrinsic+json": {
              "type": "string"
            }
          },
          "metadata": {},
          "execution_count": 22
        }
      ]
    },
    {
      "cell_type": "code",
      "source": [
        "attrgetter(\"name\")(python_course)"
      ],
      "metadata": {
        "colab": {
          "base_uri": "https://localhost:8080/",
          "height": 35
        },
        "id": "j7jP8LRHbiZS",
        "outputId": "3e6f6402-852d-4565-cf17-364e8fdbc528"
      },
      "execution_count": null,
      "outputs": [
        {
          "output_type": "execute_result",
          "data": {
            "text/plain": [
              "'python'"
            ],
            "application/vnd.google.colaboratory.intrinsic+json": {
              "type": "string"
            }
          },
          "metadata": {},
          "execution_count": 24
        }
      ]
    },
    {
      "cell_type": "code",
      "source": [
        "# https://ru.stackoverflow.com/questions/1213664/%D0%A0%D0%B0%D0%B7%D0%BD%D0%B8%D1%86%D0%B0-%D0%BC%D0%B5%D0%B6%D0%B4%D1%83-getattr-%D0%B8-getattribute\n",
        "python_course.__getattribute__(\"name\")  # python_course.__getattr__(\"name\")"
      ],
      "metadata": {
        "colab": {
          "base_uri": "https://localhost:8080/",
          "height": 35
        },
        "id": "RsFGt2IsboD0",
        "outputId": "9e2dd6e4-8a85-44d8-f02e-08ef7b3ed1b4"
      },
      "execution_count": null,
      "outputs": [
        {
          "output_type": "execute_result",
          "data": {
            "text/plain": [
              "'python'"
            ],
            "application/vnd.google.colaboratory.intrinsic+json": {
              "type": "string"
            }
          },
          "metadata": {},
          "execution_count": 27
        }
      ]
    },
    {
      "cell_type": "code",
      "source": [
        "# methodcaller\n",
        "some_str = \"some string\"\n",
        "print(some_str.upper())"
      ],
      "metadata": {
        "colab": {
          "base_uri": "https://localhost:8080/"
        },
        "id": "4Kx3IeOUb8fn",
        "outputId": "83ccf266-6099-46ab-8804-840cfbbaca51"
      },
      "execution_count": null,
      "outputs": [
        {
          "output_type": "stream",
          "name": "stdout",
          "text": [
            "SOME STRING\n"
          ]
        }
      ]
    },
    {
      "cell_type": "code",
      "source": [
        "print(methodcaller(\"upper\")(some_str))"
      ],
      "metadata": {
        "colab": {
          "base_uri": "https://localhost:8080/"
        },
        "id": "tuQJg58fcAs0",
        "outputId": "efdee23d-982b-480e-e416-665a90deb123"
      },
      "execution_count": null,
      "outputs": [
        {
          "output_type": "stream",
          "name": "stdout",
          "text": [
            "SOME STRING\n"
          ]
        }
      ]
    },
    {
      "cell_type": "code",
      "source": [
        "some_str.replace?"
      ],
      "metadata": {
        "id": "L8Y4yTZicaPm"
      },
      "execution_count": null,
      "outputs": []
    },
    {
      "cell_type": "code",
      "source": [
        "some_str.replace(\"s\", \"X\")"
      ],
      "metadata": {
        "colab": {
          "base_uri": "https://localhost:8080/",
          "height": 35
        },
        "id": "JsnPvDIccjGd",
        "outputId": "a902a707-17fd-434a-dd67-f04255068a46"
      },
      "execution_count": null,
      "outputs": [
        {
          "output_type": "execute_result",
          "data": {
            "text/plain": [
              "'Xome Xtring'"
            ],
            "application/vnd.google.colaboratory.intrinsic+json": {
              "type": "string"
            }
          },
          "metadata": {},
          "execution_count": 33
        }
      ]
    },
    {
      "cell_type": "code",
      "source": [
        "caller = methodcaller(\"replace\", \"s\", \"X\")\n",
        "caller(some_str)"
      ],
      "metadata": {
        "colab": {
          "base_uri": "https://localhost:8080/",
          "height": 35
        },
        "id": "xwjSioyUcmoy",
        "outputId": "09cb1a30-65cb-4c9b-b865-806d28aebe7f"
      },
      "execution_count": null,
      "outputs": [
        {
          "output_type": "execute_result",
          "data": {
            "text/plain": [
              "'Xome Xtring'"
            ],
            "application/vnd.google.colaboratory.intrinsic+json": {
              "type": "string"
            }
          },
          "metadata": {},
          "execution_count": 34
        }
      ]
    },
    {
      "cell_type": "code",
      "source": [
        "# methodcaller?"
      ],
      "metadata": {
        "id": "BK9jTiEbctBM"
      },
      "execution_count": null,
      "outputs": []
    },
    {
      "cell_type": "code",
      "source": [
        "from operator import mul\n",
        "from functools import partial"
      ],
      "metadata": {
        "id": "EHDPPgltcu8k"
      },
      "execution_count": null,
      "outputs": []
    },
    {
      "cell_type": "code",
      "source": [
        "def quadriple(x):\n",
        "    return mul(4, x)\n",
        "\n",
        "quadriple = lambda x: mul(4, x)\n",
        "\n",
        "quadriple = partial(mul, 4)"
      ],
      "metadata": {
        "id": "euKtJloSc8x_"
      },
      "execution_count": null,
      "outputs": []
    },
    {
      "cell_type": "code",
      "source": [
        "#new_func = partial(func, *args)\n",
        "#new_func(x) <-> func(*args, x)"
      ],
      "metadata": {
        "id": "ijWXq79HdBxW"
      },
      "execution_count": null,
      "outputs": []
    },
    {
      "cell_type": "code",
      "source": [
        "list(map(quadriple, range(10)))"
      ],
      "metadata": {
        "colab": {
          "base_uri": "https://localhost:8080/"
        },
        "id": "O_sK2LkPdbec",
        "outputId": "e5f2e8f5-2456-48b6-cfa4-abd841125fdf"
      },
      "execution_count": null,
      "outputs": [
        {
          "output_type": "execute_result",
          "data": {
            "text/plain": [
              "[0, 4, 8, 12, 16, 20, 24, 28, 32, 36]"
            ]
          },
          "metadata": {},
          "execution_count": 4
        }
      ]
    },
    {
      "cell_type": "code",
      "source": [
        "# from multiprocessing import Pool\n",
        "\n",
        "\n",
        "# def f(a, b, c, d):\n",
        "#     pass\n",
        "\n",
        "\n",
        "# objects = list(range(100000))\n",
        "# default_a = 0\n",
        "# default_b = 0\n",
        "# default_c = 0\n",
        "\n",
        "# num_process = 5\n",
        "\n",
        "# ff = partial(f, default_a, default_b, default_c)\n",
        "# ff(d) <-> f(default_a, default_b, default_c, d)\n",
        "\n",
        "# with Pool(num_process) as p:\n",
        "#     p.map(ff, objects)  # ff(object)"
      ],
      "metadata": {
        "id": "LES-hpZadvG0"
      },
      "execution_count": null,
      "outputs": []
    },
    {
      "cell_type": "code",
      "source": [
        "def func(*params):\n",
        "    pass\n",
        "\n",
        "a = [1,2,3,4,5,6]\n",
        "sorted(a, key=lambda x: -x)"
      ],
      "metadata": {
        "colab": {
          "base_uri": "https://localhost:8080/"
        },
        "id": "ggWKcJYDe0KJ",
        "outputId": "593f29f4-d8ca-4852-cf9e-1ede4171fa39"
      },
      "execution_count": null,
      "outputs": [
        {
          "output_type": "execute_result",
          "data": {
            "text/plain": [
              "[6, 5, 4, 3, 2, 1]"
            ]
          },
          "metadata": {},
          "execution_count": 6
        }
      ]
    },
    {
      "cell_type": "code",
      "source": [
        "def invert(x):\n",
        "    return -x\n",
        "\n",
        "invert = lambda x: -x"
      ],
      "metadata": {
        "id": "oCNKWtUrgZw7"
      },
      "execution_count": null,
      "outputs": []
    },
    {
      "cell_type": "code",
      "source": [
        "# lambda params: payload\n",
        "\n",
        "# def _ (params):\n",
        "#     return payload\n",
        "\n",
        "(lambda x, y, z: x + y + z)(1,2,3)"
      ],
      "metadata": {
        "colab": {
          "base_uri": "https://localhost:8080/"
        },
        "id": "VvlOHnmKgoBW",
        "outputId": "256f161f-7ded-407d-8d51-a54356167dc3"
      },
      "execution_count": null,
      "outputs": [
        {
          "output_type": "execute_result",
          "data": {
            "text/plain": [
              "6"
            ]
          },
          "metadata": {},
          "execution_count": 8
        }
      ]
    },
    {
      "cell_type": "code",
      "source": [
        "def decorated(func):\n",
        "    def inner(*args, **kwargs):\n",
        "        print(\"BEFORE CALL\")\n",
        "        result = func(*args, **kwargs)\n",
        "        print(\"AFTER CALL\")\n",
        "        return result\n",
        "    return inner\n",
        "\n",
        "\n",
        "@decorated\n",
        "def f(a, b):\n",
        "    return a + b\n",
        "\n",
        "# f = decorated(f)"
      ],
      "metadata": {
        "id": "S3fTYfDzg5Xt"
      },
      "execution_count": null,
      "outputs": []
    },
    {
      "cell_type": "code",
      "source": [
        "f(1, 2)"
      ],
      "metadata": {
        "colab": {
          "base_uri": "https://localhost:8080/"
        },
        "id": "jasa2lhchkdZ",
        "outputId": "813add2d-422e-43de-b932-a2c0421aeede"
      },
      "execution_count": null,
      "outputs": [
        {
          "output_type": "stream",
          "name": "stdout",
          "text": [
            "BEFORE CALL\n",
            "AFTER CALL\n"
          ]
        },
        {
          "output_type": "execute_result",
          "data": {
            "text/plain": [
              "3"
            ]
          },
          "metadata": {},
          "execution_count": 10
        }
      ]
    },
    {
      "cell_type": "code",
      "source": [
        "from functools import wraps"
      ],
      "metadata": {
        "id": "NpBNmHLlhlLd"
      },
      "execution_count": null,
      "outputs": []
    },
    {
      "cell_type": "code",
      "source": [
        "import time\n",
        "\n",
        "\n",
        "def clock(func):\n",
        "    @wraps(func)\n",
        "    def clocked(*args, **kwargs):\n",
        "        start = time.time()\n",
        "        result = func(*args, **kwargs)\n",
        "        total_time = time.time() - start\n",
        "        print(f'{func.__name__}({args}) -> {result} executed in {total_time:.2f}s')\n",
        "        return result\n",
        "    return clocked"
      ],
      "metadata": {
        "id": "t9PeOINihxOa"
      },
      "execution_count": null,
      "outputs": []
    },
    {
      "cell_type": "code",
      "source": [
        "@clock\n",
        "def calc_slow_fact(n):\n",
        "    time.sleep(1)\n",
        "    if n < 0:\n",
        "        return -1\n",
        "\n",
        "    if n <= 1:\n",
        "        return 1\n",
        "    return n * calc_slow_fact(n - 1)"
      ],
      "metadata": {
        "id": "0qmILNpEiNDf"
      },
      "execution_count": null,
      "outputs": []
    },
    {
      "cell_type": "code",
      "source": [
        "calc_slow_fact(5)"
      ],
      "metadata": {
        "colab": {
          "base_uri": "https://localhost:8080/"
        },
        "id": "hsfgbT1AiNlZ",
        "outputId": "da526f15-9c0d-4a3a-8943-b9f885054708"
      },
      "execution_count": null,
      "outputs": [
        {
          "output_type": "stream",
          "name": "stdout",
          "text": [
            "calc_slow_fact((1,)) -> 1 executed in 1.00s\n",
            "calc_slow_fact((2,)) -> 2 executed in 2.00s\n",
            "calc_slow_fact((3,)) -> 6 executed in 3.00s\n",
            "calc_slow_fact((4,)) -> 24 executed in 4.01s\n",
            "calc_slow_fact((5,)) -> 120 executed in 5.01s\n"
          ]
        },
        {
          "output_type": "execute_result",
          "data": {
            "text/plain": [
              "120"
            ]
          },
          "metadata": {},
          "execution_count": 17
        }
      ]
    },
    {
      "cell_type": "code",
      "source": [
        "def clock(active=True):\n",
        "    def decorate(func):\n",
        "        @wraps(func)\n",
        "        def clocked(*args, **kwargs):\n",
        "            if not active:\n",
        "                return func(*args, **kwargs)\n",
        "            start = time.time()\n",
        "            result = func(*args, **kwargs)\n",
        "            total_time = time.time() - start\n",
        "            print(f'{func.__name__}({args}) -> {result} executed in {total_time:.2f}s')\n",
        "            return result\n",
        "        return clocked\n",
        "    return decorate"
      ],
      "metadata": {
        "id": "4YYj60cMim7H"
      },
      "execution_count": null,
      "outputs": []
    },
    {
      "cell_type": "code",
      "source": [
        "@clock(active=True)\n",
        "def calc_slow_fact_log(n):\n",
        "    time.sleep(1)\n",
        "    if n < 0:\n",
        "        return -1\n",
        "\n",
        "    if n <= 1:\n",
        "        return 1\n",
        "    return n * calc_slow_fact_log(n - 1)\n",
        "\n",
        "# calc_slow_fact_log = clock(active=True)(calc_slow_fact_log)\n",
        "\n",
        "\n",
        "@clock(active=False)\n",
        "def calc_slow_fact_no_log(n):\n",
        "    time.sleep(1)\n",
        "    if n < 0:\n",
        "        return -1\n",
        "\n",
        "    if n <= 1:\n",
        "        return 1\n",
        "    return n * calc_slow_fact_no_log(n - 1)\n",
        "\n",
        "# = calc_slow_fact_no_log = clock(active=False)(calc_slow_fact_no_log)"
      ],
      "metadata": {
        "id": "HQ_KONKAiOvs"
      },
      "execution_count": null,
      "outputs": []
    },
    {
      "cell_type": "code",
      "source": [
        "#\n",
        "# clock\n",
        "# def calc_slow_fact_no_log(n):\n",
        "#     time.sleep(1)\n",
        "#     if n < 0:\n",
        "#         return -1\n",
        "\n",
        "#     if n <= 1:\n",
        "#         return 1\n",
        "#     return n * calc_slow_fact_no_log(n - 1)\n",
        "\n",
        "\n",
        "\n",
        "# calc_slow_fact_no_log(3)\n",
        "# # calc_slow_fact_no_log = clock(active=calc_slow_fact_no_log)(func=3)"
      ],
      "metadata": {
        "colab": {
          "base_uri": "https://localhost:8080/"
        },
        "id": "B78RH7FkjTJf",
        "outputId": "ec2aeece-6697-4462-c69b-e034198a43fa"
      },
      "execution_count": null,
      "outputs": [
        {
          "output_type": "execute_result",
          "data": {
            "text/plain": [
              "<function __main__.clock.<locals>.decorate.<locals>.clocked>"
            ]
          },
          "metadata": {},
          "execution_count": 29
        }
      ]
    },
    {
      "cell_type": "code",
      "source": [
        "calc_slow_fact_log(4)"
      ],
      "metadata": {
        "colab": {
          "base_uri": "https://localhost:8080/"
        },
        "id": "YVES-VMXizA6",
        "outputId": "c97ce035-15a9-453e-d425-5a689dd2f9f0"
      },
      "execution_count": null,
      "outputs": [
        {
          "output_type": "stream",
          "name": "stdout",
          "text": [
            "calc_slow_fact_log((1,)) -> 1 executed in 1.00s\n",
            "calc_slow_fact_log((2,)) -> 2 executed in 2.00s\n",
            "calc_slow_fact_log((3,)) -> 6 executed in 3.00s\n",
            "calc_slow_fact_log((4,)) -> 24 executed in 4.00s\n"
          ]
        },
        {
          "output_type": "execute_result",
          "data": {
            "text/plain": [
              "24"
            ]
          },
          "metadata": {},
          "execution_count": 25
        }
      ]
    },
    {
      "cell_type": "code",
      "source": [
        "calc_slow_fact_no_log(4)"
      ],
      "metadata": {
        "colab": {
          "base_uri": "https://localhost:8080/"
        },
        "id": "a5VlbRSki0RI",
        "outputId": "38ca102e-2373-4f79-8ccf-b3630691cac3"
      },
      "execution_count": null,
      "outputs": [
        {
          "output_type": "execute_result",
          "data": {
            "text/plain": [
              "24"
            ]
          },
          "metadata": {},
          "execution_count": 26
        }
      ]
    },
    {
      "cell_type": "code",
      "source": [
        "def calc_fib(n):\n",
        "    if n < 2:\n",
        "        return n\n",
        "    return calc_fib(n - 2) + calc_fib(n - 1)"
      ],
      "metadata": {
        "id": "KHnykQ_wi1LU"
      },
      "execution_count": null,
      "outputs": []
    },
    {
      "cell_type": "code",
      "source": [
        "from functools import lru_cache"
      ],
      "metadata": {
        "id": "a1jeMzpYjpyN"
      },
      "execution_count": null,
      "outputs": []
    },
    {
      "cell_type": "code",
      "source": [
        "@lru_cache(maxsize=None)\n",
        "def calc_fib(n):\n",
        "    if n < 2:\n",
        "        return n\n",
        "    return calc_fib(n - 2) + calc_fib(n - 1)"
      ],
      "metadata": {
        "id": "xNvhk0tljrut"
      },
      "execution_count": null,
      "outputs": []
    },
    {
      "cell_type": "code",
      "source": [],
      "metadata": {
        "id": "PvoPJe8cjwBM"
      },
      "execution_count": null,
      "outputs": []
    },
    {
      "cell_type": "code",
      "source": [],
      "metadata": {
        "id": "VXpFaWl9j4_d"
      },
      "execution_count": null,
      "outputs": []
    },
    {
      "cell_type": "code",
      "source": [
        "import operator\n",
        "\n",
        "from functools import reduce\n",
        "from itertools import accumulate"
      ],
      "metadata": {
        "id": "Sh6zMv6cj5M3"
      },
      "execution_count": null,
      "outputs": []
    },
    {
      "cell_type": "code",
      "source": [
        "a = [(i, i*100) for i in range(100)]\n",
        "a[:10]"
      ],
      "metadata": {
        "colab": {
          "base_uri": "https://localhost:8080/"
        },
        "id": "UGvdHPj_kYDd",
        "outputId": "8e545d98-c9cb-48b4-e569-7fd7161ec694"
      },
      "execution_count": null,
      "outputs": [
        {
          "output_type": "execute_result",
          "data": {
            "text/plain": [
              "[(0, 0),\n",
              " (1, 100),\n",
              " (2, 200),\n",
              " (3, 300),\n",
              " (4, 400),\n",
              " (5, 500),\n",
              " (6, 600),\n",
              " (7, 700),\n",
              " (8, 800),\n",
              " (9, 900)]"
            ]
          },
          "metadata": {},
          "execution_count": 36
        }
      ]
    },
    {
      "cell_type": "code",
      "source": [
        "reduce(lambda x, y: (max(x[0], y[0]), x[1] + y[1]), a)"
      ],
      "metadata": {
        "colab": {
          "base_uri": "https://localhost:8080/"
        },
        "id": "U85jf-BYkcvi",
        "outputId": "a979e906-5fb5-49d6-cd4f-43c5fc76275b"
      },
      "execution_count": null,
      "outputs": [
        {
          "output_type": "execute_result",
          "data": {
            "text/plain": [
              "(99, 495000)"
            ]
          },
          "metadata": {},
          "execution_count": 37
        }
      ]
    },
    {
      "cell_type": "code",
      "source": [
        "reduce(lambda x, y: x + y, range(10))"
      ],
      "metadata": {
        "colab": {
          "base_uri": "https://localhost:8080/"
        },
        "id": "pHDIGwqTlPFS",
        "outputId": "1fa4d82b-d321-45cb-e64f-04a2fdf9decf"
      },
      "execution_count": null,
      "outputs": [
        {
          "output_type": "execute_result",
          "data": {
            "text/plain": [
              "45"
            ]
          },
          "metadata": {},
          "execution_count": 45
        }
      ]
    },
    {
      "cell_type": "code",
      "source": [
        "# reduce(func(x, y), sequence, initial=sequence[0])\n",
        "# func(sequence[0],sequence[0]) -> func(sequence[0],sequence[1])\n",
        "\n",
        "def reduce_fn(func, sequence, initial):\n",
        "    for elem in sequence:\n",
        "        initial = func(initial, elem)\n",
        "    return initial"
      ],
      "metadata": {
        "id": "uJGu1wdzkwJK"
      },
      "execution_count": null,
      "outputs": []
    },
    {
      "cell_type": "code",
      "source": [
        "# cumsum\n",
        "cumsum = list(accumulate(range(10), lambda x, y: x + y, initial=10))\n",
        "cumsum"
      ],
      "metadata": {
        "colab": {
          "base_uri": "https://localhost:8080/"
        },
        "id": "yHHuBqeTllAu",
        "outputId": "07f8787f-dfc0-4339-dc58-dc16916fd05b"
      },
      "execution_count": null,
      "outputs": [
        {
          "output_type": "execute_result",
          "data": {
            "text/plain": [
              "[10, 10, 11, 13, 16, 20, 25, 31, 38, 46, 55]"
            ]
          },
          "metadata": {},
          "execution_count": 47
        }
      ]
    },
    {
      "cell_type": "code",
      "source": [
        "list(filter(lambda x: x % 2 == 0, range(10)))"
      ],
      "metadata": {
        "colab": {
          "base_uri": "https://localhost:8080/"
        },
        "id": "bb93ySEPmPzF",
        "outputId": "df87db91-4064-4712-98c8-97ece8740a6b"
      },
      "execution_count": null,
      "outputs": [
        {
          "output_type": "execute_result",
          "data": {
            "text/plain": [
              "[0, 2, 4, 6, 8]"
            ]
          },
          "metadata": {},
          "execution_count": 49
        }
      ]
    },
    {
      "cell_type": "code",
      "source": [
        "[i for i in range(10) if i % 2 == 0]"
      ],
      "metadata": {
        "colab": {
          "base_uri": "https://localhost:8080/"
        },
        "id": "4-yThhm_mP2O",
        "outputId": "069f8881-9458-4ff6-cb44-29c4ae496ee0"
      },
      "execution_count": null,
      "outputs": [
        {
          "output_type": "execute_result",
          "data": {
            "text/plain": [
              "[0, 2, 4, 6, 8]"
            ]
          },
          "metadata": {},
          "execution_count": 50
        }
      ]
    },
    {
      "cell_type": "code",
      "source": [
        "event_log = [\n",
        "    (11214, 'search', 5),\n",
        "    (11215, 'item_view', 1),\n",
        "    (11216, 'item_viewphone', 10),\n",
        "    (11217, 'item_view', 2),\n",
        "    (11218, 'item_viewphone', 4),\n",
        "    (11219, 'item_view', 6),\n",
        "    (11210, 'item_viewphone', 2),\n",
        "    (11234, 'item_view', 4),\n",
        "    (11264, 'item_view', 3),\n",
        "    (11224, 'item_viewphone', 1),\n",
        "    (11204, 'search', 6),\n",
        "    (12214, 'search', 34),\n",
        "    (13214, 'item_view', 3),\n",
        "    (14214, 'item_view', 1000),\n",
        "    (15214, 'item_viewphone', 2000),\n",
        "    (16214, 'item_viewphone', 3444),\n",
        "    (17214, 'item_view', 0),\n",
        "    (18214, 'item_viewphone', 12),\n",
        "    (19214, 'search', 244),\n",
        "    (29214, 'item_viewphone', 4),\n",
        "    (30214, 'item_view', 56),\n",
        "    (48214, 'item_viewphone', 5),\n",
        "    (67214, 'item_view', 2),\n",
        "]"
      ],
      "metadata": {
        "id": "AL_ql2E5mP34"
      },
      "execution_count": null,
      "outputs": []
    },
    {
      "cell_type": "markdown",
      "source": [
        "Посчитать количество аномальных полей. Будем считать поле аномальным, если у него какое-то слишком большое значение для метрики. Например, количество событий > 999"
      ],
      "metadata": {
        "id": "HGjwDIUNnCyH"
      }
    },
    {
      "cell_type": "code",
      "source": [
        "len([x for x in event_log if x[2] > 999])"
      ],
      "metadata": {
        "colab": {
          "base_uri": "https://localhost:8080/"
        },
        "id": "Zy-Rb9yTmP6O",
        "outputId": "56557c6d-dc8d-49ba-89de-c848c1a28095"
      },
      "execution_count": null,
      "outputs": [
        {
          "output_type": "execute_result",
          "data": {
            "text/plain": [
              "3"
            ]
          },
          "metadata": {},
          "execution_count": 52
        }
      ]
    },
    {
      "cell_type": "code",
      "source": [
        "# len(filter(lambda x: x[2] > 999, event_log))"
      ],
      "metadata": {
        "id": "fPpcQVlvn2v9"
      },
      "execution_count": null,
      "outputs": []
    },
    {
      "cell_type": "markdown",
      "source": [
        "написать функцию, которая считает сумму количества событий (3е поле) по заданному `eventtype` (2е поле)"
      ],
      "metadata": {
        "id": "7VMJDORLnhuZ"
      }
    },
    {
      "cell_type": "code",
      "source": [
        "def count_events(event_log: list, eventtype: str):\n",
        "    # return sum([x[2] for x in event_log if x[1] == eventtype])\n",
        "    return reduce(lambda x, y: x + y[2], filter(lambda x: x[1] == eventtype, event_log), 0)"
      ],
      "metadata": {
        "id": "BAi9RsqOneJu"
      },
      "execution_count": null,
      "outputs": []
    },
    {
      "cell_type": "code",
      "source": [
        "count_events(event_log, \"item_view\")"
      ],
      "metadata": {
        "colab": {
          "base_uri": "https://localhost:8080/"
        },
        "id": "N9PqTMGcoZNP",
        "outputId": "7305c13a-f8bd-4d6a-d605-d8aa69b812bd"
      },
      "execution_count": null,
      "outputs": [
        {
          "output_type": "execute_result",
          "data": {
            "text/plain": [
              "1077"
            ]
          },
          "metadata": {},
          "execution_count": 58
        }
      ]
    },
    {
      "cell_type": "code",
      "source": [
        "count_events(event_log, \"item_view\")"
      ],
      "metadata": {
        "colab": {
          "base_uri": "https://localhost:8080/"
        },
        "id": "1CviAjhSoQfr",
        "outputId": "97cf3c23-f0d3-419b-e147-753a5f774662"
      },
      "execution_count": null,
      "outputs": [
        {
          "output_type": "execute_result",
          "data": {
            "text/plain": [
              "1077"
            ]
          },
          "metadata": {},
          "execution_count": 56
        }
      ]
    },
    {
      "cell_type": "code",
      "source": [],
      "metadata": {
        "id": "JHHkJ-EhoSqF"
      },
      "execution_count": null,
      "outputs": []
    }
  ]
}