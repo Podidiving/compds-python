{
  "nbformat": 4,
  "nbformat_minor": 0,
  "metadata": {
    "colab": {
      "provenance": []
    },
    "kernelspec": {
      "name": "python3",
      "display_name": "Python 3"
    },
    "language_info": {
      "name": "python"
    }
  },
  "cells": [
    {
      "cell_type": "markdown",
      "source": [
        "# Dict & Set"
      ],
      "metadata": {
        "id": "-gWI_LDGowER"
      }
    },
    {
      "cell_type": "code",
      "execution_count": 1,
      "metadata": {
        "colab": {
          "base_uri": "https://localhost:8080/"
        },
        "id": "3vsRg8qSob_-",
        "outputId": "ae54ac08-e179-43db-84fd-e3b9fbbfed73"
      },
      "outputs": [
        {
          "output_type": "execute_result",
          "data": {
            "text/plain": [
              "{'name': 'Denis',\n",
              " 'year': 2015,\n",
              " 'core subjects': ('Statistics', 'Algorimthms'),\n",
              " 'optional subjects': ['Urban Studies', 'Basic Physics'],\n",
              " 42: 'always the answer',\n",
              " (42,): 'always the answer'}"
            ]
          },
          "metadata": {},
          "execution_count": 1
        }
      ],
      "source": [
        "student_card = {\n",
        "    'name': 'Denis',\n",
        "    'year': 2015,\n",
        "    'core subjects': ('Statistics', 'Algorimthms'),\n",
        "    'optional subjects': ['Urban Studies', 'Basic Physics'],\n",
        "    42: 'always the answer',\n",
        "    (42,): 'always the answer',\n",
        "}\n",
        "\n",
        "student_card"
      ]
    },
    {
      "cell_type": "code",
      "source": [
        "student_card['surname'] = 'Belyakov'"
      ],
      "metadata": {
        "id": "8oYP93IAtlxA"
      },
      "execution_count": 2,
      "outputs": []
    },
    {
      "cell_type": "markdown",
      "source": [
        "#### Basic operations"
      ],
      "metadata": {
        "id": "I-Y-WIQXuUno"
      }
    },
    {
      "cell_type": "code",
      "source": [
        "student_card.get('name', 'key is not there')"
      ],
      "metadata": {
        "colab": {
          "base_uri": "https://localhost:8080/",
          "height": 35
        },
        "id": "ik4tU6RVtpWV",
        "outputId": "c0d65a06-8a7d-4d7b-dff5-bd09cadb50ac"
      },
      "execution_count": 3,
      "outputs": [
        {
          "output_type": "execute_result",
          "data": {
            "text/plain": [
              "'Denis'"
            ],
            "application/vnd.google.colaboratory.intrinsic+json": {
              "type": "string"
            }
          },
          "metadata": {},
          "execution_count": 3
        }
      ]
    },
    {
      "cell_type": "code",
      "source": [
        "student_card.get('Name', 'key is not there')"
      ],
      "metadata": {
        "colab": {
          "base_uri": "https://localhost:8080/",
          "height": 35
        },
        "id": "6sR8KoBLuYnk",
        "outputId": "fdc99f36-7194-4d2f-8f04-c498d2a441a2"
      },
      "execution_count": 4,
      "outputs": [
        {
          "output_type": "execute_result",
          "data": {
            "text/plain": [
              "'key is not there'"
            ],
            "application/vnd.google.colaboratory.intrinsic+json": {
              "type": "string"
            }
          },
          "metadata": {},
          "execution_count": 4
        }
      ]
    },
    {
      "cell_type": "code",
      "source": [
        "student_card.get('Name')"
      ],
      "metadata": {
        "id": "qoes9CQ1ucAI"
      },
      "execution_count": 5,
      "outputs": []
    },
    {
      "cell_type": "code",
      "source": [
        "student_card['Name']"
      ],
      "metadata": {
        "colab": {
          "base_uri": "https://localhost:8080/",
          "height": 174
        },
        "id": "H-qiMXc7ueFO",
        "outputId": "ac647849-5293-48b8-b470-6a9be88c141c"
      },
      "execution_count": 6,
      "outputs": [
        {
          "output_type": "error",
          "ename": "KeyError",
          "evalue": "ignored",
          "traceback": [
            "\u001b[0;31m---------------------------------------------------------------------------\u001b[0m",
            "\u001b[0;31mKeyError\u001b[0m                                  Traceback (most recent call last)",
            "\u001b[0;32m<ipython-input-6-640375292bfe>\u001b[0m in \u001b[0;36m<cell line: 1>\u001b[0;34m()\u001b[0m\n\u001b[0;32m----> 1\u001b[0;31m \u001b[0mstudent_card\u001b[0m\u001b[0;34m[\u001b[0m\u001b[0;34m'Name'\u001b[0m\u001b[0;34m]\u001b[0m\u001b[0;34m\u001b[0m\u001b[0;34m\u001b[0m\u001b[0m\n\u001b[0m",
            "\u001b[0;31mKeyError\u001b[0m: 'Name'"
          ]
        }
      ]
    },
    {
      "cell_type": "code",
      "source": [
        "student_card.pop((42,))"
      ],
      "metadata": {
        "colab": {
          "base_uri": "https://localhost:8080/",
          "height": 35
        },
        "id": "LVXum76jul1e",
        "outputId": "52cc3809-994e-47b2-b49e-6086d3df7fab"
      },
      "execution_count": 7,
      "outputs": [
        {
          "output_type": "execute_result",
          "data": {
            "text/plain": [
              "'always the answer'"
            ],
            "application/vnd.google.colaboratory.intrinsic+json": {
              "type": "string"
            }
          },
          "metadata": {},
          "execution_count": 7
        }
      ]
    },
    {
      "cell_type": "code",
      "source": [
        "student_card.pop((42,))"
      ],
      "metadata": {
        "colab": {
          "base_uri": "https://localhost:8080/",
          "height": 174
        },
        "id": "VqxI3EMpunIL",
        "outputId": "a19c21b5-f163-4e0d-9b9d-2f4148652e50"
      },
      "execution_count": 8,
      "outputs": [
        {
          "output_type": "error",
          "ename": "KeyError",
          "evalue": "ignored",
          "traceback": [
            "\u001b[0;31m---------------------------------------------------------------------------\u001b[0m",
            "\u001b[0;31mKeyError\u001b[0m                                  Traceback (most recent call last)",
            "\u001b[0;32m<ipython-input-8-883bad0eab42>\u001b[0m in \u001b[0;36m<cell line: 1>\u001b[0;34m()\u001b[0m\n\u001b[0;32m----> 1\u001b[0;31m \u001b[0mstudent_card\u001b[0m\u001b[0;34m.\u001b[0m\u001b[0mpop\u001b[0m\u001b[0;34m(\u001b[0m\u001b[0;34m(\u001b[0m\u001b[0;36m42\u001b[0m\u001b[0;34m,\u001b[0m\u001b[0;34m)\u001b[0m\u001b[0;34m)\u001b[0m\u001b[0;34m\u001b[0m\u001b[0;34m\u001b[0m\u001b[0m\n\u001b[0m",
            "\u001b[0;31mKeyError\u001b[0m: (42,)"
          ]
        }
      ]
    },
    {
      "cell_type": "code",
      "source": [
        "student_card.update({'name': 1, 'b': 2})"
      ],
      "metadata": {
        "id": "o_dy-N6vus9U"
      },
      "execution_count": 9,
      "outputs": []
    },
    {
      "cell_type": "code",
      "source": [
        "student_card"
      ],
      "metadata": {
        "colab": {
          "base_uri": "https://localhost:8080/"
        },
        "id": "LMSPzV1Euz7x",
        "outputId": "43da8ac0-e8c6-400a-b85a-3aa631e203e6"
      },
      "execution_count": 10,
      "outputs": [
        {
          "output_type": "execute_result",
          "data": {
            "text/plain": [
              "{'name': 1,\n",
              " 'year': 2015,\n",
              " 'core subjects': ('Statistics', 'Algorimthms'),\n",
              " 'optional subjects': ['Urban Studies', 'Basic Physics'],\n",
              " 42: 'always the answer',\n",
              " 'surname': 'Belyakov',\n",
              " 'b': 2}"
            ]
          },
          "metadata": {},
          "execution_count": 10
        }
      ]
    },
    {
      "cell_type": "code",
      "source": [
        "a = {1: \"1\", 2: \"2\"}\n",
        "b = {2: \"b\", 3: \"3\"}\n",
        "\n",
        "a.update(b)"
      ],
      "metadata": {
        "id": "OzRz6HVGu1mk"
      },
      "execution_count": 11,
      "outputs": []
    },
    {
      "cell_type": "code",
      "source": [
        "a"
      ],
      "metadata": {
        "colab": {
          "base_uri": "https://localhost:8080/"
        },
        "id": "5OPxD-KYu8Ce",
        "outputId": "ef00f3df-02b2-43ed-e3d6-0edd669c0272"
      },
      "execution_count": 12,
      "outputs": [
        {
          "output_type": "execute_result",
          "data": {
            "text/plain": [
              "{1: '1', 2: 'b', 3: '3'}"
            ]
          },
          "metadata": {},
          "execution_count": 12
        }
      ]
    },
    {
      "cell_type": "code",
      "source": [
        "for key in student_card:\n",
        "    print(key)"
      ],
      "metadata": {
        "colab": {
          "base_uri": "https://localhost:8080/"
        },
        "id": "rG0vh7yGu_YT",
        "outputId": "28f1c41a-e319-41ed-f53e-8795b0f7c67f"
      },
      "execution_count": 14,
      "outputs": [
        {
          "output_type": "stream",
          "name": "stdout",
          "text": [
            "name\n",
            "year\n",
            "core subjects\n",
            "optional subjects\n",
            "42\n",
            "surname\n",
            "b\n"
          ]
        }
      ]
    },
    {
      "cell_type": "code",
      "source": [
        "for key in student_card.keys():\n",
        "    print(key)"
      ],
      "metadata": {
        "colab": {
          "base_uri": "https://localhost:8080/"
        },
        "id": "3pcvp8dLvLPp",
        "outputId": "3817f23f-d660-4314-ccb8-83419454bd20"
      },
      "execution_count": 15,
      "outputs": [
        {
          "output_type": "stream",
          "name": "stdout",
          "text": [
            "name\n",
            "year\n",
            "core subjects\n",
            "optional subjects\n",
            "42\n",
            "surname\n",
            "b\n"
          ]
        }
      ]
    },
    {
      "cell_type": "code",
      "source": [
        "for value in student_card.values():\n",
        "    print(value)"
      ],
      "metadata": {
        "colab": {
          "base_uri": "https://localhost:8080/"
        },
        "id": "NsqnVGNHvT8l",
        "outputId": "1f3c9bbe-7213-4d21-963a-d010dbf54f5e"
      },
      "execution_count": 16,
      "outputs": [
        {
          "output_type": "stream",
          "name": "stdout",
          "text": [
            "1\n",
            "2015\n",
            "('Statistics', 'Algorimthms')\n",
            "['Urban Studies', 'Basic Physics']\n",
            "always the answer\n",
            "Belyakov\n",
            "2\n"
          ]
        }
      ]
    },
    {
      "cell_type": "code",
      "source": [
        "for item in student_card.items():\n",
        "    print(f\"{item[0]} : {item[1]}\")"
      ],
      "metadata": {
        "colab": {
          "base_uri": "https://localhost:8080/"
        },
        "id": "N6s7nfO6vWSL",
        "outputId": "2d8b8027-52e0-47b3-a3c7-d5ff31f0e73c"
      },
      "execution_count": 17,
      "outputs": [
        {
          "output_type": "stream",
          "name": "stdout",
          "text": [
            "name : 1\n",
            "year : 2015\n",
            "core subjects : ('Statistics', 'Algorimthms')\n",
            "optional subjects : ['Urban Studies', 'Basic Physics']\n",
            "42 : always the answer\n",
            "surname : Belyakov\n",
            "b : 2\n"
          ]
        }
      ]
    },
    {
      "cell_type": "code",
      "source": [
        "student_card.clear()"
      ],
      "metadata": {
        "id": "KZoSWBYvvb1z"
      },
      "execution_count": 18,
      "outputs": []
    },
    {
      "cell_type": "code",
      "source": [
        "student_card"
      ],
      "metadata": {
        "colab": {
          "base_uri": "https://localhost:8080/"
        },
        "id": "4_wVyRhgvgTc",
        "outputId": "caf22e0a-4d41-4887-c0c1-e2c8c68a9ec7"
      },
      "execution_count": 19,
      "outputs": [
        {
          "output_type": "execute_result",
          "data": {
            "text/plain": [
              "{}"
            ]
          },
          "metadata": {},
          "execution_count": 19
        }
      ]
    },
    {
      "cell_type": "markdown",
      "source": [
        "#### Sample task\n",
        "\n",
        "Count unique symbols in a string"
      ],
      "metadata": {
        "id": "0xcLmmd8vh03"
      }
    },
    {
      "cell_type": "code",
      "source": [
        "sample_string = 'Eddie ate dynamite, goodbye Eddie'\n",
        "symbols = {}\n",
        "# symbols = {symbol : cnt}\n",
        "\n",
        "for i in sample_string:\n",
        "    if i not in symbols:\n",
        "        symbols[i] = 1\n",
        "    else:\n",
        "        symbols[i] += 1\n",
        "\n",
        "symbols"
      ],
      "metadata": {
        "colab": {
          "base_uri": "https://localhost:8080/"
        },
        "id": "CAZUydkHvhCu",
        "outputId": "ef915a8f-c986-4d5e-e1cf-5440964d97e3"
      },
      "execution_count": 20,
      "outputs": [
        {
          "output_type": "execute_result",
          "data": {
            "text/plain": [
              "{'E': 2,\n",
              " 'd': 6,\n",
              " 'i': 3,\n",
              " 'e': 5,\n",
              " ' ': 4,\n",
              " 'a': 2,\n",
              " 't': 2,\n",
              " 'y': 2,\n",
              " 'n': 1,\n",
              " 'm': 1,\n",
              " ',': 1,\n",
              " 'g': 1,\n",
              " 'o': 2,\n",
              " 'b': 1}"
            ]
          },
          "metadata": {},
          "execution_count": 20
        }
      ]
    },
    {
      "cell_type": "code",
      "source": [
        "sample_string = 'Eddie ate dynamite, goodbye Eddie'\n",
        "symbols = {}\n",
        "# symbols = {symbol : cnt}\n",
        "\n",
        "for i in sample_string:\n",
        "    symbols[i] = symbols.get(i, 0) + 1\n",
        "\n",
        "symbols"
      ],
      "metadata": {
        "colab": {
          "base_uri": "https://localhost:8080/"
        },
        "id": "gIG4lj3Pv-x_",
        "outputId": "655d41be-3872-4ed9-c807-b03d59cafd8a"
      },
      "execution_count": 21,
      "outputs": [
        {
          "output_type": "execute_result",
          "data": {
            "text/plain": [
              "{'E': 2,\n",
              " 'd': 6,\n",
              " 'i': 3,\n",
              " 'e': 5,\n",
              " ' ': 4,\n",
              " 'a': 2,\n",
              " 't': 2,\n",
              " 'y': 2,\n",
              " 'n': 1,\n",
              " 'm': 1,\n",
              " ',': 1,\n",
              " 'g': 1,\n",
              " 'o': 2,\n",
              " 'b': 1}"
            ]
          },
          "metadata": {},
          "execution_count": 21
        }
      ]
    },
    {
      "cell_type": "code",
      "source": [
        "from collections import defaultdict"
      ],
      "metadata": {
        "id": "n0OkNURtwHVv"
      },
      "execution_count": 22,
      "outputs": []
    },
    {
      "cell_type": "code",
      "source": [
        "symbols = defaultdict(int)\n",
        "\n",
        "for i in sample_string:\n",
        "    symbols[i] += 1\n",
        "\n",
        "symbols"
      ],
      "metadata": {
        "colab": {
          "base_uri": "https://localhost:8080/"
        },
        "id": "jW_imxriwLF0",
        "outputId": "c6beb00e-052a-4fb9-80af-24b160a55048"
      },
      "execution_count": 24,
      "outputs": [
        {
          "output_type": "execute_result",
          "data": {
            "text/plain": [
              "defaultdict(int,\n",
              "            {'E': 2,\n",
              "             'd': 6,\n",
              "             'i': 3,\n",
              "             'e': 5,\n",
              "             ' ': 4,\n",
              "             'a': 2,\n",
              "             't': 2,\n",
              "             'y': 2,\n",
              "             'n': 1,\n",
              "             'm': 1,\n",
              "             ',': 1,\n",
              "             'g': 1,\n",
              "             'o': 2,\n",
              "             'b': 1})"
            ]
          },
          "metadata": {},
          "execution_count": 24
        }
      ]
    },
    {
      "cell_type": "code",
      "source": [
        "from collections import Counter"
      ],
      "metadata": {
        "id": "hJ5tkPjHwp_A"
      },
      "execution_count": 25,
      "outputs": []
    },
    {
      "cell_type": "code",
      "source": [
        "counter = Counter(sample_string)\n",
        "counter"
      ],
      "metadata": {
        "colab": {
          "base_uri": "https://localhost:8080/"
        },
        "id": "AS2DDkngwtPv",
        "outputId": "02e81fb3-1af1-4d4b-fb52-2b856b607f04"
      },
      "execution_count": 28,
      "outputs": [
        {
          "output_type": "execute_result",
          "data": {
            "text/plain": [
              "Counter({'E': 2,\n",
              "         'd': 6,\n",
              "         'i': 3,\n",
              "         'e': 5,\n",
              "         ' ': 4,\n",
              "         'a': 2,\n",
              "         't': 2,\n",
              "         'y': 2,\n",
              "         'n': 1,\n",
              "         'm': 1,\n",
              "         ',': 1,\n",
              "         'g': 1,\n",
              "         'o': 2,\n",
              "         'b': 1})"
            ]
          },
          "metadata": {},
          "execution_count": 28
        }
      ]
    },
    {
      "cell_type": "code",
      "source": [
        "counter.most_common(3)"
      ],
      "metadata": {
        "colab": {
          "base_uri": "https://localhost:8080/"
        },
        "id": "li3AO95_w5Dc",
        "outputId": "9b2cae79-6abd-4dd1-863e-d50d5bc0950d"
      },
      "execution_count": 29,
      "outputs": [
        {
          "output_type": "execute_result",
          "data": {
            "text/plain": [
              "[('d', 6), ('e', 5), (' ', 4)]"
            ]
          },
          "metadata": {},
          "execution_count": 29
        }
      ]
    },
    {
      "cell_type": "markdown",
      "source": [
        "## Sets"
      ],
      "metadata": {
        "id": "n75p4K1Cw8BK"
      }
    },
    {
      "cell_type": "code",
      "source": [
        "a = ['one', 'two', 'two', 'one']\n",
        "\n",
        "set(a)"
      ],
      "metadata": {
        "colab": {
          "base_uri": "https://localhost:8080/"
        },
        "id": "B2uumK7LxMNY",
        "outputId": "122b2c2d-0359-482e-cda4-6c83fba885a7"
      },
      "execution_count": 30,
      "outputs": [
        {
          "output_type": "execute_result",
          "data": {
            "text/plain": [
              "{'one', 'two'}"
            ]
          },
          "metadata": {},
          "execution_count": 30
        }
      ]
    },
    {
      "cell_type": "code",
      "source": [
        "first_set = {1, 2, 3, 4, 5}\n",
        "second_set = {4, 5, 6, 7, 8}"
      ],
      "metadata": {
        "id": "XaMHtxoGxPy6"
      },
      "execution_count": 31,
      "outputs": []
    },
    {
      "cell_type": "code",
      "source": [
        "first_set & second_set, first_set.intersection(second_set)"
      ],
      "metadata": {
        "colab": {
          "base_uri": "https://localhost:8080/"
        },
        "id": "OLEK9vSVxVuu",
        "outputId": "7023cb86-5cc8-42da-f11a-00a6991803c3"
      },
      "execution_count": 32,
      "outputs": [
        {
          "output_type": "execute_result",
          "data": {
            "text/plain": [
              "({4, 5}, {4, 5})"
            ]
          },
          "metadata": {},
          "execution_count": 32
        }
      ]
    },
    {
      "cell_type": "code",
      "source": [
        "first_set | second_set, first_set.union(second_set)"
      ],
      "metadata": {
        "colab": {
          "base_uri": "https://localhost:8080/"
        },
        "id": "EinrMGwfxZNu",
        "outputId": "5091cb08-1901-48e5-d036-d1dac6a4a354"
      },
      "execution_count": 34,
      "outputs": [
        {
          "output_type": "execute_result",
          "data": {
            "text/plain": [
              "({1, 2, 3, 4, 5, 6, 7, 8}, {1, 2, 3, 4, 5, 6, 7, 8})"
            ]
          },
          "metadata": {},
          "execution_count": 34
        }
      ]
    },
    {
      "cell_type": "code",
      "source": [
        "second_set - first_set"
      ],
      "metadata": {
        "colab": {
          "base_uri": "https://localhost:8080/"
        },
        "id": "FS8IL_7Lxb9g",
        "outputId": "032d5148-c503-4d06-e9eb-0ed2e5e3786e"
      },
      "execution_count": 35,
      "outputs": [
        {
          "output_type": "execute_result",
          "data": {
            "text/plain": [
              "{6, 7, 8}"
            ]
          },
          "metadata": {},
          "execution_count": 35
        }
      ]
    },
    {
      "cell_type": "markdown",
      "source": [
        "Задачка. Дедуплицируем список с сохранением порядка"
      ],
      "metadata": {
        "id": "MHyToykhxkHB"
      }
    },
    {
      "cell_type": "code",
      "source": [
        "a = list(range(10000)) + list(range(10000)) + list(range(10000))"
      ],
      "metadata": {
        "id": "DH7AetSqxdoV"
      },
      "execution_count": 36,
      "outputs": []
    },
    {
      "cell_type": "code",
      "source": [
        "%%time\n",
        "\n",
        "result = []\n",
        "\n",
        "for elem in a:\n",
        "    if elem not in result:\n",
        "        result.append(elem)"
      ],
      "metadata": {
        "colab": {
          "base_uri": "https://localhost:8080/"
        },
        "id": "IM9i-LxHxm3y",
        "outputId": "1e35923e-b60c-4603-f19d-1c95db8c7885"
      },
      "execution_count": 37,
      "outputs": [
        {
          "output_type": "stream",
          "name": "stdout",
          "text": [
            "CPU times: user 1.36 s, sys: 2.75 ms, total: 1.37 s\n",
            "Wall time: 1.37 s\n"
          ]
        }
      ]
    },
    {
      "cell_type": "code",
      "source": [
        "%%time\n",
        "\n",
        "result = []\n",
        "seen = set()\n",
        "\n",
        "for elem in a:\n",
        "    if elem not in seen:\n",
        "        result.append(elem)\n",
        "        seen.add(elem)"
      ],
      "metadata": {
        "colab": {
          "base_uri": "https://localhost:8080/"
        },
        "id": "ghKRlH8ZxzTI",
        "outputId": "30da3804-1433-4dff-b68b-d03eb7fc56a8"
      },
      "execution_count": 38,
      "outputs": [
        {
          "output_type": "stream",
          "name": "stdout",
          "text": [
            "CPU times: user 7.17 ms, sys: 1.03 ms, total: 8.2 ms\n",
            "Wall time: 8.15 ms\n"
          ]
        }
      ]
    },
    {
      "cell_type": "code",
      "source": [
        "a = set([1,2,3])"
      ],
      "metadata": {
        "id": "K5UnJH5uyBN4"
      },
      "execution_count": 39,
      "outputs": []
    },
    {
      "cell_type": "code",
      "source": [
        "{a : 1}"
      ],
      "metadata": {
        "colab": {
          "base_uri": "https://localhost:8080/",
          "height": 174
        },
        "id": "9kZD1WE3yDFj",
        "outputId": "3a2b48cf-bdb7-44de-9431-850934966af2"
      },
      "execution_count": 40,
      "outputs": [
        {
          "output_type": "error",
          "ename": "TypeError",
          "evalue": "ignored",
          "traceback": [
            "\u001b[0;31m---------------------------------------------------------------------------\u001b[0m",
            "\u001b[0;31mTypeError\u001b[0m                                 Traceback (most recent call last)",
            "\u001b[0;32m<ipython-input-40-a42ceaee3677>\u001b[0m in \u001b[0;36m<cell line: 1>\u001b[0;34m()\u001b[0m\n\u001b[0;32m----> 1\u001b[0;31m \u001b[0;34m{\u001b[0m\u001b[0ma\u001b[0m \u001b[0;34m:\u001b[0m \u001b[0;36m1\u001b[0m\u001b[0;34m}\u001b[0m\u001b[0;34m\u001b[0m\u001b[0;34m\u001b[0m\u001b[0m\n\u001b[0m",
            "\u001b[0;31mTypeError\u001b[0m: unhashable type: 'set'"
          ]
        }
      ]
    },
    {
      "cell_type": "code",
      "source": [
        "{frozenset(a) : 1}"
      ],
      "metadata": {
        "colab": {
          "base_uri": "https://localhost:8080/"
        },
        "id": "rok2HkejyFGs",
        "outputId": "f68a6a1d-0c81-4472-a0bd-d581b01a9874"
      },
      "execution_count": 41,
      "outputs": [
        {
          "output_type": "execute_result",
          "data": {
            "text/plain": [
              "{frozenset({1, 2, 3}): 1}"
            ]
          },
          "metadata": {},
          "execution_count": 41
        }
      ]
    },
    {
      "cell_type": "markdown",
      "source": [
        "### 2sum\n",
        "\n",
        "Given an array of integers nums and an integer target, return indices of the two numbers such that they add up to target."
      ],
      "metadata": {
        "id": "nMiOS1E4sSvU"
      }
    },
    {
      "cell_type": "code",
      "source": [
        "from typing import Optional\n",
        "\n",
        "\n",
        "def solve(arr, target) -> Optional[tuple[int, int]]:\n",
        "    set_a = set(arr)\n",
        "\n",
        "    for elem in arr:\n",
        "        complimentary = target - elem\n",
        "        if complimentary in set_a:\n",
        "            return (min(complimentary, elem), max(complimentary, elem))\n",
        "    return None\n",
        "\n",
        "\n",
        "a = [-1, -6, -3, 1, 2, 3, 4, 5, 6, 7, 3, 6, 8, 2, 10]\n",
        "target_sum = 7\n",
        "solve(a, target_sum)"
      ],
      "metadata": {
        "colab": {
          "base_uri": "https://localhost:8080/"
        },
        "id": "nkbV-xmisSQs",
        "outputId": "fe63ddef-a8d4-4f4d-fa0e-565318f475eb"
      },
      "execution_count": 46,
      "outputs": [
        {
          "output_type": "execute_result",
          "data": {
            "text/plain": [
              "(-1, 8)"
            ]
          },
          "metadata": {},
          "execution_count": 46
        }
      ]
    },
    {
      "cell_type": "code",
      "source": [
        "from typing import Optional\n",
        "\n",
        "\n",
        "def solve(arr, target) -> Optional[tuple[int, int]]:\n",
        "    set_a = set(arr)\n",
        "\n",
        "    for elem in arr:\n",
        "        set_a.remove(elem)\n",
        "        complimentary = target - elem\n",
        "        if complimentary in set_a:\n",
        "            return (min(complimentary, elem), max(complimentary, elem))\n",
        "    return None\n",
        "\n",
        "\n",
        "a = [-1, 3, 2]\n",
        "target_sum = 4\n",
        "solve(a, target_sum)"
      ],
      "metadata": {
        "id": "ss4Ut_C9z4nE"
      },
      "execution_count": 47,
      "outputs": []
    },
    {
      "cell_type": "code",
      "source": [
        "# [1,2,3,4,5,6,7,8,9]\n",
        "# target = 13\n",
        "\n",
        "# [2,3,4,5,6,7,8,9]\n",
        "# 2, [3,4,5,6,7,8,9]\n",
        "# 3, [4,5,6,7,8,9]\n",
        "# ..."
      ],
      "metadata": {
        "id": "62AceIkA0kLm"
      },
      "execution_count": 48,
      "outputs": []
    },
    {
      "cell_type": "code",
      "source": [
        "# a = [a_i]\n",
        "# target\n",
        "# i: a_i -> target - a_i \\in a\n",
        "# find(target - a_i) - O(1)\n",
        "# -> set(a) -> find = O(1)"
      ],
      "metadata": {
        "id": "IjMhXx0SzDRU"
      },
      "execution_count": 49,
      "outputs": []
    },
    {
      "cell_type": "markdown",
      "source": [
        "### Сумма цифр числа рекурсией\n",
        "\n",
        "Дано число произвольного размера. Посчитайте рекурсивно сумму его цифр\n"
      ],
      "metadata": {
        "id": "LmgjeDEWsapF"
      }
    },
    {
      "cell_type": "code",
      "source": [
        "a = 1234567890\n",
        "\n",
        "def solve(num: int) -> int:\n",
        "    return 0 if num == 0 else num % 10 + solve(num // 10)"
      ],
      "metadata": {
        "id": "dQA_rtaPsf1u"
      },
      "execution_count": 51,
      "outputs": []
    },
    {
      "cell_type": "markdown",
      "source": [
        "### Run-Length Encoding\n",
        "\n",
        "RLE -- это один из алгоритмом сжатия последовательностей.\n",
        "\n",
        "Пусть у вас есть строка `aaaaaabbbcbbdddeea`, ее можно представить в виде [(a, 6), (b, 3), (c, 1), (b, 2), (d, 3), (e, 2), (a, 1)]"
      ],
      "metadata": {
        "id": "LpHLA4icsgV_"
      }
    },
    {
      "cell_type": "code",
      "source": [
        "a = \"aaaaaabbbcbbdddeea\"\n",
        "Counter(a)"
      ],
      "metadata": {
        "colab": {
          "base_uri": "https://localhost:8080/"
        },
        "id": "J45OmtjyslJk",
        "outputId": "23684fa7-291e-4122-c251-928dd34d64c4"
      },
      "execution_count": 54,
      "outputs": [
        {
          "output_type": "execute_result",
          "data": {
            "text/plain": [
              "Counter({'a': 7, 'b': 5, 'c': 1, 'd': 3, 'e': 2})"
            ]
          },
          "metadata": {},
          "execution_count": 54
        }
      ]
    },
    {
      "cell_type": "code",
      "source": [
        "def encode_rle(s: str) -> list[tuple[str, int]]:\n",
        "    if not s:\n",
        "        return []\n",
        "    result = []\n",
        "    k = 0\n",
        "\n",
        "    for i in range(1, len(s)):\n",
        "        if s[i] != s[i - 1]:\n",
        "            result.append((s[i - 1], i - k))\n",
        "            k = i\n",
        "    result.append((s[-1], len(s) - k))\n",
        "\n",
        "    return result"
      ],
      "metadata": {
        "id": "nVPWB93M2ZVA"
      },
      "execution_count": 59,
      "outputs": []
    },
    {
      "cell_type": "code",
      "source": [
        "a = \"aaaaaabbbcbbdddeeaaaa\"\n",
        "encode_rle(a)"
      ],
      "metadata": {
        "colab": {
          "base_uri": "https://localhost:8080/"
        },
        "id": "x_IpEllv3Zdg",
        "outputId": "a3a8d266-5206-4acd-e7f5-ec780decae6b"
      },
      "execution_count": 60,
      "outputs": [
        {
          "output_type": "execute_result",
          "data": {
            "text/plain": [
              "[('a', 6), ('b', 3), ('c', 1), ('b', 2), ('d', 3), ('e', 2), ('a', 4)]"
            ]
          },
          "metadata": {},
          "execution_count": 60
        }
      ]
    },
    {
      "cell_type": "markdown",
      "source": [
        "### Уникальные слова в тексте\n",
        "\n",
        "Вывести самые популярные слова в тексте и их количество"
      ],
      "metadata": {
        "id": "SoiayPMQsl_k"
      }
    },
    {
      "cell_type": "code",
      "source": [
        "sample_text = \"\"\"The secret menu reveals a business model that goes\n",
        "beyond a right to repair issue, Sullivan argues.\n",
        "It represents, as he describes it, nothing short\n",
        "of a milkshake shakedown: Sell franchisees a complicated and fragile machine.\n",
        "Prevent them from figuring out why it constantly breaks.\n",
        "Take a cut of the distributors’ profit from the repairs.\n",
        "“It’s a huge money maker to have a customer that’s purposefully,\n",
        "intentionally blind and unable to make very fundamental changes to\n",
        "their own equipment,” Sullivan says. And McDonald’s\n",
        "presides over all of it, he says,\n",
        "insisting on loyalty to its longtime supplier.\n",
        "(Resist the McDonald’s monarchy on decisions like equipment, and\n",
        "the corporation can end a restaurant’s lease\n",
        "on the literal ground beneath it,\n",
        "which McDonald's owns under its franchise\n",
        "agreement.)\"\"\"\n",
        "\n",
        "\n",
        "Counter([x for x in sample_text.lower().split() if len(x) > 1]).most_common(1)"
      ],
      "metadata": {
        "colab": {
          "base_uri": "https://localhost:8080/"
        },
        "id": "wPjmxG2TsunV",
        "outputId": "924a85fd-97af-4558-dd86-f24acb781d98"
      },
      "execution_count": 65,
      "outputs": [
        {
          "output_type": "execute_result",
          "data": {
            "text/plain": [
              "[('the', 6)]"
            ]
          },
          "metadata": {},
          "execution_count": 65
        }
      ]
    },
    {
      "cell_type": "markdown",
      "source": [
        "### Общие элементы двух списков (однострочник)\n",
        "\n",
        "Даны списки a и b. Вывести общие элементы в них"
      ],
      "metadata": {
        "id": "fO69MuOLsvUM"
      }
    },
    {
      "cell_type": "code",
      "source": [
        "a = [1, 2, 3, 4, 7, 8, 9, 7, 7]\n",
        "b = [5, 4, 6, 7, 10, 11, 12, 7, 7]\n",
        "\n",
        "set(a) & set(b)"
      ],
      "metadata": {
        "colab": {
          "base_uri": "https://localhost:8080/"
        },
        "id": "19EAh_zFsygg",
        "outputId": "63427ae8-e028-4a61-bd81-50bef86afcd2"
      },
      "execution_count": 66,
      "outputs": [
        {
          "output_type": "execute_result",
          "data": {
            "text/plain": [
              "{4, 7}"
            ]
          },
          "metadata": {},
          "execution_count": 66
        }
      ]
    },
    {
      "cell_type": "code",
      "source": [
        "# # вывести элементы + их кол-во\n",
        "\n",
        "# answer = []\n",
        "\n",
        "# for elem in a:\n",
        "#     if elem in b:\n",
        "#         b.remove(elem)\n",
        "#         answer.append(elem)"
      ],
      "metadata": {
        "id": "Op24QOXi5NLx"
      },
      "execution_count": 67,
      "outputs": []
    },
    {
      "cell_type": "code",
      "source": [
        "counter_a = Counter(a)\n",
        "counter_b = Counter(b)\n",
        "\n",
        "answer = []\n",
        "\n",
        "for key in counter_a:\n",
        "    if key in counter_b:\n",
        "        answer.append((key, min(counter_a[key], counter_b[key])))\n",
        "\n",
        "answer"
      ],
      "metadata": {
        "colab": {
          "base_uri": "https://localhost:8080/"
        },
        "id": "N6o6Tjt45j-m",
        "outputId": "6e047397-d17e-40d3-a382-910c7ff2811c"
      },
      "execution_count": 69,
      "outputs": [
        {
          "output_type": "execute_result",
          "data": {
            "text/plain": [
              "[(4, 1), (7, 3)]"
            ]
          },
          "metadata": {},
          "execution_count": 69
        }
      ]
    },
    {
      "cell_type": "markdown",
      "source": [
        "### Номер появления слова\n",
        "\n",
        "\n",
        "Дан список из слов. Получить список с их номерами по порядку их появления.\n",
        "\n",
        "\n",
        "```\n",
        "word_list = ['two', 'one', 'three', 'three', 'two', 'three']\n",
        "fun(word_list) -> [1, 1, 1, 2, 2, 3]\n",
        "```\n"
      ],
      "metadata": {
        "id": "nDOus9M4szgb"
      }
    },
    {
      "cell_type": "code",
      "source": [
        "word_list = ['two', 'one', 'three', 'three', 'two', 'three']\n",
        "\n",
        "result = defaultdict(int)\n",
        "answer = []\n",
        "\n",
        "for elem in word_list:\n",
        "    result[elem] += 1\n",
        "    answer.append(result[elem])\n",
        "\n",
        "answer"
      ],
      "metadata": {
        "colab": {
          "base_uri": "https://localhost:8080/"
        },
        "id": "HeFTyjSKs22M",
        "outputId": "4beab794-d1b2-41ec-b30b-3e9852b05fd4"
      },
      "execution_count": 70,
      "outputs": [
        {
          "output_type": "execute_result",
          "data": {
            "text/plain": [
              "[1, 1, 1, 2, 2, 3]"
            ]
          },
          "metadata": {},
          "execution_count": 70
        }
      ]
    },
    {
      "cell_type": "markdown",
      "source": [
        "### Непрерывный массив суммой N\n",
        "\n",
        "\n",
        "Дано: некоторый массив целых чисел и число N\n",
        "\n",
        "Задача: Найти непрерывный подмассив, сумма элементов которого равна N. И вывести длину подмассива. Если таких несколько, то вывести максимальную длину. Если не существует, то вывести 0"
      ],
      "metadata": {
        "id": "lvm77WBrs3-b"
      }
    },
    {
      "cell_type": "markdown",
      "source": [
        "```\n",
        "Пример:\n",
        "\n",
        "1.\n",
        "Дано: [1, 2, 3, 4, -1, 2, -1, 4, 0], N = 4\n",
        "Подмассивы с суммой 4: [4], [4, -1, 2, -1], [-1, 2, -1, 4, 0]\n",
        "Ответ: 5\n",
        "\n",
        "2.\n",
        "Дано: [1, 2, 3], N = 10\n",
        "Ответ: 0\n",
        "```"
      ],
      "metadata": {
        "id": "bXOO_VlC6gqK"
      }
    },
    {
      "cell_type": "code",
      "source": [
        "# как модифицировать массив A, чтобы уметь быстро отвечать на вопросы вида\n",
        "# sum(A[i:j]) за O(1) ?\n",
        "\n",
        "\n",
        "# A -> B = [sum(A[0]), sum(A[0], A[1]), sum(A[0], A[1], A[2]) ....]\n",
        "# i:j (j > i) ->\n",
        "# B[j] = sum(A[0], A[1], ..., A[j])\n",
        "# B[i] = sum(A[0], A[1], ..., A[i])\n",
        "# B[j] - B[i] = sum(A[0], A[1], ..., A[j]) - sum(A[0], A[1], ..., A[i]) = sum(A[i + 1], A[i + 2], ..., A[j])\n",
        "# i:j -> B[j] - (B[i - 1] if i - 1 >= 0 else 0)"
      ],
      "metadata": {
        "id": "kCO6SzBYs8dN"
      },
      "execution_count": 71,
      "outputs": []
    },
    {
      "cell_type": "code",
      "source": [
        "from itertools import accumulate"
      ],
      "metadata": {
        "id": "vt153mj98NEq"
      },
      "execution_count": 72,
      "outputs": []
    },
    {
      "cell_type": "code",
      "source": [
        "arr = [1, 2, 3, 4, -1, 2, -1, 4, 0]"
      ],
      "metadata": {
        "id": "fEak5VM68ULp"
      },
      "execution_count": 77,
      "outputs": []
    },
    {
      "cell_type": "code",
      "source": [
        "list(accumulate(arr, lambda x, y: x + y))"
      ],
      "metadata": {
        "colab": {
          "base_uri": "https://localhost:8080/"
        },
        "id": "HasD9ytk8WlM",
        "outputId": "5017dff5-bae4-4e98-abb9-05c198e62d7b"
      },
      "execution_count": 79,
      "outputs": [
        {
          "output_type": "execute_result",
          "data": {
            "text/plain": [
              "[1, 3, 6, 10, 9, 11, 10, 14, 14]"
            ]
          },
          "metadata": {},
          "execution_count": 79
        }
      ]
    },
    {
      "cell_type": "code",
      "source": [
        "list(accumulate(arr))"
      ],
      "metadata": {
        "colab": {
          "base_uri": "https://localhost:8080/"
        },
        "id": "K9VPQeYy8ZhT",
        "outputId": "a226000f-8650-4e38-8abb-588bb439a2d0"
      },
      "execution_count": 80,
      "outputs": [
        {
          "output_type": "execute_result",
          "data": {
            "text/plain": [
              "[1, 3, 6, 10, 9, 11, 10, 14, 14]"
            ]
          },
          "metadata": {},
          "execution_count": 80
        }
      ]
    },
    {
      "cell_type": "code",
      "source": [
        "def solve_sum_quadratic(arr, n):\n",
        "    prefix_sum = list(accumulate(arr))\n",
        "    max_len = 0\n",
        "    max_left_bound = -1\n",
        "    max_right_bound = -1\n",
        "\n",
        "    for i, acc in enumerate(prefix_sum):\n",
        "        for j in range(i + 1, len(prefix_sum)):\n",
        "            # sum(arr[i:j])\n",
        "            sum_ij = prefix_sum[j] - (prefix_sum[i - 1] if i > 0 else 0)\n",
        "            if sum_ij == n:\n",
        "                if max_len < j - i:\n",
        "                    max_len = j - i\n",
        "                    max_left_bound = i\n",
        "                    max_right_bound = j\n",
        "    return (max_left_bound, max_right_bound)"
      ],
      "metadata": {
        "id": "ECAAMeok8iUc"
      },
      "execution_count": 81,
      "outputs": []
    },
    {
      "cell_type": "code",
      "source": [
        "arr = [1, 2, 3, -4, -1, 2, -1, 4, 0]"
      ],
      "metadata": {
        "id": "-al26P5_9isN"
      },
      "execution_count": 87,
      "outputs": []
    },
    {
      "cell_type": "code",
      "source": [
        "solve_sum_quadratic(arr, 0)"
      ],
      "metadata": {
        "colab": {
          "base_uri": "https://localhost:8080/"
        },
        "id": "qdsMEHb89ebs",
        "outputId": "bd94254b-0656-499e-929b-0b6c6081734c"
      },
      "execution_count": 88,
      "outputs": [
        {
          "output_type": "execute_result",
          "data": {
            "text/plain": [
              "(3, 8)"
            ]
          },
          "metadata": {},
          "execution_count": 88
        }
      ]
    }
  ]
}