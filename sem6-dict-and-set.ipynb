{
  "nbformat": 4,
  "nbformat_minor": 0,
  "metadata": {
    "colab": {
      "provenance": []
    },
    "kernelspec": {
      "name": "python3",
      "display_name": "Python 3"
    },
    "language_info": {
      "name": "python"
    }
  },
  "cells": [
    {
      "cell_type": "markdown",
      "source": [
        "# Dict & Set"
      ],
      "metadata": {
        "id": "-gWI_LDGowER"
      }
    },
    {
      "cell_type": "code",
      "execution_count": null,
      "metadata": {
        "id": "3vsRg8qSob_-"
      },
      "outputs": [],
      "source": []
    },
    {
      "cell_type": "markdown",
      "source": [
        "### 2sum\n",
        "\n",
        "Given an array of integers nums and an integer target, return indices of the two numbers such that they add up to target."
      ],
      "metadata": {
        "id": "nMiOS1E4sSvU"
      }
    },
    {
      "cell_type": "code",
      "source": [],
      "metadata": {
        "id": "nkbV-xmisSQs"
      },
      "execution_count": null,
      "outputs": []
    },
    {
      "cell_type": "markdown",
      "source": [
        "### Сумма цифр числа рекурсией\n",
        "\n",
        "Дано число произвольного размера. Посчитайте рекурсивно сумму его цифр\n"
      ],
      "metadata": {
        "id": "LmgjeDEWsapF"
      }
    },
    {
      "cell_type": "code",
      "source": [],
      "metadata": {
        "id": "dQA_rtaPsf1u"
      },
      "execution_count": null,
      "outputs": []
    },
    {
      "cell_type": "markdown",
      "source": [
        "### Run-Length Encoding\n",
        "\n",
        "RLE -- это один из алгоритмом сжатия последовательностей.\n",
        "\n",
        "Пусть у вас есть строка `aaaaaabbbcbbdddeea`, ее можно представить в виде [(a, 6), (b, 3), (c, 1), (b, 2), (d, 3), (e, 2), (a, 1)]"
      ],
      "metadata": {
        "id": "LpHLA4icsgV_"
      }
    },
    {
      "cell_type": "code",
      "source": [],
      "metadata": {
        "id": "J45OmtjyslJk"
      },
      "execution_count": null,
      "outputs": []
    },
    {
      "cell_type": "markdown",
      "source": [
        "### Уникальные слова в тексте\n",
        "\n",
        "Вывести самые популярные слова в тексте и их количество"
      ],
      "metadata": {
        "id": "SoiayPMQsl_k"
      }
    },
    {
      "cell_type": "code",
      "source": [],
      "metadata": {
        "id": "wPjmxG2TsunV"
      },
      "execution_count": null,
      "outputs": []
    },
    {
      "cell_type": "markdown",
      "source": [
        "### Общие элементы двух списков (однострочник)\n",
        "\n",
        "Даны списки a и b. Вывести общие элементы в них"
      ],
      "metadata": {
        "id": "fO69MuOLsvUM"
      }
    },
    {
      "cell_type": "code",
      "source": [],
      "metadata": {
        "id": "19EAh_zFsygg"
      },
      "execution_count": null,
      "outputs": []
    },
    {
      "cell_type": "markdown",
      "source": [
        "### Номер появления слова\n",
        "\n",
        "\n",
        "Дан список из слов. Получить список с их номерами по порядку их появления.\n",
        "\n",
        "\n",
        "```\n",
        "word_list = ['two', 'one', 'three', 'three', 'two', 'three']\n",
        "fun(word_list) -> [1, 1, 1, 2, 2, 3]\n",
        "```\n"
      ],
      "metadata": {
        "id": "nDOus9M4szgb"
      }
    },
    {
      "cell_type": "code",
      "source": [],
      "metadata": {
        "id": "HeFTyjSKs22M"
      },
      "execution_count": null,
      "outputs": []
    },
    {
      "cell_type": "markdown",
      "source": [
        "### Непрерывный массив суммой N\n",
        "\n",
        "\n",
        "Дано: некоторый массив целых чисел и число N\n",
        "\n",
        "Задача: Найти непрерывный подмассив, сумма элементов которого равна N. И вывести длину подмассива. Если таких несколько, то вывести максимальную длину. Если не существует, то вывести 0"
      ],
      "metadata": {
        "id": "lvm77WBrs3-b"
      }
    },
    {
      "cell_type": "code",
      "source": [],
      "metadata": {
        "id": "kCO6SzBYs8dN"
      },
      "execution_count": null,
      "outputs": []
    }
  ]
}