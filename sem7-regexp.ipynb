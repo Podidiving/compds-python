{
  "nbformat": 4,
  "nbformat_minor": 0,
  "metadata": {
    "colab": {
      "provenance": []
    },
    "kernelspec": {
      "name": "python3",
      "display_name": "Python 3"
    },
    "language_info": {
      "name": "python"
    }
  },
  "cells": [
    {
      "cell_type": "markdown",
      "source": [
        "### Проверка на палиндром\n",
        "`A phrase is a palindrome if, after converting all uppercase letters into lowercase letters and removing all non-alphanumeric characters, it reads the same forward and backward. Alphanumeric characters include letters and numbers.`\n",
        "\n",
        "Given a string s, return true if it is a palindrome, or false otherwise.\n",
        "\n",
        "Напишите функцию проверки, которая принимает в качестве параметра Iterable из предложений и возвращает результат в формате: `[index of example: is palindrome,...]`"
      ],
      "metadata": {
        "id": "-bNDJvr-cvoA"
      }
    },
    {
      "cell_type": "code",
      "source": [
        "tests = [\n",
        "    'A nut for a jar of tuna.',\n",
        "    'Borrow or rob?',\n",
        "    'Was it a car or a cat I saw?',\n",
        "    '''Dennis, Nell, Edna, Leon, Nedra, Anita,\n",
        "    Rolf, Nora, Alice, Carol, Leo, Jane, Reed,\n",
        "    Dena, Dale, Basil, Rae, Penny, Lana, Dave,\n",
        "    Denny, Lena, Ida, Bernadette, Ben, Ray, Lila,\n",
        "    Nina, Jo, Ira, Mara, Sara, Mario, Jan, Ina,\n",
        "    Lily, Arne, Bette, Dan, Reba, Diane, Lynn,\n",
        "    Ed, Eva, Dana, Lynne, Pearl, Isabel, Ada, Ned,\n",
        "    Dee, Rena, Joel, Lora, Cecil, Aaron, Flora,\n",
        "    Tina, Arden, Noel, and Ellen sinned.''',\n",
        "    'Murder for a jar of red rum.'\n",
        "]"
      ],
      "metadata": {
        "id": "6CY6FfsSeq1y"
      },
      "execution_count": 1,
      "outputs": []
    },
    {
      "cell_type": "code",
      "execution_count": 2,
      "metadata": {
        "id": "ahLrwIxnbpV2"
      },
      "outputs": [],
      "source": [
        "def is_palindrom(s: str) -> bool:\n",
        "    s = \"\".join([letter for letter in s.lower() if letter.isalnum()])\n",
        "    return s==s[::-1]"
      ]
    },
    {
      "cell_type": "code",
      "source": [
        "from typing import Callable, Optional\n",
        "\n",
        "\n",
        "def test_func(func: Callable[[str, ], bool], inp: str, expected: Optional[bool] = None):\n",
        "    if expected is not None:\n",
        "        assert func(inp) == expected\n",
        "    else:\n",
        "        print(f\"Input: {inp}, result: {func(inp)}\")"
      ],
      "metadata": {
        "id": "4_ZkhK_oertM"
      },
      "execution_count": 4,
      "outputs": []
    },
    {
      "cell_type": "code",
      "source": [
        "for test in tests:\n",
        "    test_func(is_palindrom, test)"
      ],
      "metadata": {
        "colab": {
          "base_uri": "https://localhost:8080/"
        },
        "id": "oev2x4r_g-wf",
        "outputId": "b3a35b94-8e09-48a1-d655-c345b0e0f86f"
      },
      "execution_count": 5,
      "outputs": [
        {
          "output_type": "stream",
          "name": "stdout",
          "text": [
            "Input: A nut for a jar of tuna., result: True\n",
            "Input: Borrow or rob?, result: True\n",
            "Input: Was it a car or a cat I saw?, result: True\n",
            "Input: Dennis, Nell, Edna, Leon, Nedra, Anita,\n",
            "    Rolf, Nora, Alice, Carol, Leo, Jane, Reed,\n",
            "    Dena, Dale, Basil, Rae, Penny, Lana, Dave,\n",
            "    Denny, Lena, Ida, Bernadette, Ben, Ray, Lila,\n",
            "    Nina, Jo, Ira, Mara, Sara, Mario, Jan, Ina,\n",
            "    Lily, Arne, Bette, Dan, Reba, Diane, Lynn,\n",
            "    Ed, Eva, Dana, Lynne, Pearl, Isabel, Ada, Ned,\n",
            "    Dee, Rena, Joel, Lora, Cecil, Aaron, Flora,\n",
            "    Tina, Arden, Noel, and Ellen sinned., result: True\n",
            "Input: Murder for a jar of red rum., result: True\n"
          ]
        }
      ]
    },
    {
      "cell_type": "markdown",
      "source": [
        "Keyword IS"
      ],
      "metadata": {
        "id": "OVWnWlh_hLfm"
      }
    },
    {
      "cell_type": "code",
      "source": [
        "a = None\n",
        "# a = 123\n",
        "\n",
        "if a is None:\n",
        "    pass\n",
        "\n",
        "if a is not None:\n",
        "    pass"
      ],
      "metadata": {
        "id": "f4MPi5W5gb_n"
      },
      "execution_count": 7,
      "outputs": []
    },
    {
      "cell_type": "code",
      "source": [
        "a = [1,2,3]\n",
        "b = [1,2,3]\n",
        "\n",
        "print(a == b)\n",
        "print(a is b)\n",
        "print(id(a) == id(b))"
      ],
      "metadata": {
        "colab": {
          "base_uri": "https://localhost:8080/"
        },
        "id": "CXD-2ckCfgfi",
        "outputId": "51fe842a-b2c4-4c69-c55d-c4ca22d1c635"
      },
      "execution_count": 8,
      "outputs": [
        {
          "output_type": "stream",
          "name": "stdout",
          "text": [
            "True\n",
            "False\n",
            "False\n"
          ]
        }
      ]
    },
    {
      "cell_type": "code",
      "source": [
        "a = [1,2,3]\n",
        "b = a\n",
        "\n",
        "print(a == b)\n",
        "print(a is b)\n",
        "print(id(a) == id(b))"
      ],
      "metadata": {
        "colab": {
          "base_uri": "https://localhost:8080/"
        },
        "id": "mneYpUpFgOz1",
        "outputId": "a02ea951-f669-4b31-b1c8-d281ff793cf5"
      },
      "execution_count": 9,
      "outputs": [
        {
          "output_type": "stream",
          "name": "stdout",
          "text": [
            "True\n",
            "True\n",
            "True\n"
          ]
        }
      ]
    },
    {
      "cell_type": "markdown",
      "source": [
        "## Бинпоиск со сдвигом\n",
        "Дан отсортированный набор элементов с некоторым сдвигом.\n",
        "\n",
        "На вход подается элемент. Найти его индекс.\n",
        "\n",
        "`[9, 10, 11, 11, 12, 0, 1, 3, 7], х = 12`\n",
        "Ответ: 4\n",
        "\n",
        "- Подсказка: подумайте, как можно модифицировать алгоритм бинпоиска для этой задачи\n"
      ],
      "metadata": {
        "id": "WZN28GSyhNjo"
      }
    },
    {
      "cell_type": "code",
      "source": [
        "import bisect"
      ],
      "metadata": {
        "id": "OnLcJB4zfMR6"
      },
      "execution_count": 10,
      "outputs": []
    },
    {
      "cell_type": "code",
      "source": [
        "a = [7, 7, 9, 10, 11, 11, 12, 0, 1, 3, 7, 7]\n",
        "x = 12"
      ],
      "metadata": {
        "id": "8pLYor5ehg_i"
      },
      "execution_count": 11,
      "outputs": []
    },
    {
      "cell_type": "code",
      "source": [
        "def find_shift(arr: list) -> int:\n",
        "    if arr[0] < arr[-1]:\n",
        "        return -1\n",
        "    low = 0\n",
        "    high = len(arr) - 1\n",
        "\n",
        "    while low < high - 1:\n",
        "        mid = (low + high) // 2\n",
        "\n",
        "        if arr[0] >= arr[mid]:\n",
        "            high = mid\n",
        "        else:\n",
        "            low = mid\n",
        "\n",
        "    return low"
      ],
      "metadata": {
        "id": "0fONYBorh_L0"
      },
      "execution_count": 16,
      "outputs": []
    },
    {
      "cell_type": "code",
      "source": [
        "### TODO\n",
        "def bin_search_with_shift(l: list, elem: int) -> int:\n",
        "    raise NotImplementedError()"
      ],
      "metadata": {
        "id": "h9uHV3KLlXYt"
      },
      "execution_count": 19,
      "outputs": []
    },
    {
      "cell_type": "markdown",
      "source": [
        "### Регулярные выражения\n",
        "Полезные ссылки:\n",
        "\n",
        "https://habr.com/ru/post/349860/\n",
        "\n",
        "https://uneex.org/HSE/ProgrammingOS/15_Regexp\n",
        "\n",
        "https://regexone.com/\n",
        "\n",
        "https://ravesli.com/regulyarnye-vyrazheniya-osnovy/\n",
        "\n",
        "https://regex101.com/\n",
        "\n",
        "Pattern matching / searching:\n",
        "\n",
        "- Pattern -- это некоторая строка из спецсимволов, которая описывает, что мы хотим найти\n",
        "- Matching -- определение, соответствует ли строка заданному паттерну\n",
        "- Searching -- поиск подстрок, соответствующих паттерну, в тексте\n",
        "Основные правила:\n",
        "\n",
        "Общее\n",
        "\n",
        "- любой неспециальный символ матчит себя\n",
        "- \".\" матчит любой символ\n",
        "- \"[abc]\" матчит любой символ внутри множества\n",
        "- \"[A-z]\", \"[0-9]\" и прочие сокращения (множества символов подряд в таблице ascii)\n",
        "- \"a*\" -- звездочка означает 0 или больше указанных символов подряд\n",
        "- \"a+\" -- + означает 1 или более указанных символов подряд\n",
        "- \"a{2,}\" -- N или больше символов подряд\n",
        "- \"a?\" -- один или ни одного\n",
        "- \"a{1, 5}\" -- в фигурных скобках можно указать точное количество. Левая цифра означает минимальное, правая -- максимальное\n",
        "- \"^regexp\" -- только подстроки в начале строки\n",
        "- \"rgexp$\" -- только подстроки, находящиеся в конце строки\n",
        "Специальные обобщающие символы\n",
        "\n",
        "\\{small_letter} -- специальный символ \\{big_letter} -- любой символ кроме специального символа\n",
        "\n",
        "- \\s -- пробельные символы\n",
        "- \\d -- цифра\n",
        "- \\w -- буква или _\n"
      ],
      "metadata": {
        "id": "hBJhU6sdl86b"
      }
    },
    {
      "cell_type": "markdown",
      "source": [
        "#### Примеры"
      ],
      "metadata": {
        "id": "4dqKLZtknTvM"
      }
    },
    {
      "cell_type": "code",
      "source": [
        "import re"
      ],
      "metadata": {
        "id": "OxfMVrBJnXC4"
      },
      "execution_count": 23,
      "outputs": []
    },
    {
      "cell_type": "code",
      "source": [
        "original = \"Hello World! hello\""
      ],
      "metadata": {
        "id": "R04L9AqLnY_2"
      },
      "execution_count": 26,
      "outputs": []
    },
    {
      "cell_type": "code",
      "source": [
        "pattern = re.compile(\"[hH]ello\")\n",
        "m = pattern.match(original)\n",
        "m"
      ],
      "metadata": {
        "colab": {
          "base_uri": "https://localhost:8080/"
        },
        "id": "ufJI6joKng2F",
        "outputId": "2edec1fe-3cc0-402a-f3ea-d25521c271b7"
      },
      "execution_count": 29,
      "outputs": [
        {
          "output_type": "execute_result",
          "data": {
            "text/plain": [
              "<re.Match object; span=(0, 5), match='Hello'>"
            ]
          },
          "metadata": {},
          "execution_count": 29
        }
      ]
    },
    {
      "cell_type": "code",
      "source": [
        "m.start(), m.end(), original[m.start():m.end()]"
      ],
      "metadata": {
        "colab": {
          "base_uri": "https://localhost:8080/"
        },
        "id": "MzKANhGNolo6",
        "outputId": "2966121e-0017-417b-b7ff-78a10c56d621"
      },
      "execution_count": 31,
      "outputs": [
        {
          "output_type": "execute_result",
          "data": {
            "text/plain": [
              "(0, 5, 'Hello')"
            ]
          },
          "metadata": {},
          "execution_count": 31
        }
      ]
    },
    {
      "cell_type": "code",
      "source": [
        "pattern.findall(original)"
      ],
      "metadata": {
        "colab": {
          "base_uri": "https://localhost:8080/"
        },
        "id": "VhKGKrz4oVy2",
        "outputId": "973cfb5f-c683-4a64-87b3-a98dca418de3"
      },
      "execution_count": 28,
      "outputs": [
        {
          "output_type": "execute_result",
          "data": {
            "text/plain": [
              "['Hello', 'hello']"
            ]
          },
          "metadata": {},
          "execution_count": 28
        }
      ]
    },
    {
      "cell_type": "code",
      "source": [
        "original = \"Hello World!\"\n",
        "pattern = r\"[hH]ello,? [A-z]+[.!]?$\"\n",
        "m = re.match(pattern, original)"
      ],
      "metadata": {
        "id": "WEK3eTsIoeAn"
      },
      "execution_count": 44,
      "outputs": []
    },
    {
      "cell_type": "code",
      "source": [
        "m.group()"
      ],
      "metadata": {
        "colab": {
          "base_uri": "https://localhost:8080/",
          "height": 35
        },
        "id": "8H7696Mupc7K",
        "outputId": "4fe1cf24-87ee-49bf-ac84-6ee6ee2fcba1"
      },
      "execution_count": 45,
      "outputs": [
        {
          "output_type": "execute_result",
          "data": {
            "text/plain": [
              "'Hello World!'"
            ],
            "application/vnd.google.colaboratory.intrinsic+json": {
              "type": "string"
            }
          },
          "metadata": {},
          "execution_count": 45
        }
      ]
    },
    {
      "cell_type": "code",
      "source": [
        "original = \"Hello World! hello All!\"\n",
        "pattern = r\"\\s*([hH]ello,?) ([A-z]+)[.!]?\"\n",
        "m = re.match(pattern, original)\n",
        "m2 = re.match(pattern, original[m.end():])"
      ],
      "metadata": {
        "id": "x6gVD_08pi9v"
      },
      "execution_count": 76,
      "outputs": []
    },
    {
      "cell_type": "code",
      "source": [
        "m.groups()"
      ],
      "metadata": {
        "colab": {
          "base_uri": "https://localhost:8080/"
        },
        "id": "o8ZaBe3upqy9",
        "outputId": "6b187d4e-3b3f-4867-a86c-d9fb97754e2c"
      },
      "execution_count": 77,
      "outputs": [
        {
          "output_type": "execute_result",
          "data": {
            "text/plain": [
              "('Hello', 'World')"
            ]
          },
          "metadata": {},
          "execution_count": 77
        }
      ]
    },
    {
      "cell_type": "code",
      "source": [
        "m2.groups()"
      ],
      "metadata": {
        "colab": {
          "base_uri": "https://localhost:8080/"
        },
        "id": "JEQTlVxsqo8j",
        "outputId": "353718b7-3eda-4d96-b2cf-24c3dcdb975a"
      },
      "execution_count": 78,
      "outputs": [
        {
          "output_type": "execute_result",
          "data": {
            "text/plain": [
              "('hello', 'All')"
            ]
          },
          "metadata": {},
          "execution_count": 78
        }
      ]
    },
    {
      "cell_type": "code",
      "source": [
        "re.findall(r'\\d{1,}', 'rfhe97346fevbv78')"
      ],
      "metadata": {
        "colab": {
          "base_uri": "https://localhost:8080/"
        },
        "id": "EeaXT8KirA6h",
        "outputId": "dd8e6ad6-ecde-4263-8a89-732c275803c6"
      },
      "execution_count": 79,
      "outputs": [
        {
          "output_type": "execute_result",
          "data": {
            "text/plain": [
              "['97346', '78']"
            ]
          },
          "metadata": {},
          "execution_count": 79
        }
      ]
    },
    {
      "cell_type": "code",
      "source": [
        "re.search(r'\\d{1,3}', 'rfhe97346fevbv78')"
      ],
      "metadata": {
        "colab": {
          "base_uri": "https://localhost:8080/"
        },
        "id": "yI7moicurJ_7",
        "outputId": "493a0fcb-b26b-4fd2-febb-cf47932a95d4"
      },
      "execution_count": 81,
      "outputs": [
        {
          "output_type": "execute_result",
          "data": {
            "text/plain": [
              "<re.Match object; span=(4, 7), match='973'>"
            ]
          },
          "metadata": {},
          "execution_count": 81
        }
      ]
    },
    {
      "cell_type": "code",
      "source": [
        "re.sub(r\"\\d{3,5}\", \"digits\", \"rfhe97346fevbv78\")"
      ],
      "metadata": {
        "colab": {
          "base_uri": "https://localhost:8080/",
          "height": 35
        },
        "id": "tPNrKdDHrOcm",
        "outputId": "2f382c5e-87ef-414d-cd3b-5ce931991cba"
      },
      "execution_count": 83,
      "outputs": [
        {
          "output_type": "execute_result",
          "data": {
            "text/plain": [
              "'rfhedigitsfevbv78'"
            ],
            "application/vnd.google.colaboratory.intrinsic+json": {
              "type": "string"
            }
          },
          "metadata": {},
          "execution_count": 83
        }
      ]
    },
    {
      "cell_type": "markdown",
      "source": [
        "#### Lookarounds"
      ],
      "metadata": {
        "id": "AfKjtI6_rdfc"
      }
    },
    {
      "cell_type": "code",
      "source": [
        "er_words = 'math teacher physics teacher scheduler funny monster creepy monster'"
      ],
      "metadata": {
        "id": "-KDLLgRKrXaW"
      },
      "execution_count": 84,
      "outputs": []
    },
    {
      "cell_type": "code",
      "source": [],
      "metadata": {
        "id": "Xapj39aVrgTZ"
      },
      "execution_count": 95,
      "outputs": []
    },
    {
      "cell_type": "code",
      "source": [
        "# positive lookaround\n",
        "for m in re.finditer(r\"\\w+ (?=teacher)\", er_words):\n",
        "    print(er_words[m.start():m.end()])"
      ],
      "metadata": {
        "colab": {
          "base_uri": "https://localhost:8080/"
        },
        "id": "SHmWP1kRr3-Q",
        "outputId": "f7e5bab5-7313-4a09-cca3-454a1f1bc6f2"
      },
      "execution_count": 96,
      "outputs": [
        {
          "output_type": "stream",
          "name": "stdout",
          "text": [
            "math \n",
            "physics \n"
          ]
        }
      ]
    },
    {
      "cell_type": "code",
      "source": [
        "# positive lookbehind\n",
        "for m in re.finditer(r\"(?<=teacher) \\w+\", er_words):\n",
        "    print(er_words[m.start():m.end()])"
      ],
      "metadata": {
        "colab": {
          "base_uri": "https://localhost:8080/"
        },
        "id": "pL5EqEyehb4S",
        "outputId": "00b455a0-b233-4d7c-d492-86f99e1d1331"
      },
      "execution_count": 97,
      "outputs": [
        {
          "output_type": "stream",
          "name": "stdout",
          "text": [
            " physics\n",
            " scheduler\n"
          ]
        }
      ]
    },
    {
      "cell_type": "code",
      "source": [
        "text = 'Продам отличный автомобиль внедорожник не бит, не крашен фиолетовый!!'\n",
        "stopwords = ['продам', 'отличный', 'авто', 'хороший']\n",
        "\n",
        "# A|B|C|D ....\n",
        "stops = \"|\".join([fr\"\\b{stopword}\\b\" for stopword in stopwords])\n",
        "\n",
        "re.sub(stops, \"\", text, flags=re.IGNORECASE)"
      ],
      "metadata": {
        "colab": {
          "base_uri": "https://localhost:8080/",
          "height": 35
        },
        "id": "DIovSA0ssi99",
        "outputId": "dba1b326-a53b-4d0c-fc7f-bacda6ca01d5"
      },
      "execution_count": 100,
      "outputs": [
        {
          "output_type": "execute_result",
          "data": {
            "text/plain": [
              "'  автомобиль внедорожник не бит, не крашен фиолетовый!!'"
            ],
            "application/vnd.google.colaboratory.intrinsic+json": {
              "type": "string"
            }
          },
          "metadata": {},
          "execution_count": 100
        }
      ]
    },
    {
      "cell_type": "code",
      "source": [],
      "metadata": {
        "id": "VRhiNzXytRmg"
      },
      "execution_count": null,
      "outputs": []
    }
  ]
}